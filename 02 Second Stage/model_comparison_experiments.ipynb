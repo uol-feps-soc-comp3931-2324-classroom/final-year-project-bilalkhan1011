{
  "cells": [
    {
      "cell_type": "code",
      "source": [
        "%pip install wfdb numpy pandas matplotlib tensorflow imbalanced-learn seaborn"
      ],
      "outputs": [
        {
          "output_type": "stream",
          "name": "stdout",
          "text": [
            "Collecting wfdb\n",
            "  Downloading wfdb-4.1.2-py3-none-any.whl (159 kB)\n",
            "\u001b[?25l     \u001b[90m━━━━━━━━━━━━━━━━━━━━━━━━━━━━━━━━━━━━━━━━\u001b[0m \u001b[32m0.0/160.0 kB\u001b[0m \u001b[31m?\u001b[0m eta \u001b[36m-:--:--\u001b[0m\r\u001b[2K     \u001b[91m━━━━━━━━━━━━━━━\u001b[0m\u001b[90m╺\u001b[0m\u001b[90m━━━━━━━━━━━━━━━━━━━━━━━━\u001b[0m \u001b[32m61.4/160.0 kB\u001b[0m \u001b[31m1.7 MB/s\u001b[0m eta \u001b[36m0:00:01\u001b[0m\r\u001b[2K     \u001b[90m━━━━━━━━━━━━━━━━━━━━━━━━━━━━━━━━━━━━━━━━\u001b[0m \u001b[32m160.0/160.0 kB\u001b[0m \u001b[31m2.2 MB/s\u001b[0m eta \u001b[36m0:00:00\u001b[0m\n",
            "\u001b[?25hRequirement already satisfied: numpy in /usr/local/lib/python3.10/dist-packages (1.25.2)\n",
            "Requirement already satisfied: pandas in /usr/local/lib/python3.10/dist-packages (2.0.3)\n",
            "Requirement already satisfied: matplotlib in /usr/local/lib/python3.10/dist-packages (3.7.1)\n",
            "Requirement already satisfied: tensorflow in /usr/local/lib/python3.10/dist-packages (2.15.0)\n",
            "Requirement already satisfied: imbalanced-learn in /usr/local/lib/python3.10/dist-packages (0.10.1)\n",
            "Requirement already satisfied: seaborn in /usr/local/lib/python3.10/dist-packages (0.13.1)\n",
            "Requirement already satisfied: SoundFile>=0.10.0 in /usr/local/lib/python3.10/dist-packages (from wfdb) (0.12.1)\n",
            "Requirement already satisfied: requests>=2.8.1 in /usr/local/lib/python3.10/dist-packages (from wfdb) (2.31.0)\n",
            "Requirement already satisfied: scipy>=1.0.0 in /usr/local/lib/python3.10/dist-packages (from wfdb) (1.11.4)\n",
            "Requirement already satisfied: python-dateutil>=2.8.2 in /usr/local/lib/python3.10/dist-packages (from pandas) (2.8.2)\n",
            "Requirement already satisfied: pytz>=2020.1 in /usr/local/lib/python3.10/dist-packages (from pandas) (2023.4)\n",
            "Requirement already satisfied: tzdata>=2022.1 in /usr/local/lib/python3.10/dist-packages (from pandas) (2024.1)\n",
            "Requirement already satisfied: contourpy>=1.0.1 in /usr/local/lib/python3.10/dist-packages (from matplotlib) (1.2.1)\n",
            "Requirement already satisfied: cycler>=0.10 in /usr/local/lib/python3.10/dist-packages (from matplotlib) (0.12.1)\n",
            "Requirement already satisfied: fonttools>=4.22.0 in /usr/local/lib/python3.10/dist-packages (from matplotlib) (4.51.0)\n",
            "Requirement already satisfied: kiwisolver>=1.0.1 in /usr/local/lib/python3.10/dist-packages (from matplotlib) (1.4.5)\n",
            "Requirement already satisfied: packaging>=20.0 in /usr/local/lib/python3.10/dist-packages (from matplotlib) (24.0)\n",
            "Requirement already satisfied: pillow>=6.2.0 in /usr/local/lib/python3.10/dist-packages (from matplotlib) (9.4.0)\n",
            "Requirement already satisfied: pyparsing>=2.3.1 in /usr/local/lib/python3.10/dist-packages (from matplotlib) (3.1.2)\n",
            "Requirement already satisfied: absl-py>=1.0.0 in /usr/local/lib/python3.10/dist-packages (from tensorflow) (1.4.0)\n",
            "Requirement already satisfied: astunparse>=1.6.0 in /usr/local/lib/python3.10/dist-packages (from tensorflow) (1.6.3)\n",
            "Requirement already satisfied: flatbuffers>=23.5.26 in /usr/local/lib/python3.10/dist-packages (from tensorflow) (24.3.25)\n",
            "Requirement already satisfied: gast!=0.5.0,!=0.5.1,!=0.5.2,>=0.2.1 in /usr/local/lib/python3.10/dist-packages (from tensorflow) (0.5.4)\n",
            "Requirement already satisfied: google-pasta>=0.1.1 in /usr/local/lib/python3.10/dist-packages (from tensorflow) (0.2.0)\n",
            "Requirement already satisfied: h5py>=2.9.0 in /usr/local/lib/python3.10/dist-packages (from tensorflow) (3.9.0)\n",
            "Requirement already satisfied: libclang>=13.0.0 in /usr/local/lib/python3.10/dist-packages (from tensorflow) (18.1.1)\n",
            "Requirement already satisfied: ml-dtypes~=0.2.0 in /usr/local/lib/python3.10/dist-packages (from tensorflow) (0.2.0)\n",
            "Requirement already satisfied: opt-einsum>=2.3.2 in /usr/local/lib/python3.10/dist-packages (from tensorflow) (3.3.0)\n",
            "Requirement already satisfied: protobuf!=4.21.0,!=4.21.1,!=4.21.2,!=4.21.3,!=4.21.4,!=4.21.5,<5.0.0dev,>=3.20.3 in /usr/local/lib/python3.10/dist-packages (from tensorflow) (3.20.3)\n",
            "Requirement already satisfied: setuptools in /usr/local/lib/python3.10/dist-packages (from tensorflow) (67.7.2)\n",
            "Requirement already satisfied: six>=1.12.0 in /usr/local/lib/python3.10/dist-packages (from tensorflow) (1.16.0)\n",
            "Requirement already satisfied: termcolor>=1.1.0 in /usr/local/lib/python3.10/dist-packages (from tensorflow) (2.4.0)\n",
            "Requirement already satisfied: typing-extensions>=3.6.6 in /usr/local/lib/python3.10/dist-packages (from tensorflow) (4.11.0)\n",
            "Requirement already satisfied: wrapt<1.15,>=1.11.0 in /usr/local/lib/python3.10/dist-packages (from tensorflow) (1.14.1)\n",
            "Requirement already satisfied: tensorflow-io-gcs-filesystem>=0.23.1 in /usr/local/lib/python3.10/dist-packages (from tensorflow) (0.36.0)\n",
            "Requirement already satisfied: grpcio<2.0,>=1.24.3 in /usr/local/lib/python3.10/dist-packages (from tensorflow) (1.62.1)\n",
            "Requirement already satisfied: tensorboard<2.16,>=2.15 in /usr/local/lib/python3.10/dist-packages (from tensorflow) (2.15.2)\n",
            "Requirement already satisfied: tensorflow-estimator<2.16,>=2.15.0 in /usr/local/lib/python3.10/dist-packages (from tensorflow) (2.15.0)\n",
            "Requirement already satisfied: keras<2.16,>=2.15.0 in /usr/local/lib/python3.10/dist-packages (from tensorflow) (2.15.0)\n",
            "Requirement already satisfied: scikit-learn>=1.0.2 in /usr/local/lib/python3.10/dist-packages (from imbalanced-learn) (1.2.2)\n",
            "Requirement already satisfied: joblib>=1.1.1 in /usr/local/lib/python3.10/dist-packages (from imbalanced-learn) (1.4.0)\n",
            "Requirement already satisfied: threadpoolctl>=2.0.0 in /usr/local/lib/python3.10/dist-packages (from imbalanced-learn) (3.4.0)\n",
            "Requirement already satisfied: wheel<1.0,>=0.23.0 in /usr/local/lib/python3.10/dist-packages (from astunparse>=1.6.0->tensorflow) (0.43.0)\n",
            "Requirement already satisfied: charset-normalizer<4,>=2 in /usr/local/lib/python3.10/dist-packages (from requests>=2.8.1->wfdb) (3.3.2)\n",
            "Requirement already satisfied: idna<4,>=2.5 in /usr/local/lib/python3.10/dist-packages (from requests>=2.8.1->wfdb) (3.7)\n",
            "Requirement already satisfied: urllib3<3,>=1.21.1 in /usr/local/lib/python3.10/dist-packages (from requests>=2.8.1->wfdb) (2.0.7)\n",
            "Requirement already satisfied: certifi>=2017.4.17 in /usr/local/lib/python3.10/dist-packages (from requests>=2.8.1->wfdb) (2024.2.2)\n",
            "Requirement already satisfied: cffi>=1.0 in /usr/local/lib/python3.10/dist-packages (from SoundFile>=0.10.0->wfdb) (1.16.0)\n",
            "Requirement already satisfied: google-auth<3,>=1.6.3 in /usr/local/lib/python3.10/dist-packages (from tensorboard<2.16,>=2.15->tensorflow) (2.27.0)\n",
            "Requirement already satisfied: google-auth-oauthlib<2,>=0.5 in /usr/local/lib/python3.10/dist-packages (from tensorboard<2.16,>=2.15->tensorflow) (1.2.0)\n",
            "Requirement already satisfied: markdown>=2.6.8 in /usr/local/lib/python3.10/dist-packages (from tensorboard<2.16,>=2.15->tensorflow) (3.6)\n",
            "Requirement already satisfied: tensorboard-data-server<0.8.0,>=0.7.0 in /usr/local/lib/python3.10/dist-packages (from tensorboard<2.16,>=2.15->tensorflow) (0.7.2)\n",
            "Requirement already satisfied: werkzeug>=1.0.1 in /usr/local/lib/python3.10/dist-packages (from tensorboard<2.16,>=2.15->tensorflow) (3.0.2)\n",
            "Requirement already satisfied: pycparser in /usr/local/lib/python3.10/dist-packages (from cffi>=1.0->SoundFile>=0.10.0->wfdb) (2.22)\n",
            "Requirement already satisfied: cachetools<6.0,>=2.0.0 in /usr/local/lib/python3.10/dist-packages (from google-auth<3,>=1.6.3->tensorboard<2.16,>=2.15->tensorflow) (5.3.3)\n",
            "Requirement already satisfied: pyasn1-modules>=0.2.1 in /usr/local/lib/python3.10/dist-packages (from google-auth<3,>=1.6.3->tensorboard<2.16,>=2.15->tensorflow) (0.4.0)\n",
            "Requirement already satisfied: rsa<5,>=3.1.4 in /usr/local/lib/python3.10/dist-packages (from google-auth<3,>=1.6.3->tensorboard<2.16,>=2.15->tensorflow) (4.9)\n",
            "Requirement already satisfied: requests-oauthlib>=0.7.0 in /usr/local/lib/python3.10/dist-packages (from google-auth-oauthlib<2,>=0.5->tensorboard<2.16,>=2.15->tensorflow) (1.3.1)\n",
            "Requirement already satisfied: MarkupSafe>=2.1.1 in /usr/local/lib/python3.10/dist-packages (from werkzeug>=1.0.1->tensorboard<2.16,>=2.15->tensorflow) (2.1.5)\n",
            "Requirement already satisfied: pyasn1<0.7.0,>=0.4.6 in /usr/local/lib/python3.10/dist-packages (from pyasn1-modules>=0.2.1->google-auth<3,>=1.6.3->tensorboard<2.16,>=2.15->tensorflow) (0.6.0)\n",
            "Requirement already satisfied: oauthlib>=3.0.0 in /usr/local/lib/python3.10/dist-packages (from requests-oauthlib>=0.7.0->google-auth-oauthlib<2,>=0.5->tensorboard<2.16,>=2.15->tensorflow) (3.2.2)\n",
            "Installing collected packages: wfdb\n",
            "Successfully installed wfdb-4.1.2\n"
          ]
        }
      ],
      "execution_count": null,
      "metadata": {
        "colab": {
          "base_uri": "https://localhost:8080/"
        },
        "id": "75bc0884",
        "outputId": "5d6dfee5-f37c-42d7-ed63-96c2fd61a94f",
        "scrolled": false
      },
      "id": "75bc0884"
    },
    {
      "cell_type": "code",
      "source": [
        "from google.colab import drive\n",
        "drive.mount('/content/drive')"
      ],
      "metadata": {
        "colab": {
          "base_uri": "https://localhost:8080/"
        },
        "id": "guiGoWlXhf-6",
        "outputId": "2cf27140-db9d-464e-ca72-91a5294c9a4e"
      },
      "id": "guiGoWlXhf-6",
      "execution_count": null,
      "outputs": [
        {
          "output_type": "stream",
          "name": "stdout",
          "text": [
            "Mounted at /content/drive\n"
          ]
        }
      ]
    },
    {
      "cell_type": "code",
      "source": [
        "import os\n",
        "import wfdb\n",
        "import numpy as np\n",
        "import pandas as pd\n",
        "\n",
        "data = '/content/drive/MyDrive/mitdb1'\n",
        "\n",
        "\n",
        "patients = [f.split('.')[0] for f in os.listdir(data) if f.endswith('.hea')]\n",
        "patients = np.sort(patients)\n",
        "labels_df = pd.DataFrame()\n",
        "\n",
        "for pat_id in patients:\n",
        "    file = os.path.join(data, pat_id)\n",
        "    annotation = wfdb.rdann(file, 'atr')\n",
        "\n",
        "    #sym is the annotated symbol read from the file\n",
        "    labels = annotation.symbol\n",
        "\n",
        "    #values is the different symbols in each patient\n",
        "    #counts is the number of each symbol for said patient\n",
        "    vals, cts = np.unique(labels, return_counts=True)\n",
        "\n",
        "    #df_sub is a mini lil dataframe for each individual patient\n",
        "    df_per_pat = pd.DataFrame({'Symbol':vals, 'Counts':cts, 'Patient':[pat_id]*len(cts)})\n",
        "    labels_df = pd.concat([labels_df, df_per_pat],axis = 0)\n",
        "\n",
        "labels_df.groupby('Symbol').Counts.sum().sort_values(ascending = False)"
      ],
      "outputs": [
        {
          "output_type": "execute_result",
          "data": {
            "text/plain": [
              "Symbol\n",
              "N    75052\n",
              "L     8075\n",
              "R     7259\n",
              "V     7130\n",
              "/     7028\n",
              "A     2546\n",
              "+     1291\n",
              "f      982\n",
              "F      803\n",
              "~      616\n",
              "!      472\n",
              "\"      437\n",
              "j      229\n",
              "x      193\n",
              "a      150\n",
              "|      132\n",
              "E      106\n",
              "J       83\n",
              "Q       33\n",
              "e       16\n",
              "[        6\n",
              "]        6\n",
              "S        2\n",
              "Name: Counts, dtype: int64"
            ]
          },
          "metadata": {},
          "execution_count": 3
        }
      ],
      "execution_count": null,
      "metadata": {
        "colab": {
          "base_uri": "https://localhost:8080/"
        },
        "id": "8af333f6",
        "outputId": "266151f7-600d-4ec8-cc3a-246990eddaea",
        "scrolled": false,
        "gather": {
          "logged": 1713522040668
        }
      },
      "id": "8af333f6"
    },
    {
      "cell_type": "code",
      "source": [
        "AAMI_labels = [['N', 'L', 'R', 'e'], ['V', 'E'], ['S', 'J', 'A', 'a'], ['F'], ['/', 'f', 'j', 'a']]\n",
        "\n",
        "classes = ['Normal', 'Ventricular', 'Supraventricular', 'Fusion', 'Other']"
      ],
      "outputs": [],
      "execution_count": null,
      "metadata": {
        "id": "6fde478a",
        "gather": {
          "logged": 1713522040764
        }
      },
      "id": "6fde478a"
    },
    {
      "cell_type": "code",
      "source": [
        "# used to load in the entire ECG dataset,\n",
        "# get the signal and label,\n",
        "# read the symbols and signal\n",
        "\n",
        "def load_ecg(file):\n",
        "\n",
        "    record = wfdb.rdrecord(file)\n",
        "    annotation = wfdb.rdann(file, 'atr')\n",
        "    p_signal = record.p_signal\n",
        "    symbol_ann = annotation.symbol\n",
        "    sample_ann = annotation.sample\n",
        "\n",
        "    return p_signal, symbol_ann, sample_ann"
      ],
      "outputs": [],
      "execution_count": null,
      "metadata": {
        "id": "ddefbdac",
        "gather": {
          "logged": 1713522040841
        }
      },
      "id": "ddefbdac"
    },
    {
      "cell_type": "code",
      "source": [
        "# creates dataset for model training\n",
        "\n",
        "def make_dataset(patients, seconds, frequency, classes):\n",
        "\n",
        "  #set number of data points\n",
        "  columns = 2 * seconds * frequency\n",
        "  data_X = np.zeros((1,columns))\n",
        "  data_Y = np.zeros((1,len(classes)))\n",
        "  data_Labels = []\n",
        "\n",
        "  rows_per_patient = []\n",
        "\n",
        "  for pat in patients:\n",
        "    file = os.path.join(data, pat)\n",
        "    p_signal, symbol_ann, sample_ann = load_ecg(file)\n",
        "\n",
        "    # only using one lead for simplicity\n",
        "    p_signal = p_signal[:,0]\n",
        "\n",
        "    # make df without the noise symbols\n",
        "    df_data = pd.DataFrame({'symbol_ann':symbol_ann, 'sample_ann':sample_ann})\n",
        "    #df_data = df_data.loc[df_data.symbol_ann.isin(classes)]\n",
        "    df_data['symbol_ann'] = df_data['symbol_ann'].apply(lambda x: next((class_name for class_name, label_list in zip(classes, AAMI_labels) if x in label_list), 'Other'))\n",
        "\n",
        "\n",
        "\n",
        "    rows = len(df_data)\n",
        "    X = np.zeros((rows, columns))\n",
        "    Y = np.zeros((rows,len(classes)))\n",
        "    symbs = []\n",
        "\n",
        "    # keep track of rows\n",
        "    maximum_rows = 0\n",
        "\n",
        "    for sample_ann, symbol_ann in zip(df_data.sample_ann.values,df_data.symbol_ann.values):\n",
        "        left = max([0,(sample_ann - seconds * frequency) ])\n",
        "        right = min([len(p_signal),(sample_ann + seconds * frequency) ])\n",
        "        x = p_signal[left: right]\n",
        "        if len(x) == columns:\n",
        "            X[maximum_rows,:] = x\n",
        "            class_index = classes.index(symbol_ann)\n",
        "            Y[maximum_rows, class_index] = 1\n",
        "            maximum_rows += 1\n",
        "\n",
        "    X = X[:maximum_rows,:]\n",
        "    Y = Y[:maximum_rows,:]\n",
        "\n",
        "    data_Labels += df_data['symbol_ann'].tolist()\n",
        "    data_X = np.append(data_X,X,axis = 0)\n",
        "    data_Y = np.append(data_Y,Y,axis = 0)\n",
        "\n",
        "  data_X = data_X[1:,:]\n",
        "  data_Y = data_Y[1:,:]\n",
        "\n",
        "  return data_X, data_Y, data_Labels"
      ],
      "outputs": [],
      "execution_count": null,
      "metadata": {
        "id": "e7fbef45",
        "gather": {
          "logged": 1713522040903
        }
      },
      "id": "e7fbef45"
    },
    {
      "cell_type": "code",
      "source": [
        "X_data, Y_data, symbol_data = make_dataset(patients, 3, 360, classes)"
      ],
      "outputs": [],
      "execution_count": null,
      "metadata": {
        "id": "1ebe0026",
        "scrolled": false,
        "gather": {
          "logged": 1713522073814
        }
      },
      "id": "1ebe0026"
    },
    {
      "cell_type": "code",
      "source": [
        "from sklearn.model_selection import train_test_split\n",
        "\n",
        "\n",
        "X_train, X_temp, y_train, y_temp = train_test_split(X_data, Y_data, test_size=0.3, random_state=42)\n",
        "X_valid, X_test, y_valid, y_test = train_test_split(X_temp, y_temp, test_size=0.5, random_state=42)"
      ],
      "outputs": [],
      "execution_count": null,
      "metadata": {
        "id": "b25e5f5d",
        "gather": {
          "logged": 1713522081626
        }
      },
      "id": "b25e5f5d"
    },
    {
      "cell_type": "code",
      "source": [
        "import tensorflow as tf\n",
        "from tensorflow.keras import layers, models,regularizers\n",
        "import time\n",
        "\n",
        "\n",
        "X_train_cnn = np.reshape(X_train, (X_train.shape[0], X_train.shape[1], 1))\n",
        "X_valid_cnn = np.reshape(X_valid, (X_valid.shape[0], X_valid.shape[1], 1))\n",
        "X_test_cnn = np.reshape(X_test, (X_test.shape[0], X_test.shape[1], 1))\n",
        "\n",
        "\n",
        "\n",
        "model_cnn = models.Sequential([\n",
        "    layers.Conv1D(16, 3, activation='relu', input_shape=(2160, 1), kernel_regularizer=regularizers.l2(0.001)),\n",
        "    layers.MaxPooling1D(4),\n",
        "    layers.Conv1D(8, 3, activation='relu', kernel_regularizer=regularizers.l2(0.001)),\n",
        "    layers.MaxPooling1D(4),\n",
        "    layers.Flatten(),\n",
        "    layers.Dense(len(classes), activation='softmax')\n",
        "])\n",
        "\n",
        "\n",
        "model_cnn.compile(optimizer='adam', loss='categorical_crossentropy', metrics=['accuracy'])\n",
        "\n",
        "model_cnn.summary()\n",
        "\n",
        "\n",
        "start_time = time.time()\n",
        "model_cnn.fit(X_train_cnn, y_train, epochs=5, validation_data=(X_valid_cnn, y_valid), batch_size=32)\n",
        "print(f\"Training Time: {time.time() - start_time:.2f} seconds\")\n",
        "test_loss, test_accuracy = model_cnn.evaluate(X_test_cnn, y_test)\n",
        "print(f\"Test Accuracy: {test_accuracy}\")\n",
        "print(f\"Test Loss: {test_loss}\")\n",
        "\n"
      ],
      "outputs": [
        {
          "output_type": "stream",
          "name": "stdout",
          "text": [
            "Model: \"sequential_17\"\n",
            "_________________________________________________________________\n",
            " Layer (type)                Output Shape              Param #   \n",
            "=================================================================\n",
            " conv1d_20 (Conv1D)          (None, 2158, 16)          64        \n",
            "                                                                 \n",
            " max_pooling1d_12 (MaxPooli  (None, 539, 16)           0         \n",
            " ng1D)                                                           \n",
            "                                                                 \n",
            " conv1d_21 (Conv1D)          (None, 537, 8)            392       \n",
            "                                                                 \n",
            " max_pooling1d_13 (MaxPooli  (None, 134, 8)            0         \n",
            " ng1D)                                                           \n",
            "                                                                 \n",
            " flatten_13 (Flatten)        (None, 1072)              0         \n",
            "                                                                 \n",
            " dense_34 (Dense)            (None, 5)                 5365      \n",
            "                                                                 \n",
            "=================================================================\n",
            "Total params: 5821 (22.74 KB)\n",
            "Trainable params: 5821 (22.74 KB)\n",
            "Non-trainable params: 0 (0.00 Byte)\n",
            "_________________________________________________________________\n",
            "Epoch 1/5\n",
            "2456/2456 [==============================] - 74s 30ms/step - loss: 0.2465 - accuracy: 0.9327 - val_loss: 0.1685 - val_accuracy: 0.9567\n",
            "Epoch 2/5\n",
            "2456/2456 [==============================] - 75s 31ms/step - loss: 0.1567 - accuracy: 0.9594 - val_loss: 0.1499 - val_accuracy: 0.9622\n",
            "Epoch 3/5\n",
            "2456/2456 [==============================] - 75s 30ms/step - loss: 0.1373 - accuracy: 0.9649 - val_loss: 0.1345 - val_accuracy: 0.9669\n",
            "Epoch 4/5\n",
            "2456/2456 [==============================] - 74s 30ms/step - loss: 0.1268 - accuracy: 0.9676 - val_loss: 0.1292 - val_accuracy: 0.9686\n",
            "Epoch 5/5\n",
            "2456/2456 [==============================] - 75s 30ms/step - loss: 0.1194 - accuracy: 0.9699 - val_loss: 0.1202 - val_accuracy: 0.9701\n",
            "Training Time: 384.27 seconds\n",
            "527/527 [==============================] - 5s 10ms/step - loss: 0.1316 - accuracy: 0.9683\n",
            "Test Accuracy: 0.968339741230011\n",
            "Test Loss: 0.1315673440694809\n"
          ]
        }
      ],
      "execution_count": null,
      "metadata": {
        "jupyter": {
          "source_hidden": false,
          "outputs_hidden": false
        },
        "nteract": {
          "transient": {
            "deleting": false
          }
        },
        "colab": {
          "base_uri": "https://localhost:8080/"
        },
        "id": "53a33343-3db5-4cb2-bbbd-b67c7f9d5abe",
        "outputId": "77841b36-bd23-4afd-8512-f94ca47c8da8"
      },
      "id": "53a33343-3db5-4cb2-bbbd-b67c7f9d5abe"
    },
    {
      "cell_type": "code",
      "source": [
        "from sklearn.metrics import confusion_matrix\n",
        "import seaborn as sns\n",
        "import matplotlib.pyplot as plt\n",
        "\n",
        "y_pred = model_cnn.predict(X_test_cnn)\n",
        "y_pred_classes = np.argmax(y_pred, axis=1)\n",
        "\n",
        "# Convert y_valid from one-hot encoded to class labels\n",
        "y_valid_classes = np.argmax(y_test, axis=1)\n",
        "\n",
        "# Compute confusion matrix\n",
        "conf_matrix = confusion_matrix(y_valid_classes, y_pred_classes)\n",
        "\n",
        "# Visualize the confusion matrix using a heatmap\n",
        "plt.figure(figsize=(8, 6))\n",
        "sns.heatmap(conf_matrix, annot=True, fmt='d', cmap='Blues', cbar=True,\n",
        "            xticklabels=classes,  # Replace with your class labels\n",
        "            yticklabels=classes)  # Replace with your class labels\n",
        "plt.xlabel('Predicted Labels')\n",
        "plt.ylabel('True Labels')\n",
        "plt.title('Confusion Matrix CNN')\n",
        "plt.show()"
      ],
      "outputs": [
        {
          "output_type": "stream",
          "name": "stdout",
          "text": [
            "527/527 [==============================] - 6s 12ms/step\n"
          ]
        },
        {
          "output_type": "display_data",
          "data": {
            "text/plain": [
              "<Figure size 800x600 with 2 Axes>"
            ],
            "image/png": "[encoded data removed]"
          },
          "metadata": {}
        }
      ],
      "execution_count": null,
      "metadata": {
        "jupyter": {
          "source_hidden": false,
          "outputs_hidden": false
        },
        "nteract": {
          "transient": {
            "deleting": false
          }
        },
        "gather": {
          "logged": 1712142567453
        },
        "editable": false,
        "run_control": {
          "frozen": true
        },
        "colab": {
          "base_uri": "https://localhost:8080/",
          "height": 582
        },
        "id": "e8f4013f-e535-4e49-bf46-67d0092e511e",
        "outputId": "00eba71f-53e5-49ac-e51d-7fe73f6d389c"
      },
      "id": "e8f4013f-e535-4e49-bf46-67d0092e511e"
    },
    {
      "cell_type": "code",
      "source": [
        "\n",
        "converter = tf.lite.TFLiteConverter.from_keras_model(model_cnn)\n",
        "tflite_model_cnn = converter.convert()\n",
        "\n",
        "with open('/content/drive/MyDrive/model_cnn.tflite', 'wb') as f:\n",
        "    f.write(tflite_model_cnn)\n"
      ],
      "outputs": [],
      "execution_count": null,
      "metadata": {
        "jupyter": {
          "source_hidden": false,
          "outputs_hidden": false
        },
        "nteract": {
          "transient": {
            "deleting": false
          }
        },
        "gather": {
          "logged": 1712142572429
        },
        "editable": false,
        "run_control": {
          "frozen": true
        },
        "id": "dc61ad33-b769-41ba-a66f-0e161e6d81cd"
      },
      "id": "dc61ad33-b769-41ba-a66f-0e161e6d81cd"
    },
    {
      "cell_type": "code",
      "source": [],
      "metadata": {
        "id": "8mymtiwjnIFc"
      },
      "id": "8mymtiwjnIFc",
      "execution_count": null,
      "outputs": []
    },
    {
      "cell_type": "code",
      "source": [
        "import tensorflow as tf\n",
        "from tensorflow.keras import layers, models,regularizers\n",
        "import time\n",
        "\n",
        "\n",
        "model_rnn = models.Sequential([\n",
        "    layers.SimpleRNN(32, input_shape=(2160, 1), return_sequences=False, kernel_regularizer=regularizers.l2(0.001)),\n",
        "    layers.Dense(64, activation='relu', kernel_regularizer=regularizers.l2(0.001)),\n",
        "    layers.Dense(len(classes), activation='softmax')\n",
        "])\n",
        "\n",
        "model_rnn.compile(optimizer='adam', loss='categorical_crossentropy', metrics=['accuracy'])\n",
        "\n",
        "# Train the model\n",
        "start_time = time.time()\n",
        "model_rnn.fit(X_train, y_train, epochs=10, validation_data=(X_valid, y_valid), batch_size=32)\n",
        "print(f\"Training Time: {time.time() - start_time:.2f} seconds\")\n",
        "\n",
        "# Evaluate the model\n",
        "test_loss_rnn, test_accuracy_rnn = model_rnn.evaluate(X_test, y_test)\n",
        "print(f\"Test Accuracy: {test_accuracy_rnn}\")\n",
        "print(f\"Test Loss: {test_loss_rnn}\")\n"
      ],
      "outputs": [
        {
          "output_type": "stream",
          "name": "stdout",
          "text": "Epoch 1/10\n2456/2456 [==============================] - 492s 200ms/step - loss: 0.7313 - accuracy: 0.8008 - val_loss: 0.7053 - val_accuracy: 0.8067\b\b\b\b\b\b\b\b\b\b\b\b\b\b\b\b\b\b\b\b\b\b\b\b\b\b\b\b\b\b\b\b\b\b\b\b\b\b\b\b\b\b\nEpoch 2/10\n2456/2456 [==============================] - 489s 199ms/step - loss: 0.7094 - accuracy: 0.8020 - val_loss: 0.6822 - val_accuracy: 0.8067\b\b\b\b\b\b\b\b\b\b\b\b\b\b\b\b\b\b\b\b\b\b\b\b\b\b\b\b\b\b\b\b\b\b\b\b\b\b\b\b\nEpoch 3/10\n2456/2456 [==============================] - 488s 199ms/step - loss: 0.7036 - accuracy: 0.8020 - val_loss: 0.6859 - val_accuracy: 0.8067\b\b\b\b\b\b\b\b\b\b\b\b\b\b\b\b\b\b\b\b\b\b\b\b\b\b\b\b\b\b\b\b\b\b\b\b\b\b\b\b\nEpoch 4/10\n2456/2456 [==============================] - 487s 198ms/step - loss: 0.6993 - accuracy: 0.8020 - val_loss: 0.7028 - val_accuracy: 0.8067\b\b\b\b\b\b\b\b\b\b\b\b\b\b\b\b\b\b\b\b\b\b\b\b\b\b\b\b\b\b\b\b\b\b\b\b\b\b\b\b\nEpoch 5/10\n2456/2456 [==============================] - 484s 197ms/step - loss: 0.7015 - accuracy: 0.8020 - val_loss: 0.7029 - val_accuracy: 0.8067\b\b\b\b\b\b\b\b\b\b\b\b\b\b\b\b\b\b\b\b\b\b\b\b\b\b\b\b\b\b\b\b\b\b\b\b\b\b\b\b\nEpoch 6/10\n2456/2456 [==============================] - 483s 197ms/step - loss: 0.7083 - accuracy: 0.8020 - val_loss: 0.6841 - val_accuracy: 0.8067\b\b\b\b\b\b\b\b\b\b\b\b\b\b\b\b\b\b\b\b\b\b\b\b\b\b\b\b\b\b\b\b\b\b\b\b\b\b\b\b\nEpoch 7/10\n2456/2456 [==============================] - 482s 196ms/step - loss: 0.7008 - accuracy: 0.8020 - val_loss: 0.6879 - val_accuracy: 0.8067\b\b\b\b\b\b\b\b\b\b\b\b\b\b\b\b\b\b\b\b\b\b\b\b\b\b\b\b\b\b\b\b\b\b\b\b\b\b\b\b\nEpoch 8/10\n2456/2456 [==============================] - 484s 197ms/step - loss: 0.7028 - accuracy: 0.8020 - val_loss: 0.6700 - val_accuracy: 0.8067\b\b\b\b\b\b\b\b\b\b\b\b\b\b\b\b\b\b\b\b\b\b\b\b\b\b\b\b\b\b\b\b\b\b\b\b\b\b\b\b\nEpoch 9/10\n2456/2456 [==============================] - 485s 198ms/step - loss: 0.7021 - accuracy: 0.8020 - val_loss: 0.6908 - val_accuracy: 0.8067\b\b\b\b\b\b\b\b\b\b\b\b\b\b\b\b\b\b\b\b\b\b\b\b\b\b\b\b\b\b\b\b\b\b\b\b\b\b\b\b\nEpoch 10/10\n2456/2456 [==============================] - 482s 196ms/step - loss: 0.7012 - accuracy: 0.8020 - val_loss: 0.6984 - val_accuracy: 0.8067\b\b\b\b\b\b\b\b\b\b\b\b\b\b\b\b\b\b\b\b\b\b\b\b\b\b\b\b\b\b\b\b\b\b\b\b\b\b\b\b\nTraining Time: 4857.52 seconds\n527/527 [==============================] - 24s 46ms/step - loss: 0.7107 - accuracy: 0.8027\b\b\b\b\b\b\b\b\b\b\b\b\b\b\b\b\b\b\b\b\b\b\b\b\b\b\b\b\b\b\b\b\b\b\b\b\b\b\b\b\b\b\b\b\b\b\b\b\b\b\b\b\b\b\b\b\b\b\b\b\b\b\b\b\b\b\b\b\b\b\b\b\b\b\b\b\b\b\b\b\nTest Accuracy: 0.8026729822158813\nTest Loss: 0.7106886506080627\n"
        }
      ],
      "execution_count": null,
      "metadata": {
        "jupyter": {
          "source_hidden": false,
          "outputs_hidden": false
        },
        "nteract": {
          "transient": {
            "deleting": false
          }
        },
        "gather": {
          "logged": 1713527466447
        },
        "editable": false,
        "run_control": {
          "frozen": true
        },
        "id": "c102c7be-fafd-48ae-a46e-b29cb2a6ee6a",
        "outputId": "ceb735fd-cd5b-4c6c-eb94-81b366b28534"
      },
      "id": "c102c7be-fafd-48ae-a46e-b29cb2a6ee6a"
    },
    {
      "cell_type": "code",
      "source": [
        "model_rnn.summary()"
      ],
      "outputs": [
        {
          "output_type": "stream",
          "name": "stdout",
          "text": "Model: \"sequential_1\"\n_________________________________________________________________\n Layer (type)                Output Shape              Param #   \n=================================================================\n simple_rnn (SimpleRNN)      (None, 32)                1088      \n                                                                 \n dense_2 (Dense)             (None, 64)                2112      \n                                                                 \n dense_3 (Dense)             (None, 5)                 325       \n                                                                 \n=================================================================\nTotal params: 3525 (13.77 KB)\nTrainable params: 3525 (13.77 KB)\nNon-trainable params: 0 (0.00 Byte)\n_________________________________________________________________\n"
        }
      ],
      "execution_count": null,
      "metadata": {
        "jupyter": {
          "source_hidden": false,
          "outputs_hidden": false
        },
        "nteract": {
          "transient": {
            "deleting": false
          }
        },
        "gather": {
          "logged": 1713527466511
        },
        "editable": false,
        "run_control": {
          "frozen": true
        },
        "id": "97a8e571-a9c3-49b0-8688-571c25938cad",
        "outputId": "b9e49825-ddf3-4cc7-f006-31a46337858b"
      },
      "id": "97a8e571-a9c3-49b0-8688-571c25938cad"
    },
    {
      "cell_type": "code",
      "source": [
        "from sklearn.metrics import confusion_matrix\n",
        "import seaborn as sns\n",
        "import matplotlib.pyplot as plt\n",
        "\n",
        "\n",
        "\n",
        "y_pred_rnn = model_rnn.predict(X_test)\n",
        "y_pred_classes_rnn = np.argmax(y_pred_rnn, axis=1)\n",
        "\n",
        "y_valid_classes_rnn = np.argmax(y_test, axis=1)\n",
        "\n",
        "conf_matrix_rnn = confusion_matrix(y_valid_classes_rnn, y_pred_classes_rnn)\n",
        "\n",
        "plt.figure(figsize=(8, 6))\n",
        "sns.heatmap(conf_matrix_rnn, annot=True, fmt='d', cmap='Blues', cbar=True,\n",
        "            xticklabels=classes,\n",
        "            yticklabels=classes)\n",
        "plt.xlabel('Predicted Labels')\n",
        "plt.ylabel('True Labels')\n",
        "plt.title('Confusion Matrix RNN')\n",
        "plt.show()"
      ],
      "outputs": [
        {
          "output_type": "stream",
          "name": "stdout",
          "text": "527/527 [==============================] - 28s 52ms/step\b\b\b\b\b\b\b\b\b\b\b\b\b\b\b\b\b\b\b\b\b\b\b\b\b\b\b\b\b\b\b\b\b\b\b\b\b\b\b\b\b\b\b\b\b\b\n"
        },
        {
          "output_type": "display_data",
          "data": {
            "text/plain": "<Figure size 800x600 with 2 Axes>",
            "image/png": "[encoded data removed]"
          },
          "metadata": {}
        }
      ],
      "execution_count": null,
      "metadata": {
        "jupyter": {
          "source_hidden": false,
          "outputs_hidden": false
        },
        "nteract": {
          "transient": {
            "deleting": false
          }
        },
        "gather": {
          "logged": 1712233921713
        },
        "editable": false,
        "run_control": {
          "frozen": true
        },
        "id": "c0c0654f-f306-4fca-b92e-037b4c3a807f",
        "outputId": "cd8c172d-042b-44c8-988c-c0d8a5591583"
      },
      "id": "c0c0654f-f306-4fca-b92e-037b4c3a807f"
    },
    {
      "cell_type": "code",
      "source": [
        "converter = tf.lite.TFLiteConverter.from_keras_model(model_rnn)\n",
        "\n",
        "converter.target_spec.supported_ops = [\n",
        "    tf.lite.OpsSet.TFLITE_BUILTINS,\n",
        "    tf.lite.OpsSet.SELECT_TF_OPS\n",
        "]\n",
        "\n",
        "\n",
        "tflite_model_rnn = converter.convert()\n",
        "\n",
        "with open('model_rnn.tflite', 'wb') as f:\n",
        "    f.write(tflite_model_rnn)\n",
        "\n"
      ],
      "outputs": [
        {
          "output_type": "stream",
          "name": "stdout",
          "text": "INFO:tensorflow:Assets written to: /tmp/tmpaa6pkr6c/assets\n"
        },
        {
          "output_type": "stream",
          "name": "stderr",
          "text": "INFO:tensorflow:Assets written to: /tmp/tmpaa6pkr6c/assets\n2024-04-04 12:55:56.661358: W tensorflow/compiler/mlir/lite/python/tf_tfl_flatbuffer_helpers.cc:364] Ignored output_format.\n2024-04-04 12:55:56.661406: W tensorflow/compiler/mlir/lite/python/tf_tfl_flatbuffer_helpers.cc:367] Ignored drop_control_dependency.\n2024-04-04 12:55:56.661837: I tensorflow/cc/saved_model/reader.cc:45] Reading SavedModel from: /tmp/tmpaa6pkr6c\n2024-04-04 12:55:56.665287: I tensorflow/cc/saved_model/reader.cc:91] Reading meta graph with tags { serve }\n2024-04-04 12:55:56.665313: I tensorflow/cc/saved_model/reader.cc:132] Reading SavedModel debug info (if present) from: /tmp/tmpaa6pkr6c\n2024-04-04 12:55:56.674731: I tensorflow/compiler/mlir/mlir_graph_optimization_pass.cc:375] MLIR V1 optimization pass is not enabled\n2024-04-04 12:55:56.676683: I tensorflow/cc/saved_model/loader.cc:231] Restoring SavedModel bundle.\n2024-04-04 12:55:56.727058: I tensorflow/cc/saved_model/loader.cc:215] Running initialization op on SavedModel bundle at path: /tmp/tmpaa6pkr6c\n2024-04-04 12:55:56.747829: I tensorflow/cc/saved_model/loader.cc:314] SavedModel load for tags { serve }; Status: success: OK. Took 85995 microseconds.\n2024-04-04 12:55:56.978012: I tensorflow/compiler/mlir/tensorflow/utils/dump_mlir_util.cc:255] disabling MLIR crash reproducer, set env var `MLIR_CRASH_REPRODUCER_DIRECTORY` to enable.\n2024-04-04 12:55:57.423838: W tensorflow/compiler/mlir/lite/flatbuffer_export.cc:2073] TFLite interpreter needs to link Flex delegate in order to run the model since it contains the following Select TFop(s):\nFlex ops: FlexTensorListReserve, FlexTensorListSetItem, FlexTensorListStack\nDetails:\n\ttf.TensorListReserve(tensor<2xi32>, tensor<i32>) -> (tensor<!tf_type.variant<tensor<?x32xf32>>>) : {device = \"\"}\n\ttf.TensorListSetItem(tensor<!tf_type.variant<tensor<?x32xf32>>>, tensor<i32>, tensor<?x32xf32>) -> (tensor<!tf_type.variant<tensor<?x32xf32>>>) : {device = \"\", resize_if_index_out_of_bounds = false}\n\ttf.TensorListStack(tensor<!tf_type.variant<tensor<?x32xf32>>>, tensor<2xi32>) -> (tensor<1x?x32xf32>) : {device = \"\", num_elements = 1 : i64}\nSee instructions: https://www.tensorflow.org/lite/guide/ops_select\n"
        }
      ],
      "execution_count": null,
      "metadata": {
        "jupyter": {
          "source_hidden": false,
          "outputs_hidden": false
        },
        "nteract": {
          "transient": {
            "deleting": false
          }
        },
        "gather": {
          "logged": 1712235357728
        },
        "editable": false,
        "run_control": {
          "frozen": true
        },
        "id": "6ac60155-cbba-4e70-9a28-40b26d720a12",
        "outputId": "61f85708-073c-4c27-bf6b-1c260dfd5012"
      },
      "id": "6ac60155-cbba-4e70-9a28-40b26d720a12"
    },
    {
      "cell_type": "code",
      "source": [
        "import tensorflow as tf\n",
        "from tensorflow.keras import layers, models,regularizers\n",
        "import time\n",
        "\n",
        "\n",
        "model_lstm = models.Sequential([\n",
        "    layers.LSTM(32, input_shape=(2160, 1), return_sequences=False, kernel_regularizer=regularizers.l2(0.001)),\n",
        "    layers.Dense(64, activation='relu', kernel_regularizer=regularizers.l2(0.001)),\n",
        "    layers.Dense(len(classes), activation='softmax')\n",
        "])\n",
        "\n",
        "model_lstm.compile(optimizer='adam', loss='categorical_crossentropy', metrics=['accuracy'])\n",
        "\n",
        "start_time = time.time()\n",
        "eval_ltsm = model_lstm.fit(X_train, y_train, epochs=10, validation_data=(X_valid, y_valid), batch_size=32)\n",
        "print(f\"Training Time: {time.time() - start_time:.2f} seconds\")\n",
        "\n",
        "\n",
        "test_loss_lstm, test_accuracy_lstm = model_lstm.evaluate(X_test, y_test)\n",
        "print(f\"LSTM Test Accuracy: {test_accuracy_lstm}\")\n",
        "print(f\"Test Loss: {test_loss_lstm}\")\n"
      ],
      "outputs": [
        {
          "output_type": "stream",
          "name": "stdout",
          "text": "Epoch 1/10\n2456/2456 [==============================] - 1081s 440ms/step - loss: 0.7211 - accuracy: 0.8016 - val_loss: 0.6930 - val_accuracy: 0.8067\b\b\b\b\b\b\b\b\b\b\b\b\b\b\b\b\b\b\b\b\b\b\b\b\b\b\b\b\b\b\b\b\b\b\b\b\b\b\b\b\b\b\b\b\b\nEpoch 2/10\n2456/2456 [==============================] - 1074s 437ms/step - loss: 0.6970 - accuracy: 0.8018 - val_loss: 0.7062 - val_accuracy: 0.8067\b\b\b\b\b\b\b\b\b\b\b\b\b\b\b\b\b\b\b\b\b\b\b\b\b\b\b\b\b\b\b\b\b\b\b\b\b\b\b\b\b\nEpoch 3/10\n2456/2456 [==============================] - 1062s 433ms/step - loss: 0.7012 - accuracy: 0.8022 - val_loss: 0.6791 - val_accuracy: 0.7727\b\b\b\b\b\b\b\b\b\b\b\b\b\b\b\b\b\b\b\b\b\b\b\b\b\b\b\b\b\b\b\b\b\b\b\b\b\b\b\b\b\nEpoch 4/10\n2456/2456 [==============================] - 1004s 409ms/step - loss: 0.6941 - accuracy: 0.8015 - val_loss: 0.6601 - val_accuracy: 0.8067\b\b\b\b\b\b\b\b\b\b\b\b\b\b\b\b\b\b\b\b\b\b\b\b\b\b\b\b\b\b\b\b\b\b\b\b\b\b\b\b\b\nEpoch 5/10\n2456/2456 [==============================] - 1017s 414ms/step - loss: 0.6756 - accuracy: 0.8102 - val_loss: 0.7247 - val_accuracy: 0.8064\b\b\b\b\b\b\b\b\b\b\b\b\b\b\b\b\b\b\b\b\b\b\b\b\b\b\b\b\b\b\b\b\b\b\b\b\b\b\b\b\b\nEpoch 6/10\n2456/2456 [==============================] - 1068s 435ms/step - loss: 0.7190 - accuracy: 0.8018 - val_loss: 0.7014 - val_accuracy: 0.8067\b\b\b\b\b\b\b\b\b\b\b\b\b\b\b\b\b\b\b\b\b\b\b\b\b\b\b\b\b\b\b\b\b\b\b\b\b\b\b\b\b\nEpoch 7/10\n2456/2456 [==============================] - 1095s 446ms/step - loss: 0.6956 - accuracy: 0.8033 - val_loss: 0.6714 - val_accuracy: 0.8118\b\b\b\b\b\b\b\b\b\b\b\b\b\b\b\b\b\b\b\b\b\b\b\b\b\b\b\b\b\b\b\b\b\b\b\b\b\b\b\b\b\nEpoch 8/10\n2456/2456 [==============================] - 1082s 441ms/step - loss: 0.6824 - accuracy: 0.8090 - val_loss: 0.6613 - val_accuracy: 0.8124\b\b\b\b\b\b\b\b\b\b\b\b\b\b\b\b\b\b\b\b\b\b\b\b\b\b\b\b\b\b\b\b\b\b\b\b\b\b\b\b\b\nEpoch 9/10\n2456/2456 [==============================] - 1106s 450ms/step - loss: 0.6806 - accuracy: 0.8099 - val_loss: 0.6742 - val_accuracy: 0.8128\b\b\b\b\b\b\b\b\b\b\b\b\b\b\b\b\b\b\b\b\b\b\b\b\b\b\b\b\b\b\b\b\b\b\b\b\b\b\b\b\b\nEpoch 10/10\n2456/2456 [==============================] - 1102s 449ms/step - loss: 0.6876 - accuracy: 0.8071 - val_loss: 0.6865 - val_accuracy: 0.8067\b\b\b\b\b\b\b\b\b\b\b\b\b\b\b\b\b\b\b\b\b\b\b\b\b\b\b\b\b\b\b\b\b\b\b\b\b\b\b\b\b\nTraining Time: 10692.52 seconds\n527/527 [==============================] - 55s 105ms/step - loss: 0.6966 - accuracy: 0.8027\b\b\b\b\b\b\b\b\b\b\b\b\b\b\b\b\b\b\b\b\b\b\b\b\b\b\b\b\b\b\b\b\b\b\b\b\b\b\b\b\b\b\b\b\b\b\b\b\b\b\b\b\b\b\b\b\b\b\b\b\b\b\b\b\b\b\b\b\b\b\b\b\b\b\b\b\b\b\b\b\b\nLSTM Test Accuracy: 0.8026729822158813\nTest Loss: 0.696599543094635\n"
        }
      ],
      "execution_count": null,
      "metadata": {
        "jupyter": {
          "source_hidden": false,
          "outputs_hidden": false
        },
        "nteract": {
          "transient": {
            "deleting": false
          }
        },
        "gather": {
          "logged": 1713538214693
        },
        "editable": false,
        "run_control": {
          "frozen": true
        },
        "id": "c150b8a3-3050-4a9e-adbc-6f854f60bbcb",
        "outputId": "928f08f5-36e5-4b63-f051-397ad75d58c8"
      },
      "id": "c150b8a3-3050-4a9e-adbc-6f854f60bbcb"
    },
    {
      "cell_type": "code",
      "source": [
        "model_lstm.summary()"
      ],
      "outputs": [
        {
          "output_type": "stream",
          "name": "stdout",
          "text": "Model: \"sequential_2\"\n_________________________________________________________________\n Layer (type)                Output Shape              Param #   \n=================================================================\n lstm (LSTM)                 (None, 32)                4352      \n                                                                 \n dense_4 (Dense)             (None, 64)                2112      \n                                                                 \n dense_5 (Dense)             (None, 5)                 325       \n                                                                 \n=================================================================\nTotal params: 6789 (26.52 KB)\nTrainable params: 6789 (26.52 KB)\nNon-trainable params: 0 (0.00 Byte)\n_________________________________________________________________\n"
        }
      ],
      "execution_count": null,
      "metadata": {
        "jupyter": {
          "source_hidden": false,
          "outputs_hidden": false
        },
        "nteract": {
          "transient": {
            "deleting": false
          }
        },
        "gather": {
          "logged": 1713538214753
        },
        "editable": false,
        "run_control": {
          "frozen": true
        },
        "id": "c88c0f96-8841-4a9a-997e-f1a419f75998",
        "outputId": "1427ab3a-6d9b-4df7-f147-1190beec6f93"
      },
      "id": "c88c0f96-8841-4a9a-997e-f1a419f75998"
    },
    {
      "cell_type": "code",
      "source": [
        "from sklearn.metrics import confusion_matrix\n",
        "import seaborn as sns\n",
        "import matplotlib.pyplot as plt\n",
        "\n",
        "\n",
        "y_pred_ltsm = model_lstm.predict(X_test)\n",
        "y_pred_classes_ltsm = np.argmax(y_pred_ltsm, axis=1)\n",
        "\n",
        "y_valid_classes__ltsm = np.argmax(y_test, axis=1)\n",
        "\n",
        "conf_matrix_ltsm = confusion_matrix(y_valid_classes__ltsm, y_pred_classes_ltsm)\n",
        "\n",
        "plt.figure(figsize=(8, 6))\n",
        "sns.heatmap(conf_matrix_ltsm, annot=True, fmt='d', cmap='Blues', cbar=True,\n",
        "            xticklabels=classes,\n",
        "            yticklabels=classes)\n",
        "plt.xlabel('Predicted Labels')\n",
        "plt.ylabel('True Labels')\n",
        "plt.title('Confusion Matrix LTSM')\n",
        "plt.show()"
      ],
      "outputs": [
        {
          "output_type": "stream",
          "name": "stdout",
          "text": "527/527 [==============================] - 54s 102ms/step\b\b\b\b\b\b\b\b\b\b\b\b\b\b\b\b\b\b\b\b\b\b\b\b\b\b\b\b\b\b\b\b\b\b\b\b\b\b\b\b\b\b\b\b\b\b\b\n"
        },
        {
          "output_type": "display_data",
          "data": {
            "text/plain": "<Figure size 800x600 with 2 Axes>",
            "image/png": "[encoded data removed]"
          },
          "metadata": {}
        }
      ],
      "execution_count": null,
      "metadata": {
        "jupyter": {
          "source_hidden": false,
          "outputs_hidden": false
        },
        "nteract": {
          "transient": {
            "deleting": false
          }
        },
        "gather": {
          "logged": 1713538272437
        },
        "editable": false,
        "run_control": {
          "frozen": true
        },
        "id": "fa4acd50-801b-4404-b641-839f38308b8d",
        "outputId": "1c8e5945-c403-4979-bf0c-648b4036f21f"
      },
      "id": "fa4acd50-801b-4404-b641-839f38308b8d"
    },
    {
      "cell_type": "code",
      "source": [
        "converter = tf.lite.TFLiteConverter.from_keras_model(model_lstm)\n",
        "\n",
        "converter.target_spec.supported_ops = [\n",
        "    tf.lite.OpsSet.TFLITE_BUILTINS,\n",
        "    tf.lite.OpsSet.SELECT_TF_OPS\n",
        "]\n",
        "\n",
        "\n",
        "tflite_model_ltsm = converter.convert()\n",
        "\n",
        "with open('model_ltsm.tflite', 'wb') as f:\n",
        "    f.write(tflite_model_ltsm)"
      ],
      "outputs": [
        {
          "output_type": "stream",
          "name": "stdout",
          "text": "INFO:tensorflow:Assets written to: /tmp/tmpiq6kr446/assets\n"
        },
        {
          "output_type": "stream",
          "name": "stderr",
          "text": "INFO:tensorflow:Assets written to: /tmp/tmpiq6kr446/assets\n2024-04-19 14:51:17.212663: W tensorflow/compiler/mlir/lite/python/tf_tfl_flatbuffer_helpers.cc:364] Ignored output_format.\n2024-04-19 14:51:17.212711: W tensorflow/compiler/mlir/lite/python/tf_tfl_flatbuffer_helpers.cc:367] Ignored drop_control_dependency.\n2024-04-19 14:51:17.213123: I tensorflow/cc/saved_model/reader.cc:45] Reading SavedModel from: /tmp/tmpiq6kr446\n2024-04-19 14:51:17.220178: I tensorflow/cc/saved_model/reader.cc:91] Reading meta graph with tags { serve }\n2024-04-19 14:51:17.220204: I tensorflow/cc/saved_model/reader.cc:132] Reading SavedModel debug info (if present) from: /tmp/tmpiq6kr446\n2024-04-19 14:51:17.244935: I tensorflow/compiler/mlir/mlir_graph_optimization_pass.cc:375] MLIR V1 optimization pass is not enabled\n2024-04-19 14:51:17.249563: I tensorflow/cc/saved_model/loader.cc:231] Restoring SavedModel bundle.\n2024-04-19 14:51:17.324955: I tensorflow/cc/saved_model/loader.cc:215] Running initialization op on SavedModel bundle at path: /tmp/tmpiq6kr446\n2024-04-19 14:51:17.369033: I tensorflow/cc/saved_model/loader.cc:314] SavedModel load for tags { serve }; Status: success: OK. Took 155913 microseconds.\n2024-04-19 14:51:17.694563: I tensorflow/compiler/mlir/tensorflow/utils/dump_mlir_util.cc:255] disabling MLIR crash reproducer, set env var `MLIR_CRASH_REPRODUCER_DIRECTORY` to enable.\n2024-04-19 14:51:18.782791: W tensorflow/compiler/mlir/lite/flatbuffer_export.cc:2073] TFLite interpreter needs to link Flex delegate in order to run the model since it contains the following Select TFop(s):\nFlex ops: FlexTensorListReserve, FlexTensorListSetItem, FlexTensorListStack\nDetails:\n\ttf.TensorListReserve(tensor<2xi32>, tensor<i32>) -> (tensor<!tf_type.variant<tensor<?x32xf32>>>) : {device = \"\"}\n\ttf.TensorListSetItem(tensor<!tf_type.variant<tensor<?x32xf32>>>, tensor<i32>, tensor<?x32xf32>) -> (tensor<!tf_type.variant<tensor<?x32xf32>>>) : {device = \"\", resize_if_index_out_of_bounds = false}\n\ttf.TensorListStack(tensor<!tf_type.variant<tensor<?x32xf32>>>, tensor<2xi32>) -> (tensor<1x?x32xf32>) : {device = \"\", num_elements = 1 : i64}\nSee instructions: https://www.tensorflow.org/lite/guide/ops_select\n"
        }
      ],
      "execution_count": null,
      "metadata": {
        "jupyter": {
          "source_hidden": false,
          "outputs_hidden": false
        },
        "nteract": {
          "transient": {
            "deleting": false
          }
        },
        "gather": {
          "logged": 1713538279003
        },
        "editable": false,
        "run_control": {
          "frozen": true
        },
        "id": "f6073709-4562-453e-8f9d-d9167ad2fac5",
        "outputId": "26ecdcec-5839-4fa0-df5f-4899e1475b0d"
      },
      "id": "f6073709-4562-453e-8f9d-d9167ad2fac5"
    },
    {
      "cell_type": "code",
      "source": [
        "import os\n",
        "\n",
        "size_cnn = os.path.getsize('model_cnn.tflite')\n",
        "size_rnn = os.path.getsize('model_rnn.tflite')\n",
        "size_lstm = os.path.getsize('model_ltsm.tflite')\n",
        "\n",
        "print(f\"CNN Model Size: {size_cnn} bytes\")\n",
        "print(f\"RNN Model Size: {size_rnn} bytes\")\n",
        "print(f\"LSTM Model Size: {size_lstm} bytes\")\n"
      ],
      "outputs": [
        {
          "output_type": "stream",
          "name": "stdout",
          "text": "CNN Model Size: 8845016 bytes\nRNN Model Size: 22908 bytes\nLSTM Model Size: 37556 bytes\n"
        }
      ],
      "execution_count": null,
      "metadata": {
        "jupyter": {
          "source_hidden": false,
          "outputs_hidden": false
        },
        "nteract": {
          "transient": {
            "deleting": false
          }
        },
        "gather": {
          "logged": 1713538279057
        },
        "editable": false,
        "run_control": {
          "frozen": true
        },
        "id": "d14f6bc4-6952-4a16-95f5-6c539b424cca",
        "outputId": "25c1e0b6-8f62-4a07-d377-ea5a98cf27c4"
      },
      "id": "d14f6bc4-6952-4a16-95f5-6c539b424cca"
    },
    {
      "cell_type": "code",
      "source": [
        "plt.plot(eval_ltsm.history['accuracy'], label='accuracy')\n",
        "plt.plot(eval_ltsm.history['val_accuracy'], label = 'val_accuracy')\n",
        "plt.xlabel('Epoch')\n",
        "plt.ylabel('Accuracy')\n",
        "plt.ylim([0.5, 1])\n",
        "plt.legend(loc='lower right')\n",
        "plt.title('Evaluation LTSM')"
      ],
      "outputs": [
        {
          "output_type": "execute_result",
          "execution_count": 17,
          "data": {
            "text/plain": "Text(0.5, 1.0, 'Evaluation LTSM')"
          },
          "metadata": {}
        },
        {
          "output_type": "display_data",
          "data": {
            "text/plain": "<Figure size 640x480 with 1 Axes>",
            "image/png": "[encoded data removed]"
          },
          "metadata": {}
        }
      ],
      "execution_count": null,
      "metadata": {
        "jupyter": {
          "source_hidden": false,
          "outputs_hidden": false
        },
        "nteract": {
          "transient": {
            "deleting": false
          }
        },
        "gather": {
          "logged": 1713538279549
        },
        "editable": false,
        "run_control": {
          "frozen": true
        },
        "id": "aa6e940b-9900-4d0b-b24b-789a7652ec7f",
        "outputId": "b6484d24-c6c6-43af-ac23-d79c80c1a78c"
      },
      "id": "aa6e940b-9900-4d0b-b24b-789a7652ec7f"
    }
  ],
  "metadata": {
    "colab": {
      "provenance": []
    },
    "kernelspec": {
      "name": "python3",
      "language": "python",
      "display_name": "Python 3 (ipykernel)"
    },
    "language_info": {
      "name": "python",
      "version": "3.8.5",
      "mimetype": "text/x-python",
      "codemirror_mode": {
        "name": "ipython",
        "version": 3
      },
      "pygments_lexer": "ipython3",
      "nbconvert_exporter": "python",
      "file_extension": ".py"
    },
    "microsoft": {
      "ms_spell_check": {
        "ms_spell_check_language": "en"
      },
      "host": {
        "AzureML": {
          "notebookHasBeenCompleted": true
        }
      }
    },
    "kernel_info": {
      "name": "python3"
    },
    "nteract": {
      "version": "nteract-front-end@1.0.0"
    }
  },
  "nbformat": 4,
  "nbformat_minor": 5
}