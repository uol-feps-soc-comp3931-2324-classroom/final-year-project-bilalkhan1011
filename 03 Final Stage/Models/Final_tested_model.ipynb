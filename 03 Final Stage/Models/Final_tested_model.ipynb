{
  "cells": [
    {
      "cell_type": "code",
      "source": [
        "%pip install wfdb numpy pandas matplotlib tensorflow imbalanced-learn seaborn"
      ],
      "outputs": [
        {
          "output_type": "stream",
          "name": "stdout",
          "text": "Requirement already satisfied: wfdb in /anaconda/envs/azureml_py38_PT_TF/lib/python3.8/site-packages (4.1.2)\nRequirement already satisfied: numpy in /anaconda/envs/azureml_py38_PT_TF/lib/python3.8/site-packages (1.23.5)\nRequirement already satisfied: pandas in /anaconda/envs/azureml_py38_PT_TF/lib/python3.8/site-packages (2.0.2)\nRequirement already satisfied: matplotlib in /anaconda/envs/azureml_py38_PT_TF/lib/python3.8/site-packages (3.7.1)\nRequirement already satisfied: tensorflow in /anaconda/envs/azureml_py38_PT_TF/lib/python3.8/site-packages (2.11.1)\nRequirement already satisfied: imbalanced-learn in /anaconda/envs/azureml_py38_PT_TF/lib/python3.8/site-packages (0.12.0)\nRequirement already satisfied: seaborn in /anaconda/envs/azureml_py38_PT_TF/lib/python3.8/site-packages (0.13.2)\nRequirement already satisfied: SoundFile>=0.10.0 in /anaconda/envs/azureml_py38_PT_TF/lib/python3.8/site-packages (from wfdb) (0.12.1)\nRequirement already satisfied: scipy>=1.0.0 in /anaconda/envs/azureml_py38_PT_TF/lib/python3.8/site-packages (from wfdb) (1.10.1)\nRequirement already satisfied: requests>=2.8.1 in /anaconda/envs/azureml_py38_PT_TF/lib/python3.8/site-packages (from wfdb) (2.31.0)\nRequirement already satisfied: tzdata>=2022.1 in /anaconda/envs/azureml_py38_PT_TF/lib/python3.8/site-packages (from pandas) (2023.3)\nRequirement already satisfied: pytz>=2020.1 in /anaconda/envs/azureml_py38_PT_TF/lib/python3.8/site-packages (from pandas) (2023.3)\nRequirement already satisfied: python-dateutil>=2.8.2 in /anaconda/envs/azureml_py38_PT_TF/lib/python3.8/site-packages (from pandas) (2.8.2)\nRequirement already satisfied: pillow>=6.2.0 in /anaconda/envs/azureml_py38_PT_TF/lib/python3.8/site-packages (from matplotlib) (9.5.0)\nRequirement already satisfied: contourpy>=1.0.1 in /anaconda/envs/azureml_py38_PT_TF/lib/python3.8/site-packages (from matplotlib) (1.1.0)\nRequirement already satisfied: pyparsing>=2.3.1 in /anaconda/envs/azureml_py38_PT_TF/lib/python3.8/site-packages (from matplotlib) (3.1.0)\nRequirement already satisfied: importlib-resources>=3.2.0 in /anaconda/envs/azureml_py38_PT_TF/lib/python3.8/site-packages (from matplotlib) (5.12.0)\nRequirement already satisfied: kiwisolver>=1.0.1 in /anaconda/envs/azureml_py38_PT_TF/lib/python3.8/site-packages (from matplotlib) (1.4.4)\nRequirement already satisfied: fonttools>=4.22.0 in /anaconda/envs/azureml_py38_PT_TF/lib/python3.8/site-packages (from matplotlib) (4.40.0)\nRequirement already satisfied: cycler>=0.10 in /anaconda/envs/azureml_py38_PT_TF/lib/python3.8/site-packages (from matplotlib) (0.11.0)\nRequirement already satisfied: packaging>=20.0 in /anaconda/envs/azureml_py38_PT_TF/lib/python3.8/site-packages (from matplotlib) (23.1)\nRequirement already satisfied: astunparse>=1.6.0 in /anaconda/envs/azureml_py38_PT_TF/lib/python3.8/site-packages (from tensorflow) (1.6.3)\nRequirement already satisfied: wrapt>=1.11.0 in /anaconda/envs/azureml_py38_PT_TF/lib/python3.8/site-packages (from tensorflow) (1.12.1)\nRequirement already satisfied: absl-py>=1.0.0 in /anaconda/envs/azureml_py38_PT_TF/lib/python3.8/site-packages (from tensorflow) (1.4.0)\nRequirement already satisfied: gast<=0.4.0,>=0.2.1 in /anaconda/envs/azureml_py38_PT_TF/lib/python3.8/site-packages (from tensorflow) (0.4.0)\nRequirement already satisfied: h5py>=2.9.0 in /anaconda/envs/azureml_py38_PT_TF/lib/python3.8/site-packages (from tensorflow) (3.9.0)\nRequirement already satisfied: libclang>=13.0.0 in /anaconda/envs/azureml_py38_PT_TF/lib/python3.8/site-packages (from tensorflow) (16.0.0)\nRequirement already satisfied: tensorflow-io-gcs-filesystem>=0.23.1 in /anaconda/envs/azureml_py38_PT_TF/lib/python3.8/site-packages (from tensorflow) (0.32.0)\nRequirement already satisfied: typing-extensions>=3.6.6 in /anaconda/envs/azureml_py38_PT_TF/lib/python3.8/site-packages (from tensorflow) (4.6.3)\nRequirement already satisfied: keras<2.12,>=2.11.0 in /anaconda/envs/azureml_py38_PT_TF/lib/python3.8/site-packages (from tensorflow) (2.11.0)\nRequirement already satisfied: protobuf<3.20,>=3.9.2 in /anaconda/envs/azureml_py38_PT_TF/lib/python3.8/site-packages (from tensorflow) (3.19.6)\nRequirement already satisfied: tensorboard<2.12,>=2.11 in /anaconda/envs/azureml_py38_PT_TF/lib/python3.8/site-packages (from tensorflow) (2.11.2)\nRequirement already satisfied: opt-einsum>=2.3.2 in /anaconda/envs/azureml_py38_PT_TF/lib/python3.8/site-packages (from tensorflow) (3.3.0)\nRequirement already satisfied: setuptools in /anaconda/envs/azureml_py38_PT_TF/lib/python3.8/site-packages (from tensorflow) (65.6.3)\nRequirement already satisfied: google-pasta>=0.1.1 in /anaconda/envs/azureml_py38_PT_TF/lib/python3.8/site-packages (from tensorflow) (0.2.0)\nRequirement already satisfied: flatbuffers>=2.0 in /anaconda/envs/azureml_py38_PT_TF/lib/python3.8/site-packages (from tensorflow) (23.5.26)\nRequirement already satisfied: tensorflow-estimator<2.12,>=2.11.0 in /anaconda/envs/azureml_py38_PT_TF/lib/python3.8/site-packages (from tensorflow) (2.11.0)\nRequirement already satisfied: termcolor>=1.1.0 in /anaconda/envs/azureml_py38_PT_TF/lib/python3.8/site-packages (from tensorflow) (2.3.0)\nRequirement already satisfied: six>=1.12.0 in /anaconda/envs/azureml_py38_PT_TF/lib/python3.8/site-packages (from tensorflow) (1.16.0)\nRequirement already satisfied: grpcio<2.0,>=1.24.3 in /anaconda/envs/azureml_py38_PT_TF/lib/python3.8/site-packages (from tensorflow) (1.54.2)\nRequirement already satisfied: scikit-learn>=1.0.2 in /anaconda/envs/azureml_py38_PT_TF/lib/python3.8/site-packages (from imbalanced-learn) (1.2.2)\nRequirement already satisfied: threadpoolctl>=2.0.0 in /anaconda/envs/azureml_py38_PT_TF/lib/python3.8/site-packages (from imbalanced-learn) (3.1.0)\nRequirement already satisfied: joblib>=1.1.1 in /anaconda/envs/azureml_py38_PT_TF/lib/python3.8/site-packages (from imbalanced-learn) (1.2.0)\nRequirement already satisfied: wheel<1.0,>=0.23.0 in /anaconda/envs/azureml_py38_PT_TF/lib/python3.8/site-packages (from astunparse>=1.6.0->tensorflow) (0.37.1)\nRequirement already satisfied: zipp>=3.1.0 in /anaconda/envs/azureml_py38_PT_TF/lib/python3.8/site-packages (from importlib-resources>=3.2.0->matplotlib) (3.15.0)\nRequirement already satisfied: idna<4,>=2.5 in /anaconda/envs/azureml_py38_PT_TF/lib/python3.8/site-packages (from requests>=2.8.1->wfdb) (3.4)\nRequirement already satisfied: charset-normalizer<4,>=2 in /anaconda/envs/azureml_py38_PT_TF/lib/python3.8/site-packages (from requests>=2.8.1->wfdb) (3.1.0)\nRequirement already satisfied: certifi>=2017.4.17 in /anaconda/envs/azureml_py38_PT_TF/lib/python3.8/site-packages (from requests>=2.8.1->wfdb) (2023.5.7)\nRequirement already satisfied: urllib3<3,>=1.21.1 in /anaconda/envs/azureml_py38_PT_TF/lib/python3.8/site-packages (from requests>=2.8.1->wfdb) (1.26.16)\nRequirement already satisfied: cffi>=1.0 in /anaconda/envs/azureml_py38_PT_TF/lib/python3.8/site-packages (from SoundFile>=0.10.0->wfdb) (1.15.1)\nRequirement already satisfied: werkzeug>=1.0.1 in /anaconda/envs/azureml_py38_PT_TF/lib/python3.8/site-packages (from tensorboard<2.12,>=2.11->tensorflow) (2.3.6)\nRequirement already satisfied: tensorboard-plugin-wit>=1.6.0 in /anaconda/envs/azureml_py38_PT_TF/lib/python3.8/site-packages (from tensorboard<2.12,>=2.11->tensorflow) (1.8.1)\nRequirement already satisfied: google-auth-oauthlib<0.5,>=0.4.1 in /anaconda/envs/azureml_py38_PT_TF/lib/python3.8/site-packages (from tensorboard<2.12,>=2.11->tensorflow) (0.4.6)\nRequirement already satisfied: google-auth<3,>=1.6.3 in /anaconda/envs/azureml_py38_PT_TF/lib/python3.8/site-packages (from tensorboard<2.12,>=2.11->tensorflow) (2.20.0)\nRequirement already satisfied: markdown>=2.6.8 in /anaconda/envs/azureml_py38_PT_TF/lib/python3.8/site-packages (from tensorboard<2.12,>=2.11->tensorflow) (3.4.3)\nRequirement already satisfied: tensorboard-data-server<0.7.0,>=0.6.0 in /anaconda/envs/azureml_py38_PT_TF/lib/python3.8/site-packages (from tensorboard<2.12,>=2.11->tensorflow) (0.6.1)\nRequirement already satisfied: pycparser in /anaconda/envs/azureml_py38_PT_TF/lib/python3.8/site-packages (from cffi>=1.0->SoundFile>=0.10.0->wfdb) (2.21)\nRequirement already satisfied: cachetools<6.0,>=2.0.0 in /anaconda/envs/azureml_py38_PT_TF/lib/python3.8/site-packages (from google-auth<3,>=1.6.3->tensorboard<2.12,>=2.11->tensorflow) (5.3.1)\nRequirement already satisfied: pyasn1-modules>=0.2.1 in /anaconda/envs/azureml_py38_PT_TF/lib/python3.8/site-packages (from google-auth<3,>=1.6.3->tensorboard<2.12,>=2.11->tensorflow) (0.3.0)\nRequirement already satisfied: rsa<5,>=3.1.4 in /anaconda/envs/azureml_py38_PT_TF/lib/python3.8/site-packages (from google-auth<3,>=1.6.3->tensorboard<2.12,>=2.11->tensorflow) (4.9)\nRequirement already satisfied: requests-oauthlib>=0.7.0 in /anaconda/envs/azureml_py38_PT_TF/lib/python3.8/site-packages (from google-auth-oauthlib<0.5,>=0.4.1->tensorboard<2.12,>=2.11->tensorflow) (1.3.1)\nRequirement already satisfied: importlib-metadata>=4.4 in /anaconda/envs/azureml_py38_PT_TF/lib/python3.8/site-packages (from markdown>=2.6.8->tensorboard<2.12,>=2.11->tensorflow) (6.7.0)\nRequirement already satisfied: MarkupSafe>=2.1.1 in /anaconda/envs/azureml_py38_PT_TF/lib/python3.8/site-packages (from werkzeug>=1.0.1->tensorboard<2.12,>=2.11->tensorflow) (2.1.3)\nRequirement already satisfied: pyasn1<0.6.0,>=0.4.6 in /anaconda/envs/azureml_py38_PT_TF/lib/python3.8/site-packages (from pyasn1-modules>=0.2.1->google-auth<3,>=1.6.3->tensorboard<2.12,>=2.11->tensorflow) (0.5.0)\nRequirement already satisfied: oauthlib>=3.0.0 in /anaconda/envs/azureml_py38_PT_TF/lib/python3.8/site-packages (from requests-oauthlib>=0.7.0->google-auth-oauthlib<0.5,>=0.4.1->tensorboard<2.12,>=2.11->tensorflow) (3.2.2)\nNote: you may need to restart the kernel to use updated packages.\n"
        }
      ],
      "execution_count": 2,
      "metadata": {
        "colab": {
          "base_uri": "https://localhost:8080/"
        },
        "id": "75bc0884",
        "outputId": "551348f4-db2a-4eb3-a4a9-2bd870ff2108",
        "scrolled": false
      },
      "id": "75bc0884"
    },
    {
      "cell_type": "code",
      "source": [
        "#from google.colab import drive\n",
        "#drive.mount('/content/drive')\n",
        "\n",
        "import os\n",
        "import wfdb\n"
      ],
      "outputs": [],
      "execution_count": 3,
      "metadata": {
        "colab": {
          "base_uri": "https://localhost:8080/"
        },
        "id": "LETyFau-5XdA",
        "outputId": "b9e6e822-3a3b-48d6-a4e9-18d194df112b",
        "gather": {
          "logged": 1710022178470
        }
      },
      "id": "LETyFau-5XdA"
    },
    {
      "cell_type": "code",
      "source": [
        "import os\n",
        "import wfdb\n",
        "import numpy as np\n",
        "import pandas as pd\n",
        "\n",
        "data = './mitdb1'\n",
        "\n",
        "\n",
        "patients = [f.split('.')[0] for f in os.listdir(data) if f.endswith('.hea')]\n",
        "patients = np.sort(patients)\n",
        "labels_df = pd.DataFrame()\n",
        "\n",
        "for pat_id in patients:\n",
        "    file = os.path.join(data, pat_id)\n",
        "    annotation = wfdb.rdann(file, 'atr')\n",
        "\n",
        "    #sym is the annotated symbol read from the file\n",
        "    labels = annotation.symbol\n",
        "\n",
        "    #values is the different symbols in each patient\n",
        "    #counts is the number of each symbol for said patient\n",
        "    vals, cts = np.unique(labels, return_counts=True)\n",
        "\n",
        "    #df_sub is a mini lil dataframe for each individual patient\n",
        "    df_per_pat = pd.DataFrame({'Symbol':vals, 'Counts':cts, 'Patient':[pat_id]*len(cts)})\n",
        "    labels_df = pd.concat([labels_df, df_per_pat],axis = 0)\n",
        "\n",
        "labels_df.groupby('Symbol').Counts.sum().sort_values(ascending = False)"
      ],
      "outputs": [
        {
          "output_type": "execute_result",
          "execution_count": 4,
          "data": {
            "text/plain": "Symbol\nN    75052\nL     8075\nR     7259\nV     7130\n/     7028\nA     2546\n+     1291\nf      982\nF      803\n~      616\n!      472\n\"      437\nj      229\nx      193\na      150\n|      132\nE      106\nJ       83\nQ       33\ne       16\n[        6\n]        6\nS        2\nName: Counts, dtype: int64"
          },
          "metadata": {}
        }
      ],
      "execution_count": 4,
      "metadata": {
        "colab": {
          "base_uri": "https://localhost:8080/"
        },
        "id": "8af333f6",
        "outputId": "8f121245-94a3-4519-989e-8a25fd5fa034",
        "scrolled": false,
        "gather": {
          "logged": 1710022185166
        }
      },
      "id": "8af333f6"
    },
    {
      "cell_type": "code",
      "source": [
        "print(np.unique(labels_df.Symbol))\n",
        "print(len(np.unique(labels_df.Symbol)))"
      ],
      "outputs": [
        {
          "output_type": "stream",
          "name": "stdout",
          "text": "['!' '\"' '+' '/' 'A' 'E' 'F' 'J' 'L' 'N' 'Q' 'R' 'S' 'V' '[' ']' 'a' 'e'\n 'f' 'j' 'x' '|' '~']\n23\n"
        }
      ],
      "execution_count": 5,
      "metadata": {
        "colab": {
          "base_uri": "https://localhost:8080/"
        },
        "id": "kzkeIhVK8qs1",
        "outputId": "16df97ec-96ae-4358-8db0-86c3bb00cc77",
        "gather": {
          "logged": 1710022187193
        }
      },
      "id": "kzkeIhVK8qs1"
    },
    {
      "cell_type": "code",
      "source": [
        "# For first stage, consider N as normal heartbeats, all others are irregular or noise (according to found article).\n",
        "other = ['/','f','j','a']\n",
        "normal = ['N','L','R','e']\n",
        "ventricular = ['V','E']\n",
        "supraventricular = ['S','J','A','a']\n",
        "fusion = ['F']\n",
        "\n",
        "#AAMI_labels = [['N', 'L', 'R', 'e'], ['V', 'E'], ['S', 'J', 'A', 'a'], ['F'], ['/', 'f', 'j', 'a']]\n",
        "#classes = [label for sublist in AAMI_labels for label in sublist]\n",
        "\n",
        "AAMI_labels = [['N', 'L', 'R', 'e'], ['V', 'E'], ['S', 'J', 'A', 'a'], ['F'], ['/', 'f', 'j', 'a']]\n",
        "\n",
        "# Define your classes\n",
        "classes = ['Normal', 'Ventricular', 'Supraventricular', 'Fusion', 'Other']\n",
        "\n",
        "\n"
      ],
      "outputs": [],
      "execution_count": 6,
      "metadata": {
        "id": "6fde478a",
        "gather": {
          "logged": 1710022188947
        }
      },
      "id": "6fde478a"
    },
    {
      "cell_type": "code",
      "source": [
        "def categorize_heartbeat(symbol):\n",
        "\n",
        "    if symbol in normal:\n",
        "        return 0\n",
        "\n",
        "    elif symbol in ventricular:\n",
        "        return 1\n",
        "\n",
        "    elif symbol in supraventricular:\n",
        "        return 2\n",
        "\n",
        "    elif symbol in fusion:\n",
        "        return 3\n",
        "\n",
        "    else:\n",
        "        return 4"
      ],
      "outputs": [],
      "execution_count": 7,
      "metadata": {
        "id": "vOyMHZdf7kxj",
        "gather": {
          "logged": 1710022191622
        }
      },
      "id": "vOyMHZdf7kxj"
    },
    {
      "cell_type": "code",
      "source": [
        "# used to load in the entire ECG dataset,\n",
        "# get the signal and label,\n",
        "# read the symbols and signal\n",
        "\n",
        "def load_ecg(file):\n",
        "\n",
        "    record = wfdb.rdrecord(file)\n",
        "    annotation = wfdb.rdann(file, 'atr')\n",
        "    p_signal = record.p_signal\n",
        "    symbol_ann = annotation.symbol\n",
        "    sample_ann = annotation.sample\n",
        "\n",
        "    return p_signal, symbol_ann, sample_ann"
      ],
      "outputs": [],
      "execution_count": 8,
      "metadata": {
        "id": "ddefbdac",
        "gather": {
          "logged": 1710022192630
        }
      },
      "id": "ddefbdac"
    },
    {
      "cell_type": "code",
      "source": [
        "# creates dataset for model training\n",
        "\n",
        "def make_dataset(patients, seconds, frequency, classes):\n",
        "\n",
        "  #set number of data points\n",
        "  columns = 2 * seconds * frequency\n",
        "  data_X = np.zeros((1,columns))\n",
        "  data_Y = np.zeros((1,len(classes)))\n",
        "  data_Labels = []\n",
        "\n",
        "  rows_per_patient = []\n",
        "\n",
        "  for pat in patients:\n",
        "    file = os.path.join(data, pat)\n",
        "    p_signal, symbol_ann, sample_ann = load_ecg(file)\n",
        "\n",
        "    # only using one lead for simplicity\n",
        "    p_signal = p_signal[:,0]\n",
        "\n",
        "    # make df without the noise symbols\n",
        "    df_data = pd.DataFrame({'symbol_ann':symbol_ann, 'sample_ann':sample_ann})\n",
        "    #df_data = df_data.loc[df_data.symbol_ann.isin(classes)]\n",
        "    df_data['symbol_ann'] = df_data['symbol_ann'].apply(lambda x: next((class_name for class_name, label_list in zip(classes, AAMI_labels) if x in label_list), 'Other'))\n",
        "\n",
        "\n",
        "\n",
        "    rows = len(df_data)\n",
        "    X = np.zeros((rows, columns))\n",
        "    Y = np.zeros((rows,len(classes)))\n",
        "    symbs = []\n",
        "\n",
        "    # keep track of rows\n",
        "    maximum_rows = 0\n",
        "\n",
        "    for sample_ann, symbol_ann in zip(df_data.sample_ann.values,df_data.symbol_ann.values):\n",
        "        left = max([0,(sample_ann - seconds * frequency) ])\n",
        "        right = min([len(p_signal),(sample_ann + seconds * frequency) ])\n",
        "        x = p_signal[left: right]\n",
        "        if len(x) == columns:\n",
        "            X[maximum_rows,:] = x\n",
        "            class_index = classes.index(symbol_ann)\n",
        "            Y[maximum_rows, class_index] = 1\n",
        "            maximum_rows += 1\n",
        "\n",
        "    X = X[:maximum_rows,:]\n",
        "    Y = Y[:maximum_rows,:]\n",
        "\n",
        "    data_Labels += df_data['symbol_ann'].tolist()\n",
        "    data_X = np.append(data_X,X,axis = 0)\n",
        "    data_Y = np.append(data_Y,Y,axis = 0)\n",
        "\n",
        "  data_X = data_X[1:,:]\n",
        "  data_Y = data_Y[1:,:]\n",
        "\n",
        "  return data_X, data_Y, data_Labels"
      ],
      "outputs": [],
      "execution_count": 9,
      "metadata": {
        "id": "e7fbef45",
        "gather": {
          "logged": 1710022194420
        }
      },
      "id": "e7fbef45"
    },
    {
      "cell_type": "code",
      "source": [
        "X_data, Y_data, symbol_data = make_dataset(patients, 3, 360, classes)\n"
      ],
      "outputs": [],
      "execution_count": 10,
      "metadata": {
        "id": "1ebe0026",
        "scrolled": false,
        "gather": {
          "logged": 1710022229469
        }
      },
      "id": "1ebe0026"
    },
    {
      "cell_type": "code",
      "source": [
        "ydffg = pd.DataFrame(Y_data)\n",
        "\n",
        "label_counts = ydffg.iloc[:, 0:].sum()\n",
        "print(label_counts)"
      ],
      "outputs": [
        {
          "output_type": "stream",
          "name": "stdout",
          "text": "0    90098.0\n1     7219.0\n2     2771.0\n3      801.0\n4    11344.0\ndtype: float64\n"
        }
      ],
      "execution_count": 11,
      "metadata": {
        "colab": {
          "base_uri": "https://localhost:8080/"
        },
        "id": "UMPxaEa1xoyk",
        "outputId": "2f46bcd0-fa16-4094-8342-d98ac5e9a4a8",
        "gather": {
          "logged": 1710022233577
        }
      },
      "id": "UMPxaEa1xoyk"
    },
    {
      "cell_type": "code",
      "source": [
        "print((Y_data[1000]))"
      ],
      "outputs": [
        {
          "output_type": "stream",
          "name": "stdout",
          "text": "[1. 0. 0. 0. 0.]\n"
        }
      ],
      "execution_count": 12,
      "metadata": {
        "jupyter": {
          "source_hidden": false,
          "outputs_hidden": false
        },
        "nteract": {
          "transient": {
            "deleting": false
          }
        },
        "gather": {
          "logged": 1710022235146
        }
      },
      "id": "8fe6c7fa-0a8e-420a-9084-bbe3a0e6cf39"
    },
    {
      "cell_type": "code",
      "source": [
        "from sklearn.model_selection import train_test_split\n",
        "\n",
        "\n",
        "X_train, X_temp, y_train, y_temp = train_test_split(X_data, Y_data, test_size=0.3, random_state=42)\n",
        "X_valid, X_test, y_valid, y_test = train_test_split(X_temp, y_temp, test_size=0.5, random_state=42)"
      ],
      "outputs": [],
      "execution_count": 13,
      "metadata": {
        "id": "b25e5f5d",
        "gather": {
          "logged": 1710022241967
        }
      },
      "id": "b25e5f5d"
    },
    {
      "cell_type": "code",
      "source": [
        "df4 = pd.DataFrame(X_train)\n",
        "\n",
        "df4"
      ],
      "outputs": [
        {
          "output_type": "execute_result",
          "execution_count": 14,
          "data": {
            "text/plain": "        0      1      2      3      4      5      6      7      8      9     \\\n0     -0.825 -0.815 -0.805 -0.805 -0.795 -0.785 -0.760 -0.765 -0.740 -0.710   \n1     -0.370 -0.370 -0.365 -0.350 -0.335 -0.320 -0.300 -0.265 -0.255 -0.250   \n2     -0.225 -0.220 -0.215 -0.220 -0.235 -0.270 -0.270 -0.275 -0.265 -0.250   \n3     -0.260 -0.260 -0.270 -0.260 -0.250 -0.255 -0.245 -0.250 -0.255 -0.250   \n4     -0.640 -0.645 -0.640 -0.615 -0.600 -0.575 -0.580 -0.585 -0.585 -0.585   \n...      ...    ...    ...    ...    ...    ...    ...    ...    ...    ...   \n78558  0.720  0.705  0.700  0.690  0.675  0.655  0.640  0.605  0.580  0.555   \n78559 -0.270 -0.275 -0.270 -0.270 -0.270 -0.255 -0.265 -0.255 -0.245 -0.255   \n78560 -0.165 -0.160 -0.175 -0.175 -0.175 -0.175 -0.175 -0.160 -0.170 -0.145   \n78561  0.100  0.340  0.615  0.870  0.990  0.995  0.835  0.520  0.100 -0.235   \n78562  1.070  1.030  0.985  0.965  0.930  0.890  0.835  0.785  0.745  0.695   \n\n       ...   2150   2151   2152   2153   2154   2155   2156   2157   2158  \\\n0      ... -0.520 -0.525 -0.525 -0.530 -0.540 -0.550 -0.550 -0.540 -0.545   \n1      ... -0.265 -0.285 -0.300 -0.300 -0.295 -0.270 -0.255 -0.255 -0.250   \n2      ... -0.340 -0.330 -0.320 -0.325 -0.335 -0.340 -0.330 -0.325 -0.315   \n3      ... -0.375 -0.365 -0.360 -0.345 -0.330 -0.320 -0.310 -0.320 -0.310   \n4      ... -0.880 -0.880 -0.885 -0.880 -0.880 -0.875 -0.870 -0.870 -0.880   \n...    ...    ...    ...    ...    ...    ...    ...    ...    ...    ...   \n78558  ... -0.670 -0.670 -0.675 -0.660 -0.655 -0.660 -0.675 -0.705 -0.715   \n78559  ... -0.055 -0.055 -0.055 -0.040 -0.020 -0.030 -0.035 -0.040 -0.035   \n78560  ...  0.130  0.145  0.155  0.165  0.180  0.195  0.215  0.230  0.250   \n78561  ... -0.520 -0.550 -0.535 -0.500 -0.385 -0.250 -0.100  0.080  0.310   \n78562  ...  0.750  0.735  0.690  0.615  0.535  0.460  0.415  0.370  0.345   \n\n        2159  \n0     -0.535  \n1     -0.230  \n2     -0.335  \n3     -0.325  \n4     -0.895  \n...      ...  \n78558 -0.725  \n78559 -0.040  \n78560  0.265  \n78561  0.590  \n78562  0.305  \n\n[78563 rows x 2160 columns]",
            "text/html": "<div>\n<style scoped>\n    .dataframe tbody tr th:only-of-type {\n        vertical-align: middle;\n    }\n\n    .dataframe tbody tr th {\n        vertical-align: top;\n    }\n\n    .dataframe thead th {\n        text-align: right;\n    }\n</style>\n<table border=\"1\" class=\"dataframe\">\n  <thead>\n    <tr style=\"text-align: right;\">\n      <th></th>\n      <th>0</th>\n      <th>1</th>\n      <th>2</th>\n      <th>3</th>\n      <th>4</th>\n      <th>5</th>\n      <th>6</th>\n      <th>7</th>\n      <th>8</th>\n      <th>9</th>\n      <th>...</th>\n      <th>2150</th>\n      <th>2151</th>\n      <th>2152</th>\n      <th>2153</th>\n      <th>2154</th>\n      <th>2155</th>\n      <th>2156</th>\n      <th>2157</th>\n      <th>2158</th>\n      <th>2159</th>\n    </tr>\n  </thead>\n  <tbody>\n    <tr>\n      <th>0</th>\n      <td>-0.825</td>\n      <td>-0.815</td>\n      <td>-0.805</td>\n      <td>-0.805</td>\n      <td>-0.795</td>\n      <td>-0.785</td>\n      <td>-0.760</td>\n      <td>-0.765</td>\n      <td>-0.740</td>\n      <td>-0.710</td>\n      <td>...</td>\n      <td>-0.520</td>\n      <td>-0.525</td>\n      <td>-0.525</td>\n      <td>-0.530</td>\n      <td>-0.540</td>\n      <td>-0.550</td>\n      <td>-0.550</td>\n      <td>-0.540</td>\n      <td>-0.545</td>\n      <td>-0.535</td>\n    </tr>\n    <tr>\n      <th>1</th>\n      <td>-0.370</td>\n      <td>-0.370</td>\n      <td>-0.365</td>\n      <td>-0.350</td>\n      <td>-0.335</td>\n      <td>-0.320</td>\n      <td>-0.300</td>\n      <td>-0.265</td>\n      <td>-0.255</td>\n      <td>-0.250</td>\n      <td>...</td>\n      <td>-0.265</td>\n      <td>-0.285</td>\n      <td>-0.300</td>\n      <td>-0.300</td>\n      <td>-0.295</td>\n      <td>-0.270</td>\n      <td>-0.255</td>\n      <td>-0.255</td>\n      <td>-0.250</td>\n      <td>-0.230</td>\n    </tr>\n    <tr>\n      <th>2</th>\n      <td>-0.225</td>\n      <td>-0.220</td>\n      <td>-0.215</td>\n      <td>-0.220</td>\n      <td>-0.235</td>\n      <td>-0.270</td>\n      <td>-0.270</td>\n      <td>-0.275</td>\n      <td>-0.265</td>\n      <td>-0.250</td>\n      <td>...</td>\n      <td>-0.340</td>\n      <td>-0.330</td>\n      <td>-0.320</td>\n      <td>-0.325</td>\n      <td>-0.335</td>\n      <td>-0.340</td>\n      <td>-0.330</td>\n      <td>-0.325</td>\n      <td>-0.315</td>\n      <td>-0.335</td>\n    </tr>\n    <tr>\n      <th>3</th>\n      <td>-0.260</td>\n      <td>-0.260</td>\n      <td>-0.270</td>\n      <td>-0.260</td>\n      <td>-0.250</td>\n      <td>-0.255</td>\n      <td>-0.245</td>\n      <td>-0.250</td>\n      <td>-0.255</td>\n      <td>-0.250</td>\n      <td>...</td>\n      <td>-0.375</td>\n      <td>-0.365</td>\n      <td>-0.360</td>\n      <td>-0.345</td>\n      <td>-0.330</td>\n      <td>-0.320</td>\n      <td>-0.310</td>\n      <td>-0.320</td>\n      <td>-0.310</td>\n      <td>-0.325</td>\n    </tr>\n    <tr>\n      <th>4</th>\n      <td>-0.640</td>\n      <td>-0.645</td>\n      <td>-0.640</td>\n      <td>-0.615</td>\n      <td>-0.600</td>\n      <td>-0.575</td>\n      <td>-0.580</td>\n      <td>-0.585</td>\n      <td>-0.585</td>\n      <td>-0.585</td>\n      <td>...</td>\n      <td>-0.880</td>\n      <td>-0.880</td>\n      <td>-0.885</td>\n      <td>-0.880</td>\n      <td>-0.880</td>\n      <td>-0.875</td>\n      <td>-0.870</td>\n      <td>-0.870</td>\n      <td>-0.880</td>\n      <td>-0.895</td>\n    </tr>\n    <tr>\n      <th>...</th>\n      <td>...</td>\n      <td>...</td>\n      <td>...</td>\n      <td>...</td>\n      <td>...</td>\n      <td>...</td>\n      <td>...</td>\n      <td>...</td>\n      <td>...</td>\n      <td>...</td>\n      <td>...</td>\n      <td>...</td>\n      <td>...</td>\n      <td>...</td>\n      <td>...</td>\n      <td>...</td>\n      <td>...</td>\n      <td>...</td>\n      <td>...</td>\n      <td>...</td>\n      <td>...</td>\n    </tr>\n    <tr>\n      <th>78558</th>\n      <td>0.720</td>\n      <td>0.705</td>\n      <td>0.700</td>\n      <td>0.690</td>\n      <td>0.675</td>\n      <td>0.655</td>\n      <td>0.640</td>\n      <td>0.605</td>\n      <td>0.580</td>\n      <td>0.555</td>\n      <td>...</td>\n      <td>-0.670</td>\n      <td>-0.670</td>\n      <td>-0.675</td>\n      <td>-0.660</td>\n      <td>-0.655</td>\n      <td>-0.660</td>\n      <td>-0.675</td>\n      <td>-0.705</td>\n      <td>-0.715</td>\n      <td>-0.725</td>\n    </tr>\n    <tr>\n      <th>78559</th>\n      <td>-0.270</td>\n      <td>-0.275</td>\n      <td>-0.270</td>\n      <td>-0.270</td>\n      <td>-0.270</td>\n      <td>-0.255</td>\n      <td>-0.265</td>\n      <td>-0.255</td>\n      <td>-0.245</td>\n      <td>-0.255</td>\n      <td>...</td>\n      <td>-0.055</td>\n      <td>-0.055</td>\n      <td>-0.055</td>\n      <td>-0.040</td>\n      <td>-0.020</td>\n      <td>-0.030</td>\n      <td>-0.035</td>\n      <td>-0.040</td>\n      <td>-0.035</td>\n      <td>-0.040</td>\n    </tr>\n    <tr>\n      <th>78560</th>\n      <td>-0.165</td>\n      <td>-0.160</td>\n      <td>-0.175</td>\n      <td>-0.175</td>\n      <td>-0.175</td>\n      <td>-0.175</td>\n      <td>-0.175</td>\n      <td>-0.160</td>\n      <td>-0.170</td>\n      <td>-0.145</td>\n      <td>...</td>\n      <td>0.130</td>\n      <td>0.145</td>\n      <td>0.155</td>\n      <td>0.165</td>\n      <td>0.180</td>\n      <td>0.195</td>\n      <td>0.215</td>\n      <td>0.230</td>\n      <td>0.250</td>\n      <td>0.265</td>\n    </tr>\n    <tr>\n      <th>78561</th>\n      <td>0.100</td>\n      <td>0.340</td>\n      <td>0.615</td>\n      <td>0.870</td>\n      <td>0.990</td>\n      <td>0.995</td>\n      <td>0.835</td>\n      <td>0.520</td>\n      <td>0.100</td>\n      <td>-0.235</td>\n      <td>...</td>\n      <td>-0.520</td>\n      <td>-0.550</td>\n      <td>-0.535</td>\n      <td>-0.500</td>\n      <td>-0.385</td>\n      <td>-0.250</td>\n      <td>-0.100</td>\n      <td>0.080</td>\n      <td>0.310</td>\n      <td>0.590</td>\n    </tr>\n    <tr>\n      <th>78562</th>\n      <td>1.070</td>\n      <td>1.030</td>\n      <td>0.985</td>\n      <td>0.965</td>\n      <td>0.930</td>\n      <td>0.890</td>\n      <td>0.835</td>\n      <td>0.785</td>\n      <td>0.745</td>\n      <td>0.695</td>\n      <td>...</td>\n      <td>0.750</td>\n      <td>0.735</td>\n      <td>0.690</td>\n      <td>0.615</td>\n      <td>0.535</td>\n      <td>0.460</td>\n      <td>0.415</td>\n      <td>0.370</td>\n      <td>0.345</td>\n      <td>0.305</td>\n    </tr>\n  </tbody>\n</table>\n<p>78563 rows × 2160 columns</p>\n</div>"
          },
          "metadata": {}
        }
      ],
      "execution_count": 14,
      "metadata": {
        "colab": {
          "base_uri": "https://localhost:8080/",
          "height": 444
        },
        "id": "1d22a45c",
        "outputId": "1b9e199b-e8f0-4e00-f28b-d6798de8c3c4",
        "gather": {
          "logged": 1710022244110
        }
      },
      "id": "1d22a45c"
    },
    {
      "cell_type": "code",
      "source": [
        "df45 = pd.DataFrame(y_train)\n",
        "\n",
        "df45"
      ],
      "outputs": [
        {
          "output_type": "execute_result",
          "execution_count": 15,
          "data": {
            "text/plain": "         0    1    2    3    4\n0      0.0  1.0  0.0  0.0  0.0\n1      1.0  0.0  0.0  0.0  0.0\n2      1.0  0.0  0.0  0.0  0.0\n3      1.0  0.0  0.0  0.0  0.0\n4      1.0  0.0  0.0  0.0  0.0\n...    ...  ...  ...  ...  ...\n78558  0.0  1.0  0.0  0.0  0.0\n78559  1.0  0.0  0.0  0.0  0.0\n78560  0.0  0.0  0.0  0.0  1.0\n78561  1.0  0.0  0.0  0.0  0.0\n78562  0.0  0.0  0.0  0.0  1.0\n\n[78563 rows x 5 columns]",
            "text/html": "<div>\n<style scoped>\n    .dataframe tbody tr th:only-of-type {\n        vertical-align: middle;\n    }\n\n    .dataframe tbody tr th {\n        vertical-align: top;\n    }\n\n    .dataframe thead th {\n        text-align: right;\n    }\n</style>\n<table border=\"1\" class=\"dataframe\">\n  <thead>\n    <tr style=\"text-align: right;\">\n      <th></th>\n      <th>0</th>\n      <th>1</th>\n      <th>2</th>\n      <th>3</th>\n      <th>4</th>\n    </tr>\n  </thead>\n  <tbody>\n    <tr>\n      <th>0</th>\n      <td>0.0</td>\n      <td>1.0</td>\n      <td>0.0</td>\n      <td>0.0</td>\n      <td>0.0</td>\n    </tr>\n    <tr>\n      <th>1</th>\n      <td>1.0</td>\n      <td>0.0</td>\n      <td>0.0</td>\n      <td>0.0</td>\n      <td>0.0</td>\n    </tr>\n    <tr>\n      <th>2</th>\n      <td>1.0</td>\n      <td>0.0</td>\n      <td>0.0</td>\n      <td>0.0</td>\n      <td>0.0</td>\n    </tr>\n    <tr>\n      <th>3</th>\n      <td>1.0</td>\n      <td>0.0</td>\n      <td>0.0</td>\n      <td>0.0</td>\n      <td>0.0</td>\n    </tr>\n    <tr>\n      <th>4</th>\n      <td>1.0</td>\n      <td>0.0</td>\n      <td>0.0</td>\n      <td>0.0</td>\n      <td>0.0</td>\n    </tr>\n    <tr>\n      <th>...</th>\n      <td>...</td>\n      <td>...</td>\n      <td>...</td>\n      <td>...</td>\n      <td>...</td>\n    </tr>\n    <tr>\n      <th>78558</th>\n      <td>0.0</td>\n      <td>1.0</td>\n      <td>0.0</td>\n      <td>0.0</td>\n      <td>0.0</td>\n    </tr>\n    <tr>\n      <th>78559</th>\n      <td>1.0</td>\n      <td>0.0</td>\n      <td>0.0</td>\n      <td>0.0</td>\n      <td>0.0</td>\n    </tr>\n    <tr>\n      <th>78560</th>\n      <td>0.0</td>\n      <td>0.0</td>\n      <td>0.0</td>\n      <td>0.0</td>\n      <td>1.0</td>\n    </tr>\n    <tr>\n      <th>78561</th>\n      <td>1.0</td>\n      <td>0.0</td>\n      <td>0.0</td>\n      <td>0.0</td>\n      <td>0.0</td>\n    </tr>\n    <tr>\n      <th>78562</th>\n      <td>0.0</td>\n      <td>0.0</td>\n      <td>0.0</td>\n      <td>0.0</td>\n      <td>1.0</td>\n    </tr>\n  </tbody>\n</table>\n<p>78563 rows × 5 columns</p>\n</div>"
          },
          "metadata": {}
        }
      ],
      "execution_count": 15,
      "metadata": {
        "jupyter": {
          "source_hidden": false,
          "outputs_hidden": false
        },
        "nteract": {
          "transient": {
            "deleting": false
          }
        },
        "gather": {
          "logged": 1710022246568
        }
      },
      "id": "a1b29283-152c-42ba-9fa6-9423c945f7b8"
    },
    {
      "cell_type": "code",
      "source": [
        "print(X_train.shape)\n",
        "print(y_train.shape)\n",
        "print(X_valid.shape)\n",
        "print(y_valid.shape)\n",
        "print(X_test.shape)\n",
        "print(y_test.shape)"
      ],
      "outputs": [
        {
          "output_type": "stream",
          "name": "stdout",
          "text": "(78563, 2160)\n(78563, 5)\n(16835, 2160)\n(16835, 5)\n(16835, 2160)\n(16835, 5)\n"
        }
      ],
      "execution_count": 17,
      "metadata": {
        "colab": {
          "base_uri": "https://localhost:8080/"
        },
        "id": "f01ed509",
        "outputId": "409d6ba2-f141-446d-f215-8134732d5b74",
        "gather": {
          "logged": 1709986982491
        }
      },
      "id": "f01ed509"
    },
    {
      "cell_type": "code",
      "source": [
        "X_train_cnn = np.reshape(X_train, (X_train.shape[0], X_train.shape[1], 1))\n",
        "X_valid_cnn = np.reshape(X_valid, (X_valid.shape[0], X_valid.shape[1], 1))\n",
        "X_test_cnn = np.reshape(X_test, (X_test.shape[0], X_test.shape[1], 1))\n",
        "\n",
        "\n",
        "print(X_train_cnn.shape)"
      ],
      "outputs": [
        {
          "output_type": "stream",
          "name": "stdout",
          "text": "(78563, 2160, 1)\n"
        }
      ],
      "execution_count": 18,
      "metadata": {
        "id": "vo051BV19PJ6",
        "gather": {
          "logged": 1709986982563
        }
      },
      "id": "vo051BV19PJ6"
    },
    {
      "cell_type": "code",
      "source": [
        "print(X_train_cnn.shape)\n",
        "print(X_train_cnn[0].shape)\n",
        "samp = X_train_cnn[3]"
      ],
      "outputs": [
        {
          "output_type": "stream",
          "name": "stdout",
          "text": "(78563, 2160, 1)\n(2160, 1)\n"
        }
      ],
      "execution_count": 19,
      "metadata": {
        "jupyter": {
          "source_hidden": false,
          "outputs_hidden": false
        },
        "nteract": {
          "transient": {
            "deleting": false
          }
        },
        "gather": {
          "logged": 1709986982685
        }
      },
      "id": "58dd77e1-2003-4278-ad03-9df92c45f0e1"
    },
    {
      "cell_type": "code",
      "source": [
        "import matplotlib.pyplot as plt\n",
        "\n",
        "\n",
        "\n",
        "\n",
        "\n",
        "\n",
        "plt.figure(figsize=(10, 6))\n",
        "plt.plot(samp)\n",
        "plt.title('ECG Record')\n",
        "plt.xlabel('Sample')\n",
        "plt.ylabel('Amplitude')\n",
        "plt.grid(True)\n",
        "plt.show()"
      ],
      "outputs": [
        {
          "output_type": "display_data",
          "data": {
            "text/plain": "<Figure size 1000x600 with 1 Axes>",
            "image/png": "[encoded data removed]"
          },
          "metadata": {}
        }
      ],
      "execution_count": 20,
      "metadata": {
        "jupyter": {
          "source_hidden": false,
          "outputs_hidden": false
        },
        "nteract": {
          "transient": {
            "deleting": false
          }
        },
        "gather": {
          "logged": 1709986984036
        }
      },
      "id": "7087547c-05b4-46fb-b531-2e6c4091efc1"
    },
    {
      "cell_type": "code",
      "source": [
        "pip install keras-tuner"
      ],
      "outputs": [
        {
          "output_type": "stream",
          "name": "stdout",
          "text": "Requirement already satisfied: keras-tuner in /anaconda/envs/azureml_py38_PT_TF/lib/python3.8/site-packages (1.4.7)\nRequirement already satisfied: kt-legacy in /anaconda/envs/azureml_py38_PT_TF/lib/python3.8/site-packages (from keras-tuner) (1.0.5)\nRequirement already satisfied: packaging in /anaconda/envs/azureml_py38_PT_TF/lib/python3.8/site-packages (from keras-tuner) (23.1)\nRequirement already satisfied: keras in /anaconda/envs/azureml_py38_PT_TF/lib/python3.8/site-packages (from keras-tuner) (2.11.0)\nRequirement already satisfied: requests in /anaconda/envs/azureml_py38_PT_TF/lib/python3.8/site-packages (from keras-tuner) (2.31.0)\nRequirement already satisfied: certifi>=2017.4.17 in /anaconda/envs/azureml_py38_PT_TF/lib/python3.8/site-packages (from requests->keras-tuner) (2023.5.7)\nRequirement already satisfied: idna<4,>=2.5 in /anaconda/envs/azureml_py38_PT_TF/lib/python3.8/site-packages (from requests->keras-tuner) (3.4)\nRequirement already satisfied: urllib3<3,>=1.21.1 in /anaconda/envs/azureml_py38_PT_TF/lib/python3.8/site-packages (from requests->keras-tuner) (1.26.16)\nRequirement already satisfied: charset-normalizer<4,>=2 in /anaconda/envs/azureml_py38_PT_TF/lib/python3.8/site-packages (from requests->keras-tuner) (3.1.0)\nNote: you may need to restart the kernel to use updated packages.\n"
        }
      ],
      "execution_count": 16,
      "metadata": {
        "jupyter": {
          "source_hidden": false,
          "outputs_hidden": false
        },
        "nteract": {
          "transient": {
            "deleting": false
          }
        },
        "gather": {
          "logged": 1709812360102
        },
        "editable": false,
        "run_control": {
          "frozen": true
        }
      },
      "id": "d213943d-32a6-403f-bed9-4f751bcd4553"
    },
    {
      "cell_type": "code",
      "source": [
        "import tensorflow as tf\n"
      ],
      "outputs": [
        {
          "output_type": "stream",
          "name": "stderr",
          "text": "2024-03-09 22:10:58.640099: I tensorflow/core/platform/cpu_feature_guard.cc:193] This TensorFlow binary is optimized with oneAPI Deep Neural Network Library (oneDNN) to use the following CPU instructions in performance-critical operations:  AVX2 AVX512F FMA\nTo enable them in other operations, rebuild TensorFlow with the appropriate compiler flags.\n2024-03-09 22:11:03.157787: W tensorflow/compiler/xla/stream_executor/platform/default/dso_loader.cc:64] Could not load dynamic library 'libcudart.so.11.0'; dlerror: libcudart.so.11.0: cannot open shared object file: No such file or directory\n2024-03-09 22:11:03.157824: I tensorflow/compiler/xla/stream_executor/cuda/cudart_stub.cc:29] Ignore above cudart dlerror if you do not have a GPU set up on your machine.\n2024-03-09 22:11:12.507230: W tensorflow/compiler/xla/stream_executor/platform/default/dso_loader.cc:64] Could not load dynamic library 'libnvinfer.so.7'; dlerror: libnvinfer.so.7: cannot open shared object file: No such file or directory\n2024-03-09 22:11:12.507415: W tensorflow/compiler/xla/stream_executor/platform/default/dso_loader.cc:64] Could not load dynamic library 'libnvinfer_plugin.so.7'; dlerror: libnvinfer_plugin.so.7: cannot open shared object file: No such file or directory\n2024-03-09 22:11:12.507430: W tensorflow/compiler/tf2tensorrt/utils/py_utils.cc:38] TF-TRT Warning: Cannot dlopen some TensorRT libraries. If you would like to use Nvidia GPU with TensorRT, please make sure the missing libraries mentioned above are installed properly.\n"
        }
      ],
      "execution_count": 16,
      "metadata": {
        "jupyter": {
          "source_hidden": false,
          "outputs_hidden": false
        },
        "nteract": {
          "transient": {
            "deleting": false
          }
        },
        "gather": {
          "logged": 1710022278829
        }
      },
      "id": "77a457f8-953b-4efb-9a92-dd84cfd907f8"
    },
    {
      "cell_type": "code",
      "source": [
        "import tensorflow as tf\n",
        "from tensorflow.keras import layers, models\n",
        "from kerastuner.tuners import RandomSearch\n",
        "from kerastuner.engine.hyperparameters import HyperParameters\n",
        "\n",
        "# Define a function to build the model\n",
        "def build_model(hp):\n",
        "    model = models.Sequential()\n",
        "    model.add(layers.Conv1D(hp.Int('conv1_filters', min_value=32, max_value=256, step=32),\n",
        "                             hp.Int('conv1_kernel', min_value=3, max_value=5, step=1),\n",
        "                             activation='relu', input_shape=(2160,1)))\n",
        "    model.add(layers.MaxPooling1D(2))\n",
        "    \n",
        "    model.add(layers.Conv1D(hp.Int('conv2_filters', min_value=64, max_value=512, step=32),\n",
        "                             hp.Int('conv2_kernel', min_value=3, max_value=5, step=1),\n",
        "                             activation='relu'))\n",
        "    model.add(layers.MaxPooling1D(2))\n",
        "    \n",
        "    model.add(layers.Flatten())\n",
        "    \n",
        "    model.add(layers.Dense(hp.Int('dense_units', min_value=32, max_value=256, step=32), activation='relu'))\n",
        "    model.add(layers.Dense(len(classes), activation='softmax'))\n",
        "    \n",
        "    model.compile(optimizer='adam', loss='categorical_crossentropy', metrics=['accuracy'])\n",
        "    \n",
        "    return model\n",
        "\n",
        "# Instantiate the tuner\n",
        "tuner = RandomSearch(\n",
        "    build_model,\n",
        "    objective='val_accuracy',\n",
        "    max_trials=5,  # Adjust this according to your computation resources\n",
        "    executions_per_trial=1,\n",
        "    directory='keras_tuner_logs',\n",
        "    project_name='your_project_name')\n",
        "\n",
        "# Perform the hyperparameter search\n",
        "tuner.search(X_train_cnn, y_train, epochs=2, validation_data=(X_valid_cnn, y_valid))\n",
        "\n",
        "# Get the best hyperparameters\n",
        "best_hps = tuner.get_best_hyperparameters(num_trials=1)[0]\n",
        "\n",
        "# Build the model with the best hyperparameters\n",
        "model = tuner.hypermodel.build(best_hps)\n",
        "\n",
        "# Train the model\n",
        "model.fit(X_train_cnn, y_train, epochs=2, validation_data=(X_valid_cnn, y_valid))\n",
        "\n",
        "# Evaluate the model on the test set\n",
        "test_loss, test_accuracy = model.evaluate(X_test_cnn, y_test)\n",
        "print(f\"Test Accuracy: {test_accuracy}\")\n"
      ],
      "outputs": [
        {
          "output_type": "stream",
          "name": "stdout",
          "text": "Trial 5 Complete [00h 14m 38s]\nval_accuracy: 0.979447603225708\n\nBest val_accuracy So Far: 0.9804573655128479\nTotal elapsed time: 02h 31m 43s\nEpoch 1/2\n2456/2456 [==============================] - 706s 287ms/step - loss: 0.1474 - accuracy: 0.9571 - val_loss: 0.0864 - val_accuracy: 0.9738\b\b\b\b\b\b\b\b\b\b\b\b\b\b\b\b\b\b\b\b\b\b\b\b\b\b\b\b\b\b\b\b\b\b\b\b\b\b\b\b\b\b\nEpoch 2/2\n2456/2456 [==============================] - 702s 286ms/step - loss: 0.0596 - accuracy: 0.9822 - val_loss: 0.0793 - val_accuracy: 0.9777\b\b\b\b\b\b\b\b\b\b\b\b\b\b\b\b\b\b\b\b\b\b\b\b\b\b\b\b\b\b\b\b\b\b\b\b\b\b\b\b\b\b\n527/527 [==============================] - 30s 58ms/step - loss: 0.0856 - accuracy: 0.9763\b\b\b\b\b\b\b\b\b\b\b\b\b\b\b\b\b\b\b\b\b\b\b\b\b\b\b\b\b\b\b\b\b\b\b\b\b\b\b\b\b\b\b\b\b\b\b\b\b\b\b\b\b\b\b\b\b\b\b\b\b\b\b\b\b\b\b\b\b\b\b\b\b\b\b\b\b\b\b\b\nTest Accuracy: 0.9762994050979614\n"
        },
        {
          "output_type": "stream",
          "name": "stderr",
          "text": "IOPub message rate exceeded.\nThe Jupyter server will temporarily stop sending output\nto the client in order to avoid crashing it.\nTo change this limit, set the config variable\n`--ServerApp.iopub_msg_rate_limit`.\n\nCurrent values:\nServerApp.iopub_msg_rate_limit=1000.0 (msgs/sec)\nServerApp.rate_limit_window=3.0 (secs)\n\n"
        }
      ],
      "execution_count": 17,
      "metadata": {
        "jupyter": {
          "source_hidden": false,
          "outputs_hidden": false
        },
        "nteract": {
          "transient": {
            "deleting": false
          }
        },
        "gather": {
          "logged": 1709817931520
        },
        "editable": false,
        "run_control": {
          "frozen": true
        }
      },
      "id": "3cde95e2-ff98-4944-8f9c-7cbe434e1bf7"
    },
    {
      "cell_type": "code",
      "source": [
        "import tensorflow as tf\n",
        "from tensorflow.keras import layers, models\n",
        "\n",
        "\n",
        "model = models.Sequential()\n",
        "model.add(layers.Conv1D(64, 3, activation='relu', input_shape=(2160,1)))\n",
        "model.add(layers.MaxPooling1D(2))\n",
        "model.add(layers.Conv1D(128, 3, activation='relu'))\n",
        "model.add(layers.MaxPooling1D(2))\n",
        "model.add(layers.Flatten())\n",
        "model.add(layers.Dense(128, activation='relu'))\n",
        "model.add(layers.Dense(len(classes), activation='softmax'))  # softmax for multiclass classification\n",
        "\n",
        "# Compile the model\n",
        "model.compile(optimizer='adam', loss='categorical_crossentropy', metrics=['accuracy'])\n",
        "\n",
        "# Train the model\n",
        "model.fit(X_train_cnn, y_train, epochs=2, validation_data=(X_valid_cnn, y_valid))\n",
        "\n",
        "# Evaluate the model on the test set\n",
        "test_loss, test_accuracy = model.evaluate(X_test_cnn, y_test)\n",
        "print(f\"Test Accuracy: {test_accuracy}\")"
      ],
      "outputs": [
        {
          "output_type": "stream",
          "name": "stderr",
          "text": "2024-03-08 16:37:17.438341: I tensorflow/core/platform/cpu_feature_guard.cc:193] This TensorFlow binary is optimized with oneAPI Deep Neural Network Library (oneDNN) to use the following CPU instructions in performance-critical operations:  AVX2 AVX512F FMA\nTo enable them in other operations, rebuild TensorFlow with the appropriate compiler flags.\n2024-03-08 16:37:17.570217: W tensorflow/compiler/xla/stream_executor/platform/default/dso_loader.cc:64] Could not load dynamic library 'libcudart.so.11.0'; dlerror: libcudart.so.11.0: cannot open shared object file: No such file or directory\n2024-03-08 16:37:17.570243: I tensorflow/compiler/xla/stream_executor/cuda/cudart_stub.cc:29] Ignore above cudart dlerror if you do not have a GPU set up on your machine.\n2024-03-08 16:37:18.279374: W tensorflow/compiler/xla/stream_executor/platform/default/dso_loader.cc:64] Could not load dynamic library 'libnvinfer.so.7'; dlerror: libnvinfer.so.7: cannot open shared object file: No such file or directory\n2024-03-08 16:37:18.279461: W tensorflow/compiler/xla/stream_executor/platform/default/dso_loader.cc:64] Could not load dynamic library 'libnvinfer_plugin.so.7'; dlerror: libnvinfer_plugin.so.7: cannot open shared object file: No such file or directory\n2024-03-08 16:37:18.279471: W tensorflow/compiler/tf2tensorrt/utils/py_utils.cc:38] TF-TRT Warning: Cannot dlopen some TensorRT libraries. If you would like to use Nvidia GPU with TensorRT, please make sure the missing libraries mentioned above are installed properly.\n2024-03-08 16:37:28.478530: E tensorflow/compiler/xla/stream_executor/cuda/cuda_driver.cc:267] failed call to cuInit: CUDA_ERROR_NO_DEVICE: no CUDA-capable device is detected\n2024-03-08 16:37:28.478577: I tensorflow/compiler/xla/stream_executor/cuda/cuda_diagnostics.cc:156] kernel driver does not appear to be running on this host (ed18b5k1): /proc/driver/nvidia/version does not exist\n2024-03-08 16:37:28.479087: I tensorflow/core/platform/cpu_feature_guard.cc:193] This TensorFlow binary is optimized with oneAPI Deep Neural Network Library (oneDNN) to use the following CPU instructions in performance-critical operations:  AVX2 AVX512F FMA\nTo enable them in other operations, rebuild TensorFlow with the appropriate compiler flags.\n"
        },
        {
          "output_type": "stream",
          "name": "stdout",
          "text": "Epoch 1/2\n2456/2456 [==============================] - 234s 95ms/step - loss: 0.1588 - accuracy: 0.9553 - val_loss: 0.0868 - val_accuracy: 0.9739\b\b\b\b\b\b\b\b\b\b\b\b\b\b\b\b\b\b\b\b\b\b\b\b\b\b\b\b\b\b\b\b\b\b\b\b\b\b\b\b\b\b\b\nEpoch 2/2\n2456/2456 [==============================] - 230s 94ms/step - loss: 0.0678 - accuracy: 0.9798 - val_loss: 0.0769 - val_accuracy: 0.9796\b\b\b\b\b\b\b\b\b\b\b\b\b\b\b\b\b\b\b\b\b\b\b\b\b\b\b\b\b\b\b\b\b\b\b\b\b\b\b\b\b\n527/527 [==============================] - 8s 16ms/step - loss: 0.0902 - accuracy: 0.9759\b\b\b\b\b\b\b\b\b\b\b\b\b\b\b\b\b\b\b\b\b\b\b\b\b\b\b\b\b\b\b\b\b\b\b\b\b\b\b\b\b\b\b\b\b\b\b\b\b\b\b\b\b\b\b\b\b\b\b\b\b\b\b\b\b\b\b\b\b\b\b\b\b\b\b\b\b\b\b\b\b\nTest Accuracy: 0.9758836030960083\n"
        }
      ],
      "execution_count": 15,
      "metadata": {
        "colab": {
          "base_uri": "https://localhost:8080/"
        },
        "id": "085d7ea3",
        "outputId": "e462583f-c2ce-4f8f-bf50-49b0b088b533",
        "gather": {
          "logged": 1709916321997
        },
        "editable": false,
        "run_control": {
          "frozen": true
        }
      },
      "id": "085d7ea3"
    },
    {
      "cell_type": "code",
      "source": [
        "from sklearn.metrics import confusion_matrix\n",
        "import seaborn as sns\n",
        "import matplotlib.pyplot as plt\n",
        "\n",
        "y_pred = model.predict(X_test_cnn)\n",
        "y_pred_classes = np.argmax(y_pred, axis=1)\n",
        "\n",
        "# Convert y_valid from one-hot encoded to class labels\n",
        "y_valid_classes = np.argmax(y_test, axis=1)\n",
        "\n",
        "# Compute confusion matrix\n",
        "conf_matrix = confusion_matrix(y_valid_classes, y_pred_classes)\n",
        "\n",
        "# Visualize the confusion matrix using a heatmap\n",
        "plt.figure(figsize=(8, 6))\n",
        "sns.heatmap(conf_matrix, annot=True, fmt='d', cmap='Blues', cbar=True,\n",
        "            xticklabels=classes,  # Replace with your class labels\n",
        "            yticklabels=classes)  # Replace with your class labels\n",
        "plt.xlabel('Predicted Labels')\n",
        "plt.ylabel('True Labels')\n",
        "plt.title('Confusion Matrix')\n",
        "plt.show()\n"
      ],
      "outputs": [
        {
          "output_type": "stream",
          "name": "stdout",
          "text": "527/527 [==============================] - 8s 16ms/step\b\b\b\b\b\b\b\b\b\b\b\b\b\b\b\b\b\b\b\b\b\b\b\b\b\b\b\b\b\b\b\b\b\b\b\b\b\b\b\b\b\b\b\b\b\b\b\n"
        },
        {
          "output_type": "display_data",
          "data": {
            "text/plain": "<Figure size 800x600 with 2 Axes>",
            "image/png": "[encoded data removed]"
          },
          "metadata": {}
        }
      ],
      "execution_count": 19,
      "metadata": {
        "colab": {
          "base_uri": "https://localhost:8080/",
          "height": 582
        },
        "id": "pdWAzW2HaPN4",
        "outputId": "67a5f071-58ac-4fcd-b01f-bdb427202844",
        "gather": {
          "logged": 1709916447180
        },
        "editable": false,
        "run_control": {
          "frozen": true
        }
      },
      "id": "pdWAzW2HaPN4"
    },
    {
      "cell_type": "code",
      "source": [
        "from sklearn.metrics import classification_report\n",
        "\n",
        "\n",
        "print(classification_report(y_valid_classes, y_pred_classes, target_names=classes))\n"
      ],
      "outputs": [
        {
          "output_type": "stream",
          "name": "stdout",
          "text": "                  precision    recall  f1-score   support\n\n          Normal       0.98      0.99      0.99     13513\n     Ventricular       0.92      0.95      0.93      1101\nSupraventricular       0.89      0.78      0.83       405\n          Fusion       0.77      0.70      0.73       122\n           Other       0.98      0.94      0.96      1694\n\n        accuracy                           0.98     16835\n       macro avg       0.91      0.87      0.89     16835\n    weighted avg       0.98      0.98      0.98     16835\n\n"
        }
      ],
      "execution_count": 20,
      "metadata": {
        "colab": {
          "base_uri": "https://localhost:8080/",
          "height": 381
        },
        "id": "21d58ced",
        "outputId": "4d2d9de1-c2e0-4bb8-faa8-fccea720ceaa",
        "gather": {
          "logged": 1709916459422
        },
        "editable": false,
        "run_control": {
          "frozen": true
        }
      },
      "id": "21d58ced"
    },
    {
      "cell_type": "code",
      "source": [
        "model.summary()\n"
      ],
      "outputs": [
        {
          "output_type": "stream",
          "name": "stdout",
          "text": "Model: \"sequential\"\n_________________________________________________________________\n Layer (type)                Output Shape              Param #   \n=================================================================\n conv1d (Conv1D)             (None, 2158, 64)          256       \n                                                                 \n max_pooling1d (MaxPooling1D  (None, 1079, 64)         0         \n )                                                               \n                                                                 \n conv1d_1 (Conv1D)           (None, 1077, 128)         24704     \n                                                                 \n max_pooling1d_1 (MaxPooling  (None, 538, 128)         0         \n 1D)                                                             \n                                                                 \n flatten (Flatten)           (None, 68864)             0         \n                                                                 \n dense (Dense)               (None, 128)               8814720   \n                                                                 \n dense_1 (Dense)             (None, 5)                 645       \n                                                                 \n=================================================================\nTotal params: 8,840,325\nTrainable params: 8,840,325\nNon-trainable params: 0\n_________________________________________________________________\n"
        }
      ],
      "execution_count": 21,
      "metadata": {
        "jupyter": {
          "source_hidden": false,
          "outputs_hidden": false
        },
        "nteract": {
          "transient": {
            "deleting": false
          }
        },
        "gather": {
          "logged": 1709916471367
        },
        "editable": false,
        "run_control": {
          "frozen": true
        }
      },
      "id": "4a6ef576-2ed2-4c8e-9fda-f87bfec1ec02"
    },
    {
      "cell_type": "code",
      "source": [
        "model.save(\"./models/MITSmall.keras\")\n"
      ],
      "outputs": [],
      "execution_count": 22,
      "metadata": {
        "jupyter": {
          "source_hidden": false,
          "outputs_hidden": false
        },
        "nteract": {
          "transient": {
            "deleting": false
          }
        },
        "gather": {
          "logged": 1709916505595
        },
        "editable": false,
        "run_control": {
          "frozen": true
        }
      },
      "id": "e057aba2-8f1d-45a6-8891-b653bc13b676"
    },
    {
      "cell_type": "code",
      "source": [
        "modelpath = (\"./models/\")\n",
        "tf.saved_model.save(model,modelpath )"
      ],
      "outputs": [],
      "execution_count": null,
      "metadata": {
        "jupyter": {
          "source_hidden": false,
          "outputs_hidden": false
        },
        "nteract": {
          "transient": {
            "deleting": false
          }
        },
        "gather": {
          "logged": 1709838960681
        },
        "editable": false,
        "run_control": {
          "frozen": true
        }
      },
      "id": "7e998c6c-2614-4a3c-9c11-bd27b7e4b4de"
    },
    {
      "cell_type": "code",
      "source": [
        "modelpath = (\"./models/\")\n",
        "tf.saved_model.save(model,modelpath )\n",
        "\n",
        "converter = tf.lite.TFLiteConverter.from_saved_model('./models/') # path to the SavedModel directory\n",
        "tflite_model = converter.convert()\n",
        "\n",
        "# Save the model.\n",
        "with open('model.tflite', 'wb') as f:\n",
        "  f.write(tflite_model)"
      ],
      "outputs": [],
      "execution_count": null,
      "metadata": {
        "jupyter": {
          "source_hidden": false,
          "outputs_hidden": false
        },
        "nteract": {
          "transient": {
            "deleting": false
          }
        },
        "gather": {
          "logged": 1709838960691
        },
        "editable": false,
        "run_control": {
          "frozen": true
        }
      },
      "id": "0de0bf19-4453-4b00-9bff-20d8a1ef3d65"
    },
    {
      "cell_type": "code",
      "source": [
        "\n",
        "\n",
        "converter = tf.lite.TFLiteConverter.from_keras_model(model)\n",
        "tflite_model = converter.convert()\n",
        "\n",
        "# Save the TensorFlow Lite model to a file\n",
        "with open('lighter_model.tflite', 'wb') as f:\n",
        "    f.write(tflite_model)"
      ],
      "outputs": [
        {
          "output_type": "stream",
          "name": "stderr",
          "text": "WARNING:absl:Found untraced functions such as _jit_compiled_convolution_op, _jit_compiled_convolution_op, _update_step_xla while saving (showing 3 of 3). These functions will not be directly callable after loading.\nINFO:tensorflow:Assets written to: /tmp/tmpf2sse0mp/assets\n2024-03-08 16:48:54.869030: W tensorflow/compiler/mlir/lite/python/tf_tfl_flatbuffer_helpers.cc:362] Ignored output_format.\n2024-03-08 16:48:54.869103: W tensorflow/compiler/mlir/lite/python/tf_tfl_flatbuffer_helpers.cc:365] Ignored drop_control_dependency.\n2024-03-08 16:48:54.892545: I tensorflow/cc/saved_model/reader.cc:45] Reading SavedModel from: /tmp/tmpf2sse0mp\n2024-03-08 16:48:54.894623: I tensorflow/cc/saved_model/reader.cc:89] Reading meta graph with tags { serve }\n2024-03-08 16:48:54.894652: I tensorflow/cc/saved_model/reader.cc:130] Reading SavedModel debug info (if present) from: /tmp/tmpf2sse0mp\n2024-03-08 16:48:54.904876: I tensorflow/compiler/mlir/mlir_graph_optimization_pass.cc:357] MLIR V1 optimization pass is not enabled\n2024-03-08 16:48:55.531192: I tensorflow/compiler/mlir/tensorflow/utils/dump_mlir_util.cc:268] disabling MLIR crash reproducer, set env var `MLIR_CRASH_REPRODUCER_DIRECTORY` to enable.\n"
        },
        {
          "output_type": "stream",
          "name": "stdout",
          "text": "INFO:tensorflow:Assets written to: /tmp/tmpf2sse0mp/assets\n"
        }
      ],
      "execution_count": 23,
      "metadata": {
        "jupyter": {
          "source_hidden": false,
          "outputs_hidden": false
        },
        "nteract": {
          "transient": {
            "deleting": false
          }
        },
        "gather": {
          "logged": 1709916537221
        },
        "editable": false,
        "run_control": {
          "frozen": true
        }
      },
      "id": "f6073709-4562-453e-8f9d-d9167ad2fac5"
    },
    {
      "cell_type": "code",
      "source": [
        "interpreter = tf.lite.Interpreter('my_model_2.tflite')\n",
        "input_details = interpreter.get_input_details()\n",
        "output_details = interpreter.get_output_details()\n",
        "\n"
      ],
      "outputs": [],
      "execution_count": 24,
      "metadata": {
        "jupyter": {
          "source_hidden": false,
          "outputs_hidden": false
        },
        "nteract": {
          "transient": {
            "deleting": false
          }
        },
        "gather": {
          "logged": 1709916658913
        },
        "editable": false,
        "run_control": {
          "frozen": true
        }
      },
      "id": "f42b6bc8-c137-4a2d-892e-0c27898837e4"
    },
    {
      "cell_type": "code",
      "source": [
        "print(\"Input Shape:\", input_details[0]['shape'])\n",
        "print(\"Input Type:\", input_details[0]['dtype'])\n",
        "print(\"Output Shape:\", output_details[0]['shape'])\n",
        "print(\"Output Type:\", output_details[0]['dtype'])"
      ],
      "outputs": [
        {
          "output_type": "stream",
          "name": "stdout",
          "text": "Input Shape: [   1 2160    1]\nInput Type: <class 'numpy.float32'>\nOutput Shape: [1 5]\nOutput Type: <class 'numpy.float32'>\n"
        }
      ],
      "execution_count": 25,
      "metadata": {
        "jupyter": {
          "source_hidden": false,
          "outputs_hidden": false
        },
        "nteract": {
          "transient": {
            "deleting": false
          }
        },
        "gather": {
          "logged": 1709916659946
        },
        "editable": false,
        "run_control": {
          "frozen": true
        }
      },
      "id": "9a421d44-dfc5-4565-8e6e-18222b61c39a"
    },
    {
      "cell_type": "code",
      "source": [
        "print(samp.shape)\n",
        "input_data_reshaped = np.expand_dims(samp, axis=0)\n",
        "print(input_data_reshaped.shape)"
      ],
      "outputs": [
        {
          "output_type": "stream",
          "name": "stdout",
          "text": "(2160, 1)\n(1, 2160, 1)\n"
        }
      ],
      "execution_count": 58,
      "metadata": {
        "jupyter": {
          "source_hidden": false,
          "outputs_hidden": false
        },
        "nteract": {
          "transient": {
            "deleting": false
          }
        },
        "gather": {
          "logged": 1709918691676
        },
        "editable": false,
        "run_control": {
          "frozen": true
        }
      },
      "id": "d7fb8353-dc8c-423e-9442-b3f3d5c078be"
    },
    {
      "cell_type": "code",
      "source": [
        "\n",
        "\n",
        "interpreter = tf.lite.Interpreter(model_path='lighter_model.tflite')\n",
        "interpreter.allocate_tensors()\n",
        "\n",
        "input_index = interpreter.get_input_details()[0][\"index\"]\n",
        "output_index = interpreter.get_output_details()[0][\"index\"]\n",
        "\n",
        "\n",
        "samp = samp.astype(np.float32)\n",
        "input_data = samp\n",
        "interpreter.set_tensor(input_index, input_data_reshaped)\n",
        "interpreter.invoke()\n",
        "\n",
        "output = (interpreter.get_tensor(output_index))\n",
        "predicted_class_index = np.argmax(output)\n",
        "print(predicted_class_index)\n"
      ],
      "outputs": [
        {
          "output_type": "stream",
          "name": "stdout",
          "text": "0\n"
        }
      ],
      "execution_count": 62,
      "metadata": {
        "jupyter": {
          "source_hidden": false,
          "outputs_hidden": false
        },
        "nteract": {
          "transient": {
            "deleting": false
          }
        },
        "gather": {
          "logged": 1709918837910
        },
        "editable": false,
        "run_control": {
          "frozen": true
        }
      },
      "id": "8ae0117c-81fe-41ea-82a9-274212905218"
    },
    {
      "cell_type": "code",
      "source": [],
      "outputs": [],
      "execution_count": null,
      "metadata": {
        "jupyter": {
          "source_hidden": false,
          "outputs_hidden": false
        },
        "nteract": {
          "transient": {
            "deleting": false
          }
        }
      },
      "id": "204b0378-8389-49ab-b68f-38489c0dc97b"
    },
    {
      "cell_type": "code",
      "source": [
        "print(X_test.shape)\n",
        "print(y_test.shape)\n",
        "y_numeric = np.argmax(y_test, axis=1)\n",
        "print(y_numeric.shape)"
      ],
      "outputs": [
        {
          "output_type": "stream",
          "name": "stdout",
          "text": "(16835, 2160)\n(16835, 5)\n(16835,)\n"
        }
      ],
      "execution_count": 41,
      "metadata": {
        "jupyter": {
          "source_hidden": false,
          "outputs_hidden": false
        },
        "nteract": {
          "transient": {
            "deleting": false
          }
        },
        "gather": {
          "logged": 1709989580406
        }
      },
      "id": "5c515fef-478d-4a70-b520-506c2ed7b16f"
    },
    {
      "cell_type": "code",
      "source": [
        "combined_df = pd.DataFrame(X_test)\n",
        "combined_df['label'] = y_numeric\n",
        "combined_df"
      ],
      "outputs": [
        {
          "output_type": "execute_result",
          "execution_count": 42,
          "data": {
            "text/plain": "           0      1      2      3      4      5      6      7      8      9  \\\n0     -0.805 -0.805 -0.810 -0.815 -0.820 -0.825 -0.835 -0.845 -0.860 -0.860   \n1     -0.305 -0.305 -0.285 -0.280 -0.280 -0.295 -0.310 -0.305 -0.290 -0.295   \n2     -0.215 -0.200 -0.190 -0.180 -0.180 -0.200 -0.215 -0.210 -0.205 -0.185   \n3     -1.060 -1.035 -1.030 -1.015 -1.020 -1.020 -1.025 -1.010 -1.020 -1.015   \n4     -0.305 -0.325 -0.325 -0.335 -0.310 -0.295 -0.300 -0.300 -0.320 -0.315   \n...      ...    ...    ...    ...    ...    ...    ...    ...    ...    ...   \n16830 -0.925 -0.920 -0.905 -0.895 -0.895 -0.885 -0.870 -0.845 -0.815 -0.750   \n16831 -0.320 -0.320 -0.320 -0.330 -0.320 -0.350 -0.365 -0.370 -0.365 -0.355   \n16832 -0.010 -0.010  0.005  0.005 -0.015 -0.030 -0.045 -0.045 -0.025 -0.030   \n16833 -0.355 -0.365 -0.355 -0.330 -0.330 -0.330 -0.340 -0.355 -0.335 -0.305   \n16834 -0.695 -0.695 -0.685 -0.670 -0.655 -0.665 -0.670 -0.670 -0.675 -0.680   \n\n       ...   2151   2152   2153   2154   2155   2156   2157   2158   2159  \\\n0      ...  0.620  0.790  0.930  1.065  1.195  1.340  1.405  1.360  1.145   \n1      ... -0.200 -0.195 -0.215 -0.205 -0.190 -0.160 -0.155 -0.155 -0.150   \n2      ... -0.290 -0.285 -0.305 -0.310 -0.310 -0.305 -0.290 -0.290 -0.315   \n3      ... -0.995 -1.010 -0.975 -0.955 -0.950 -0.965 -0.965 -0.970 -0.980   \n4      ... -0.170 -0.170 -0.170 -0.175 -0.190 -0.220 -0.210 -0.200 -0.200   \n...    ...    ...    ...    ...    ...    ...    ...    ...    ...    ...   \n16830  ...  0.010  0.070  0.115  0.145  0.160  0.165  0.140  0.090  0.010   \n16831  ... -0.195 -0.245 -0.295 -0.310 -0.245 -0.120  0.085  0.345  0.580   \n16832  ... -0.125 -0.140 -0.140 -0.135 -0.120 -0.115 -0.120 -0.135 -0.155   \n16833  ... -0.285 -0.285 -0.290 -0.305 -0.300 -0.300 -0.300 -0.280 -0.285   \n16834  ... -0.865 -0.840 -0.835 -0.830 -0.840 -0.845 -0.860 -0.870 -0.875   \n\n       label  \n0          2  \n1          0  \n2          0  \n3          0  \n4          1  \n...      ...  \n16830      0  \n16831      0  \n16832      0  \n16833      0  \n16834      0  \n\n[16835 rows x 2161 columns]",
            "text/html": "<div>\n<style scoped>\n    .dataframe tbody tr th:only-of-type {\n        vertical-align: middle;\n    }\n\n    .dataframe tbody tr th {\n        vertical-align: top;\n    }\n\n    .dataframe thead th {\n        text-align: right;\n    }\n</style>\n<table border=\"1\" class=\"dataframe\">\n  <thead>\n    <tr style=\"text-align: right;\">\n      <th></th>\n      <th>0</th>\n      <th>1</th>\n      <th>2</th>\n      <th>3</th>\n      <th>4</th>\n      <th>5</th>\n      <th>6</th>\n      <th>7</th>\n      <th>8</th>\n      <th>9</th>\n      <th>...</th>\n      <th>2151</th>\n      <th>2152</th>\n      <th>2153</th>\n      <th>2154</th>\n      <th>2155</th>\n      <th>2156</th>\n      <th>2157</th>\n      <th>2158</th>\n      <th>2159</th>\n      <th>label</th>\n    </tr>\n  </thead>\n  <tbody>\n    <tr>\n      <th>0</th>\n      <td>-0.805</td>\n      <td>-0.805</td>\n      <td>-0.810</td>\n      <td>-0.815</td>\n      <td>-0.820</td>\n      <td>-0.825</td>\n      <td>-0.835</td>\n      <td>-0.845</td>\n      <td>-0.860</td>\n      <td>-0.860</td>\n      <td>...</td>\n      <td>0.620</td>\n      <td>0.790</td>\n      <td>0.930</td>\n      <td>1.065</td>\n      <td>1.195</td>\n      <td>1.340</td>\n      <td>1.405</td>\n      <td>1.360</td>\n      <td>1.145</td>\n      <td>2</td>\n    </tr>\n    <tr>\n      <th>1</th>\n      <td>-0.305</td>\n      <td>-0.305</td>\n      <td>-0.285</td>\n      <td>-0.280</td>\n      <td>-0.280</td>\n      <td>-0.295</td>\n      <td>-0.310</td>\n      <td>-0.305</td>\n      <td>-0.290</td>\n      <td>-0.295</td>\n      <td>...</td>\n      <td>-0.200</td>\n      <td>-0.195</td>\n      <td>-0.215</td>\n      <td>-0.205</td>\n      <td>-0.190</td>\n      <td>-0.160</td>\n      <td>-0.155</td>\n      <td>-0.155</td>\n      <td>-0.150</td>\n      <td>0</td>\n    </tr>\n    <tr>\n      <th>2</th>\n      <td>-0.215</td>\n      <td>-0.200</td>\n      <td>-0.190</td>\n      <td>-0.180</td>\n      <td>-0.180</td>\n      <td>-0.200</td>\n      <td>-0.215</td>\n      <td>-0.210</td>\n      <td>-0.205</td>\n      <td>-0.185</td>\n      <td>...</td>\n      <td>-0.290</td>\n      <td>-0.285</td>\n      <td>-0.305</td>\n      <td>-0.310</td>\n      <td>-0.310</td>\n      <td>-0.305</td>\n      <td>-0.290</td>\n      <td>-0.290</td>\n      <td>-0.315</td>\n      <td>0</td>\n    </tr>\n    <tr>\n      <th>3</th>\n      <td>-1.060</td>\n      <td>-1.035</td>\n      <td>-1.030</td>\n      <td>-1.015</td>\n      <td>-1.020</td>\n      <td>-1.020</td>\n      <td>-1.025</td>\n      <td>-1.010</td>\n      <td>-1.020</td>\n      <td>-1.015</td>\n      <td>...</td>\n      <td>-0.995</td>\n      <td>-1.010</td>\n      <td>-0.975</td>\n      <td>-0.955</td>\n      <td>-0.950</td>\n      <td>-0.965</td>\n      <td>-0.965</td>\n      <td>-0.970</td>\n      <td>-0.980</td>\n      <td>0</td>\n    </tr>\n    <tr>\n      <th>4</th>\n      <td>-0.305</td>\n      <td>-0.325</td>\n      <td>-0.325</td>\n      <td>-0.335</td>\n      <td>-0.310</td>\n      <td>-0.295</td>\n      <td>-0.300</td>\n      <td>-0.300</td>\n      <td>-0.320</td>\n      <td>-0.315</td>\n      <td>...</td>\n      <td>-0.170</td>\n      <td>-0.170</td>\n      <td>-0.170</td>\n      <td>-0.175</td>\n      <td>-0.190</td>\n      <td>-0.220</td>\n      <td>-0.210</td>\n      <td>-0.200</td>\n      <td>-0.200</td>\n      <td>1</td>\n    </tr>\n    <tr>\n      <th>...</th>\n      <td>...</td>\n      <td>...</td>\n      <td>...</td>\n      <td>...</td>\n      <td>...</td>\n      <td>...</td>\n      <td>...</td>\n      <td>...</td>\n      <td>...</td>\n      <td>...</td>\n      <td>...</td>\n      <td>...</td>\n      <td>...</td>\n      <td>...</td>\n      <td>...</td>\n      <td>...</td>\n      <td>...</td>\n      <td>...</td>\n      <td>...</td>\n      <td>...</td>\n      <td>...</td>\n    </tr>\n    <tr>\n      <th>16830</th>\n      <td>-0.925</td>\n      <td>-0.920</td>\n      <td>-0.905</td>\n      <td>-0.895</td>\n      <td>-0.895</td>\n      <td>-0.885</td>\n      <td>-0.870</td>\n      <td>-0.845</td>\n      <td>-0.815</td>\n      <td>-0.750</td>\n      <td>...</td>\n      <td>0.010</td>\n      <td>0.070</td>\n      <td>0.115</td>\n      <td>0.145</td>\n      <td>0.160</td>\n      <td>0.165</td>\n      <td>0.140</td>\n      <td>0.090</td>\n      <td>0.010</td>\n      <td>0</td>\n    </tr>\n    <tr>\n      <th>16831</th>\n      <td>-0.320</td>\n      <td>-0.320</td>\n      <td>-0.320</td>\n      <td>-0.330</td>\n      <td>-0.320</td>\n      <td>-0.350</td>\n      <td>-0.365</td>\n      <td>-0.370</td>\n      <td>-0.365</td>\n      <td>-0.355</td>\n      <td>...</td>\n      <td>-0.195</td>\n      <td>-0.245</td>\n      <td>-0.295</td>\n      <td>-0.310</td>\n      <td>-0.245</td>\n      <td>-0.120</td>\n      <td>0.085</td>\n      <td>0.345</td>\n      <td>0.580</td>\n      <td>0</td>\n    </tr>\n    <tr>\n      <th>16832</th>\n      <td>-0.010</td>\n      <td>-0.010</td>\n      <td>0.005</td>\n      <td>0.005</td>\n      <td>-0.015</td>\n      <td>-0.030</td>\n      <td>-0.045</td>\n      <td>-0.045</td>\n      <td>-0.025</td>\n      <td>-0.030</td>\n      <td>...</td>\n      <td>-0.125</td>\n      <td>-0.140</td>\n      <td>-0.140</td>\n      <td>-0.135</td>\n      <td>-0.120</td>\n      <td>-0.115</td>\n      <td>-0.120</td>\n      <td>-0.135</td>\n      <td>-0.155</td>\n      <td>0</td>\n    </tr>\n    <tr>\n      <th>16833</th>\n      <td>-0.355</td>\n      <td>-0.365</td>\n      <td>-0.355</td>\n      <td>-0.330</td>\n      <td>-0.330</td>\n      <td>-0.330</td>\n      <td>-0.340</td>\n      <td>-0.355</td>\n      <td>-0.335</td>\n      <td>-0.305</td>\n      <td>...</td>\n      <td>-0.285</td>\n      <td>-0.285</td>\n      <td>-0.290</td>\n      <td>-0.305</td>\n      <td>-0.300</td>\n      <td>-0.300</td>\n      <td>-0.300</td>\n      <td>-0.280</td>\n      <td>-0.285</td>\n      <td>0</td>\n    </tr>\n    <tr>\n      <th>16834</th>\n      <td>-0.695</td>\n      <td>-0.695</td>\n      <td>-0.685</td>\n      <td>-0.670</td>\n      <td>-0.655</td>\n      <td>-0.665</td>\n      <td>-0.670</td>\n      <td>-0.670</td>\n      <td>-0.675</td>\n      <td>-0.680</td>\n      <td>...</td>\n      <td>-0.865</td>\n      <td>-0.840</td>\n      <td>-0.835</td>\n      <td>-0.830</td>\n      <td>-0.840</td>\n      <td>-0.845</td>\n      <td>-0.860</td>\n      <td>-0.870</td>\n      <td>-0.875</td>\n      <td>0</td>\n    </tr>\n  </tbody>\n</table>\n<p>16835 rows × 2161 columns</p>\n</div>"
          },
          "metadata": {}
        }
      ],
      "execution_count": 42,
      "metadata": {
        "jupyter": {
          "source_hidden": false,
          "outputs_hidden": false
        },
        "nteract": {
          "transient": {
            "deleting": false
          }
        },
        "gather": {
          "logged": 1709989610170
        }
      },
      "id": "7f530c2c-b03d-4493-8c0e-6375414df004"
    },
    {
      "cell_type": "code",
      "source": [
        "# Step 1: Group the combined DataFrame by the label\n",
        "grouped = combined_df.groupby('label')\n",
        "\n",
        "# Step 2: Sample 50 rows from each group\n",
        "sampled_data = []\n",
        "for label, group in grouped:\n",
        "    sampled_group = group.sample(n=50, random_state=42)  # Sample 50 rows from each group\n",
        "    sampled_data.append(sampled_group)\n",
        "\n",
        "# Step 3: Concatenate the sampled subsets into a balanced prototype set\n",
        "balanced_prototype_set = pd.concat(sampled_data)\n",
        "\n",
        "balanced_prototype_set.reset_index(drop=True, inplace=True)\n",
        "\n"
      ],
      "outputs": [],
      "execution_count": 43,
      "metadata": {
        "jupyter": {
          "source_hidden": false,
          "outputs_hidden": false
        },
        "nteract": {
          "transient": {
            "deleting": false
          }
        },
        "gather": {
          "logged": 1709989854373
        }
      },
      "id": "39d48dd7-e893-4dd6-9449-c92e9f5e6910"
    },
    {
      "cell_type": "code",
      "source": [
        "balanced_prototype_set"
      ],
      "outputs": [
        {
          "output_type": "execute_result",
          "execution_count": 44,
          "data": {
            "text/plain": "         0      1      2      3      4      5      6      7      8      9  \\\n0   -0.030 -0.075 -0.115 -0.155 -0.185 -0.195 -0.215 -0.230 -0.245 -0.255   \n1   -0.210 -0.225 -0.225 -0.240 -0.250 -0.245 -0.225 -0.230 -0.230 -0.250   \n2    0.720  0.750  0.785  0.810  0.860  0.905  0.945  0.965  0.975  0.990   \n3   -0.765 -0.765 -0.755 -0.765 -0.745 -0.725 -0.700 -0.685 -0.695 -0.685   \n4   -1.060 -1.055 -1.070 -1.080 -1.050 -1.065 -1.055 -1.045 -1.055 -1.070   \n..     ...    ...    ...    ...    ...    ...    ...    ...    ...    ...   \n245 -0.275 -0.270 -0.285 -0.290 -0.285 -0.270 -0.260 -0.265 -0.280 -0.275   \n246 -0.355 -0.350 -0.355 -0.355 -0.370 -0.360 -0.365 -0.360 -0.350 -0.345   \n247 -1.395 -1.410 -1.425 -1.440 -1.450 -1.485 -1.495 -1.525 -1.540 -1.545   \n248  0.190  0.140  0.140  0.095  0.055  0.005 -0.005 -0.040 -0.055 -0.075   \n249 -0.060 -0.050 -0.040 -0.045 -0.050 -0.050 -0.040 -0.025 -0.020 -0.025   \n\n     ...   2151   2152   2153   2154   2155   2156   2157   2158   2159  label  \n0    ... -0.260 -0.285 -0.295 -0.270 -0.255 -0.255 -0.260 -0.255 -0.265      0  \n1    ... -0.145 -0.145 -0.145 -0.120 -0.120 -0.125 -0.130 -0.140 -0.145      0  \n2    ...  0.295  0.390  0.415  0.400  0.345  0.250  0.125  0.015 -0.030      0  \n3    ... -0.615 -0.625 -0.625 -0.615 -0.615 -0.600 -0.580 -0.570 -0.555      0  \n4    ... -0.635 -0.620 -0.625 -0.600 -0.610 -0.585 -0.585 -0.600 -0.600      0  \n..   ...    ...    ...    ...    ...    ...    ...    ...    ...    ...    ...  \n245  ... -0.175 -0.160 -0.160 -0.170 -0.175 -0.180 -0.180 -0.170 -0.155      4  \n246  ...  0.025  0.020  0.015 -0.005  0.010  0.040  0.040  0.035 -0.010      4  \n247  ...  1.700  1.915  2.055  2.100  2.085  2.040  1.955  1.805  1.540      4  \n248  ... -0.285 -0.295 -0.305 -0.325 -0.325 -0.315 -0.305 -0.330 -0.345      4  \n249  ... -0.230 -0.250 -0.245 -0.235 -0.230 -0.235 -0.235 -0.245 -0.250      4  \n\n[250 rows x 2161 columns]",
            "text/html": "<div>\n<style scoped>\n    .dataframe tbody tr th:only-of-type {\n        vertical-align: middle;\n    }\n\n    .dataframe tbody tr th {\n        vertical-align: top;\n    }\n\n    .dataframe thead th {\n        text-align: right;\n    }\n</style>\n<table border=\"1\" class=\"dataframe\">\n  <thead>\n    <tr style=\"text-align: right;\">\n      <th></th>\n      <th>0</th>\n      <th>1</th>\n      <th>2</th>\n      <th>3</th>\n      <th>4</th>\n      <th>5</th>\n      <th>6</th>\n      <th>7</th>\n      <th>8</th>\n      <th>9</th>\n      <th>...</th>\n      <th>2151</th>\n      <th>2152</th>\n      <th>2153</th>\n      <th>2154</th>\n      <th>2155</th>\n      <th>2156</th>\n      <th>2157</th>\n      <th>2158</th>\n      <th>2159</th>\n      <th>label</th>\n    </tr>\n  </thead>\n  <tbody>\n    <tr>\n      <th>0</th>\n      <td>-0.030</td>\n      <td>-0.075</td>\n      <td>-0.115</td>\n      <td>-0.155</td>\n      <td>-0.185</td>\n      <td>-0.195</td>\n      <td>-0.215</td>\n      <td>-0.230</td>\n      <td>-0.245</td>\n      <td>-0.255</td>\n      <td>...</td>\n      <td>-0.260</td>\n      <td>-0.285</td>\n      <td>-0.295</td>\n      <td>-0.270</td>\n      <td>-0.255</td>\n      <td>-0.255</td>\n      <td>-0.260</td>\n      <td>-0.255</td>\n      <td>-0.265</td>\n      <td>0</td>\n    </tr>\n    <tr>\n      <th>1</th>\n      <td>-0.210</td>\n      <td>-0.225</td>\n      <td>-0.225</td>\n      <td>-0.240</td>\n      <td>-0.250</td>\n      <td>-0.245</td>\n      <td>-0.225</td>\n      <td>-0.230</td>\n      <td>-0.230</td>\n      <td>-0.250</td>\n      <td>...</td>\n      <td>-0.145</td>\n      <td>-0.145</td>\n      <td>-0.145</td>\n      <td>-0.120</td>\n      <td>-0.120</td>\n      <td>-0.125</td>\n      <td>-0.130</td>\n      <td>-0.140</td>\n      <td>-0.145</td>\n      <td>0</td>\n    </tr>\n    <tr>\n      <th>2</th>\n      <td>0.720</td>\n      <td>0.750</td>\n      <td>0.785</td>\n      <td>0.810</td>\n      <td>0.860</td>\n      <td>0.905</td>\n      <td>0.945</td>\n      <td>0.965</td>\n      <td>0.975</td>\n      <td>0.990</td>\n      <td>...</td>\n      <td>0.295</td>\n      <td>0.390</td>\n      <td>0.415</td>\n      <td>0.400</td>\n      <td>0.345</td>\n      <td>0.250</td>\n      <td>0.125</td>\n      <td>0.015</td>\n      <td>-0.030</td>\n      <td>0</td>\n    </tr>\n    <tr>\n      <th>3</th>\n      <td>-0.765</td>\n      <td>-0.765</td>\n      <td>-0.755</td>\n      <td>-0.765</td>\n      <td>-0.745</td>\n      <td>-0.725</td>\n      <td>-0.700</td>\n      <td>-0.685</td>\n      <td>-0.695</td>\n      <td>-0.685</td>\n      <td>...</td>\n      <td>-0.615</td>\n      <td>-0.625</td>\n      <td>-0.625</td>\n      <td>-0.615</td>\n      <td>-0.615</td>\n      <td>-0.600</td>\n      <td>-0.580</td>\n      <td>-0.570</td>\n      <td>-0.555</td>\n      <td>0</td>\n    </tr>\n    <tr>\n      <th>4</th>\n      <td>-1.060</td>\n      <td>-1.055</td>\n      <td>-1.070</td>\n      <td>-1.080</td>\n      <td>-1.050</td>\n      <td>-1.065</td>\n      <td>-1.055</td>\n      <td>-1.045</td>\n      <td>-1.055</td>\n      <td>-1.070</td>\n      <td>...</td>\n      <td>-0.635</td>\n      <td>-0.620</td>\n      <td>-0.625</td>\n      <td>-0.600</td>\n      <td>-0.610</td>\n      <td>-0.585</td>\n      <td>-0.585</td>\n      <td>-0.600</td>\n      <td>-0.600</td>\n      <td>0</td>\n    </tr>\n    <tr>\n      <th>...</th>\n      <td>...</td>\n      <td>...</td>\n      <td>...</td>\n      <td>...</td>\n      <td>...</td>\n      <td>...</td>\n      <td>...</td>\n      <td>...</td>\n      <td>...</td>\n      <td>...</td>\n      <td>...</td>\n      <td>...</td>\n      <td>...</td>\n      <td>...</td>\n      <td>...</td>\n      <td>...</td>\n      <td>...</td>\n      <td>...</td>\n      <td>...</td>\n      <td>...</td>\n      <td>...</td>\n    </tr>\n    <tr>\n      <th>245</th>\n      <td>-0.275</td>\n      <td>-0.270</td>\n      <td>-0.285</td>\n      <td>-0.290</td>\n      <td>-0.285</td>\n      <td>-0.270</td>\n      <td>-0.260</td>\n      <td>-0.265</td>\n      <td>-0.280</td>\n      <td>-0.275</td>\n      <td>...</td>\n      <td>-0.175</td>\n      <td>-0.160</td>\n      <td>-0.160</td>\n      <td>-0.170</td>\n      <td>-0.175</td>\n      <td>-0.180</td>\n      <td>-0.180</td>\n      <td>-0.170</td>\n      <td>-0.155</td>\n      <td>4</td>\n    </tr>\n    <tr>\n      <th>246</th>\n      <td>-0.355</td>\n      <td>-0.350</td>\n      <td>-0.355</td>\n      <td>-0.355</td>\n      <td>-0.370</td>\n      <td>-0.360</td>\n      <td>-0.365</td>\n      <td>-0.360</td>\n      <td>-0.350</td>\n      <td>-0.345</td>\n      <td>...</td>\n      <td>0.025</td>\n      <td>0.020</td>\n      <td>0.015</td>\n      <td>-0.005</td>\n      <td>0.010</td>\n      <td>0.040</td>\n      <td>0.040</td>\n      <td>0.035</td>\n      <td>-0.010</td>\n      <td>4</td>\n    </tr>\n    <tr>\n      <th>247</th>\n      <td>-1.395</td>\n      <td>-1.410</td>\n      <td>-1.425</td>\n      <td>-1.440</td>\n      <td>-1.450</td>\n      <td>-1.485</td>\n      <td>-1.495</td>\n      <td>-1.525</td>\n      <td>-1.540</td>\n      <td>-1.545</td>\n      <td>...</td>\n      <td>1.700</td>\n      <td>1.915</td>\n      <td>2.055</td>\n      <td>2.100</td>\n      <td>2.085</td>\n      <td>2.040</td>\n      <td>1.955</td>\n      <td>1.805</td>\n      <td>1.540</td>\n      <td>4</td>\n    </tr>\n    <tr>\n      <th>248</th>\n      <td>0.190</td>\n      <td>0.140</td>\n      <td>0.140</td>\n      <td>0.095</td>\n      <td>0.055</td>\n      <td>0.005</td>\n      <td>-0.005</td>\n      <td>-0.040</td>\n      <td>-0.055</td>\n      <td>-0.075</td>\n      <td>...</td>\n      <td>-0.285</td>\n      <td>-0.295</td>\n      <td>-0.305</td>\n      <td>-0.325</td>\n      <td>-0.325</td>\n      <td>-0.315</td>\n      <td>-0.305</td>\n      <td>-0.330</td>\n      <td>-0.345</td>\n      <td>4</td>\n    </tr>\n    <tr>\n      <th>249</th>\n      <td>-0.060</td>\n      <td>-0.050</td>\n      <td>-0.040</td>\n      <td>-0.045</td>\n      <td>-0.050</td>\n      <td>-0.050</td>\n      <td>-0.040</td>\n      <td>-0.025</td>\n      <td>-0.020</td>\n      <td>-0.025</td>\n      <td>...</td>\n      <td>-0.230</td>\n      <td>-0.250</td>\n      <td>-0.245</td>\n      <td>-0.235</td>\n      <td>-0.230</td>\n      <td>-0.235</td>\n      <td>-0.235</td>\n      <td>-0.245</td>\n      <td>-0.250</td>\n      <td>4</td>\n    </tr>\n  </tbody>\n</table>\n<p>250 rows × 2161 columns</p>\n</div>"
          },
          "metadata": {}
        }
      ],
      "execution_count": 44,
      "metadata": {
        "jupyter": {
          "source_hidden": false,
          "outputs_hidden": false
        },
        "nteract": {
          "transient": {
            "deleting": false
          }
        },
        "gather": {
          "logged": 1709989922978
        }
      },
      "id": "c293924c-b4a6-40f5-8ade-c1af16ece91f"
    },
    {
      "cell_type": "code",
      "source": [
        "shuffled_prototype_set = balanced_prototype_set.sample(frac=1, random_state=42)\n",
        "\n",
        "# Reset the index after shuffling\n",
        "shuffled_prototype_set.reset_index(drop=True, inplace=True)\n",
        "shuffled_prototype_set"
      ],
      "outputs": [
        {
          "output_type": "execute_result",
          "execution_count": 46,
          "data": {
            "text/plain": "         0      1      2      3      4      5      6      7      8      9  \\\n0   -0.155 -0.165 -0.175 -0.180 -0.215 -0.205 -0.195 -0.170 -0.165 -0.150   \n1   -0.225 -0.235 -0.250 -0.255 -0.255 -0.255 -0.260 -0.260 -0.265 -0.245   \n2   -0.720 -0.735 -0.765 -0.820 -0.845 -0.835 -0.850 -0.855 -0.875 -0.875   \n3   -1.210 -1.190 -1.170 -1.135 -1.120 -1.085 -1.025 -0.975 -0.925 -0.885   \n4    0.360  0.345  0.335  0.310  0.260  0.215  0.185  0.165  0.170  0.140   \n..     ...    ...    ...    ...    ...    ...    ...    ...    ...    ...   \n245 -0.230 -0.225 -0.235 -0.280 -0.310 -0.350 -0.350 -0.305 -0.260 -0.235   \n246 -0.275 -0.285 -0.305 -0.315 -0.310 -0.290 -0.275 -0.270 -0.285 -0.315   \n247 -0.930 -0.930 -0.950 -0.960 -0.970 -0.980 -0.995 -0.990 -1.005 -1.045   \n248 -0.270 -0.240 -0.210 -0.200 -0.190 -0.180 -0.195 -0.175 -0.165 -0.160   \n249 -0.150 -0.160 -0.165 -0.180 -0.195 -0.200 -0.225 -0.230 -0.220 -0.220   \n\n     ...   2151   2152   2153   2154   2155   2156   2157   2158   2159  label  \n0    ... -0.450 -0.475 -0.480 -0.490 -0.495 -0.480 -0.470 -0.460 -0.435      2  \n1    ... -0.270 -0.255 -0.230 -0.210 -0.190 -0.175 -0.130 -0.030  0.085      0  \n2    ... -0.445 -0.425 -0.420 -0.420 -0.465 -0.545 -0.610 -0.595 -0.550      1  \n3    ... -1.155 -1.140 -1.105 -1.095 -1.090 -1.090 -1.090 -1.060 -1.025      1  \n4    ... -0.230 -0.235 -0.235 -0.225 -0.205 -0.225 -0.215 -0.230 -0.230      2  \n..   ...    ...    ...    ...    ...    ...    ...    ...    ...    ...    ...  \n245  ... -0.120 -0.100 -0.085 -0.070 -0.100 -0.125 -0.115 -0.095 -0.065      2  \n246  ... -0.090 -0.085 -0.085 -0.060 -0.070 -0.095 -0.110 -0.130 -0.115      0  \n247  ... -0.020 -0.010 -0.010  0.000  0.070  0.095  0.090  0.045 -0.015      1  \n248  ... -0.880 -0.845 -0.815 -0.795 -0.785 -0.765 -0.775 -0.745 -0.720      3  \n249  ... -0.175 -0.175 -0.175 -0.205 -0.210 -0.205 -0.215 -0.250 -0.280      2  \n\n[250 rows x 2161 columns]",
            "text/html": "<div>\n<style scoped>\n    .dataframe tbody tr th:only-of-type {\n        vertical-align: middle;\n    }\n\n    .dataframe tbody tr th {\n        vertical-align: top;\n    }\n\n    .dataframe thead th {\n        text-align: right;\n    }\n</style>\n<table border=\"1\" class=\"dataframe\">\n  <thead>\n    <tr style=\"text-align: right;\">\n      <th></th>\n      <th>0</th>\n      <th>1</th>\n      <th>2</th>\n      <th>3</th>\n      <th>4</th>\n      <th>5</th>\n      <th>6</th>\n      <th>7</th>\n      <th>8</th>\n      <th>9</th>\n      <th>...</th>\n      <th>2151</th>\n      <th>2152</th>\n      <th>2153</th>\n      <th>2154</th>\n      <th>2155</th>\n      <th>2156</th>\n      <th>2157</th>\n      <th>2158</th>\n      <th>2159</th>\n      <th>label</th>\n    </tr>\n  </thead>\n  <tbody>\n    <tr>\n      <th>0</th>\n      <td>-0.155</td>\n      <td>-0.165</td>\n      <td>-0.175</td>\n      <td>-0.180</td>\n      <td>-0.215</td>\n      <td>-0.205</td>\n      <td>-0.195</td>\n      <td>-0.170</td>\n      <td>-0.165</td>\n      <td>-0.150</td>\n      <td>...</td>\n      <td>-0.450</td>\n      <td>-0.475</td>\n      <td>-0.480</td>\n      <td>-0.490</td>\n      <td>-0.495</td>\n      <td>-0.480</td>\n      <td>-0.470</td>\n      <td>-0.460</td>\n      <td>-0.435</td>\n      <td>2</td>\n    </tr>\n    <tr>\n      <th>1</th>\n      <td>-0.225</td>\n      <td>-0.235</td>\n      <td>-0.250</td>\n      <td>-0.255</td>\n      <td>-0.255</td>\n      <td>-0.255</td>\n      <td>-0.260</td>\n      <td>-0.260</td>\n      <td>-0.265</td>\n      <td>-0.245</td>\n      <td>...</td>\n      <td>-0.270</td>\n      <td>-0.255</td>\n      <td>-0.230</td>\n      <td>-0.210</td>\n      <td>-0.190</td>\n      <td>-0.175</td>\n      <td>-0.130</td>\n      <td>-0.030</td>\n      <td>0.085</td>\n      <td>0</td>\n    </tr>\n    <tr>\n      <th>2</th>\n      <td>-0.720</td>\n      <td>-0.735</td>\n      <td>-0.765</td>\n      <td>-0.820</td>\n      <td>-0.845</td>\n      <td>-0.835</td>\n      <td>-0.850</td>\n      <td>-0.855</td>\n      <td>-0.875</td>\n      <td>-0.875</td>\n      <td>...</td>\n      <td>-0.445</td>\n      <td>-0.425</td>\n      <td>-0.420</td>\n      <td>-0.420</td>\n      <td>-0.465</td>\n      <td>-0.545</td>\n      <td>-0.610</td>\n      <td>-0.595</td>\n      <td>-0.550</td>\n      <td>1</td>\n    </tr>\n    <tr>\n      <th>3</th>\n      <td>-1.210</td>\n      <td>-1.190</td>\n      <td>-1.170</td>\n      <td>-1.135</td>\n      <td>-1.120</td>\n      <td>-1.085</td>\n      <td>-1.025</td>\n      <td>-0.975</td>\n      <td>-0.925</td>\n      <td>-0.885</td>\n      <td>...</td>\n      <td>-1.155</td>\n      <td>-1.140</td>\n      <td>-1.105</td>\n      <td>-1.095</td>\n      <td>-1.090</td>\n      <td>-1.090</td>\n      <td>-1.090</td>\n      <td>-1.060</td>\n      <td>-1.025</td>\n      <td>1</td>\n    </tr>\n    <tr>\n      <th>4</th>\n      <td>0.360</td>\n      <td>0.345</td>\n      <td>0.335</td>\n      <td>0.310</td>\n      <td>0.260</td>\n      <td>0.215</td>\n      <td>0.185</td>\n      <td>0.165</td>\n      <td>0.170</td>\n      <td>0.140</td>\n      <td>...</td>\n      <td>-0.230</td>\n      <td>-0.235</td>\n      <td>-0.235</td>\n      <td>-0.225</td>\n      <td>-0.205</td>\n      <td>-0.225</td>\n      <td>-0.215</td>\n      <td>-0.230</td>\n      <td>-0.230</td>\n      <td>2</td>\n    </tr>\n    <tr>\n      <th>...</th>\n      <td>...</td>\n      <td>...</td>\n      <td>...</td>\n      <td>...</td>\n      <td>...</td>\n      <td>...</td>\n      <td>...</td>\n      <td>...</td>\n      <td>...</td>\n      <td>...</td>\n      <td>...</td>\n      <td>...</td>\n      <td>...</td>\n      <td>...</td>\n      <td>...</td>\n      <td>...</td>\n      <td>...</td>\n      <td>...</td>\n      <td>...</td>\n      <td>...</td>\n      <td>...</td>\n    </tr>\n    <tr>\n      <th>245</th>\n      <td>-0.230</td>\n      <td>-0.225</td>\n      <td>-0.235</td>\n      <td>-0.280</td>\n      <td>-0.310</td>\n      <td>-0.350</td>\n      <td>-0.350</td>\n      <td>-0.305</td>\n      <td>-0.260</td>\n      <td>-0.235</td>\n      <td>...</td>\n      <td>-0.120</td>\n      <td>-0.100</td>\n      <td>-0.085</td>\n      <td>-0.070</td>\n      <td>-0.100</td>\n      <td>-0.125</td>\n      <td>-0.115</td>\n      <td>-0.095</td>\n      <td>-0.065</td>\n      <td>2</td>\n    </tr>\n    <tr>\n      <th>246</th>\n      <td>-0.275</td>\n      <td>-0.285</td>\n      <td>-0.305</td>\n      <td>-0.315</td>\n      <td>-0.310</td>\n      <td>-0.290</td>\n      <td>-0.275</td>\n      <td>-0.270</td>\n      <td>-0.285</td>\n      <td>-0.315</td>\n      <td>...</td>\n      <td>-0.090</td>\n      <td>-0.085</td>\n      <td>-0.085</td>\n      <td>-0.060</td>\n      <td>-0.070</td>\n      <td>-0.095</td>\n      <td>-0.110</td>\n      <td>-0.130</td>\n      <td>-0.115</td>\n      <td>0</td>\n    </tr>\n    <tr>\n      <th>247</th>\n      <td>-0.930</td>\n      <td>-0.930</td>\n      <td>-0.950</td>\n      <td>-0.960</td>\n      <td>-0.970</td>\n      <td>-0.980</td>\n      <td>-0.995</td>\n      <td>-0.990</td>\n      <td>-1.005</td>\n      <td>-1.045</td>\n      <td>...</td>\n      <td>-0.020</td>\n      <td>-0.010</td>\n      <td>-0.010</td>\n      <td>0.000</td>\n      <td>0.070</td>\n      <td>0.095</td>\n      <td>0.090</td>\n      <td>0.045</td>\n      <td>-0.015</td>\n      <td>1</td>\n    </tr>\n    <tr>\n      <th>248</th>\n      <td>-0.270</td>\n      <td>-0.240</td>\n      <td>-0.210</td>\n      <td>-0.200</td>\n      <td>-0.190</td>\n      <td>-0.180</td>\n      <td>-0.195</td>\n      <td>-0.175</td>\n      <td>-0.165</td>\n      <td>-0.160</td>\n      <td>...</td>\n      <td>-0.880</td>\n      <td>-0.845</td>\n      <td>-0.815</td>\n      <td>-0.795</td>\n      <td>-0.785</td>\n      <td>-0.765</td>\n      <td>-0.775</td>\n      <td>-0.745</td>\n      <td>-0.720</td>\n      <td>3</td>\n    </tr>\n    <tr>\n      <th>249</th>\n      <td>-0.150</td>\n      <td>-0.160</td>\n      <td>-0.165</td>\n      <td>-0.180</td>\n      <td>-0.195</td>\n      <td>-0.200</td>\n      <td>-0.225</td>\n      <td>-0.230</td>\n      <td>-0.220</td>\n      <td>-0.220</td>\n      <td>...</td>\n      <td>-0.175</td>\n      <td>-0.175</td>\n      <td>-0.175</td>\n      <td>-0.205</td>\n      <td>-0.210</td>\n      <td>-0.205</td>\n      <td>-0.215</td>\n      <td>-0.250</td>\n      <td>-0.280</td>\n      <td>2</td>\n    </tr>\n  </tbody>\n</table>\n<p>250 rows × 2161 columns</p>\n</div>"
          },
          "metadata": {}
        }
      ],
      "execution_count": 46,
      "metadata": {
        "jupyter": {
          "source_hidden": false,
          "outputs_hidden": false
        },
        "nteract": {
          "transient": {
            "deleting": false
          }
        },
        "gather": {
          "logged": 1709989984758
        }
      },
      "id": "27523e0a-5fe2-411d-8bae-52fc2c59b429"
    },
    {
      "cell_type": "code",
      "source": [
        "print(tf.__version__)\n"
      ],
      "outputs": [
        {
          "output_type": "stream",
          "name": "stdout",
          "text": "2.11.1\n"
        }
      ],
      "execution_count": 17,
      "metadata": {
        "jupyter": {
          "source_hidden": false,
          "outputs_hidden": false
        },
        "nteract": {
          "transient": {
            "deleting": false
          }
        },
        "gather": {
          "logged": 1710022288459
        }
      },
      "id": "93a6c987-316e-4e85-96ea-146227e00c33"
    }
  ],
  "metadata": {
    "colab": {
      "provenance": []
    },
    "kernelspec": {
      "name": "python38-azureml-pt-tf",
      "language": "python",
      "display_name": "Python 3.8 - Pytorch and Tensorflow"
    },
    "language_info": {
      "name": "python",
      "version": "3.8.5",
      "mimetype": "text/x-python",
      "codemirror_mode": {
        "name": "ipython",
        "version": 3
      },
      "pygments_lexer": "ipython3",
      "nbconvert_exporter": "python",
      "file_extension": ".py"
    },
    "microsoft": {
      "ms_spell_check": {
        "ms_spell_check_language": "en"
      },
      "host": {
        "AzureML": {
          "notebookHasBeenCompleted": true
        }
      }
    },
    "kernel_info": {
      "name": "python38-azureml-pt-tf"
    },
    "nteract": {
      "version": "nteract-front-end@1.0.0"
    }
  },
  "nbformat": 4,
  "nbformat_minor": 5
}