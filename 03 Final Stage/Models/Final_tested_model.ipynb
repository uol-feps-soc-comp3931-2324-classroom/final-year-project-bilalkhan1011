{
  "cells": [
    {
      "cell_type": "markdown",
      "id": "389ffe15",
      "metadata": {},
      "source": [
        "# Introduction\n",
        "\n",
        "This notebook contains the final stage code for my final year project. \n",
        "\n",
        "The main tasks completes:\n",
        "- reads in the MIT-BIH Arrhythmia dataset, \n",
        "- splits it per heartbeat, \n",
        "- explores the data breifly, \n",
        "- trains a CNN model using the data,\n",
        "- evaluates the model,\n",
        "- converts into a TFlite model."
      ]
    },
    {
      "cell_type": "code",
      "execution_count": null,
      "id": "75bc0884",
      "metadata": {
        "colab": {
          "base_uri": "https://localhost:8080/"
        },
        "id": "75bc0884",
        "outputId": "4c8b9ae4-4f5f-4e20-864a-b1c5c10fbbf8",
        "scrolled": false
      },
      "outputs": [
        {
          "name": "stdout",
          "output_type": "stream",
          "text": [
            "Collecting wfdb\n",
            "  Downloading wfdb-4.1.2-py3-none-any.whl (159 kB)\n",
            "\u001b[2K     \u001b[90m━━━━━━━━━━━━━━━━━━━━━━━━━━━━━━━━━━━━━━━━\u001b[0m \u001b[32m160.0/160.0 kB\u001b[0m \u001b[31m1.4 MB/s\u001b[0m eta \u001b[36m0:00:00\u001b[0m\n",
            "\u001b[?25hRequirement already satisfied: numpy in /usr/local/lib/python3.10/dist-packages (1.25.2)\n",
            "Requirement already satisfied: pandas in /usr/local/lib/python3.10/dist-packages (2.0.3)\n",
            "Requirement already satisfied: matplotlib in /usr/local/lib/python3.10/dist-packages (3.7.1)\n",
            "Requirement already satisfied: tensorflow in /usr/local/lib/python3.10/dist-packages (2.15.0)\n",
            "Requirement already satisfied: imbalanced-learn in /usr/local/lib/python3.10/dist-packages (0.10.1)\n",
            "Requirement already satisfied: seaborn in /usr/local/lib/python3.10/dist-packages (0.13.1)\n",
            "Requirement already satisfied: SoundFile>=0.10.0 in /usr/local/lib/python3.10/dist-packages (from wfdb) (0.12.1)\n",
            "Requirement already satisfied: requests>=2.8.1 in /usr/local/lib/python3.10/dist-packages (from wfdb) (2.31.0)\n",
            "Requirement already satisfied: scipy>=1.0.0 in /usr/local/lib/python3.10/dist-packages (from wfdb) (1.11.4)\n",
            "Requirement already satisfied: python-dateutil>=2.8.2 in /usr/local/lib/python3.10/dist-packages (from pandas) (2.8.2)\n",
            "Requirement already satisfied: pytz>=2020.1 in /usr/local/lib/python3.10/dist-packages (from pandas) (2023.4)\n",
            "Requirement already satisfied: tzdata>=2022.1 in /usr/local/lib/python3.10/dist-packages (from pandas) (2024.1)\n",
            "Requirement already satisfied: contourpy>=1.0.1 in /usr/local/lib/python3.10/dist-packages (from matplotlib) (1.2.1)\n",
            "Requirement already satisfied: cycler>=0.10 in /usr/local/lib/python3.10/dist-packages (from matplotlib) (0.12.1)\n",
            "Requirement already satisfied: fonttools>=4.22.0 in /usr/local/lib/python3.10/dist-packages (from matplotlib) (4.51.0)\n",
            "Requirement already satisfied: kiwisolver>=1.0.1 in /usr/local/lib/python3.10/dist-packages (from matplotlib) (1.4.5)\n",
            "Requirement already satisfied: packaging>=20.0 in /usr/local/lib/python3.10/dist-packages (from matplotlib) (24.0)\n",
            "Requirement already satisfied: pillow>=6.2.0 in /usr/local/lib/python3.10/dist-packages (from matplotlib) (9.4.0)\n",
            "Requirement already satisfied: pyparsing>=2.3.1 in /usr/local/lib/python3.10/dist-packages (from matplotlib) (3.1.2)\n",
            "Requirement already satisfied: absl-py>=1.0.0 in /usr/local/lib/python3.10/dist-packages (from tensorflow) (1.4.0)\n",
            "Requirement already satisfied: astunparse>=1.6.0 in /usr/local/lib/python3.10/dist-packages (from tensorflow) (1.6.3)\n",
            "Requirement already satisfied: flatbuffers>=23.5.26 in /usr/local/lib/python3.10/dist-packages (from tensorflow) (24.3.25)\n",
            "Requirement already satisfied: gast!=0.5.0,!=0.5.1,!=0.5.2,>=0.2.1 in /usr/local/lib/python3.10/dist-packages (from tensorflow) (0.5.4)\n",
            "Requirement already satisfied: google-pasta>=0.1.1 in /usr/local/lib/python3.10/dist-packages (from tensorflow) (0.2.0)\n",
            "Requirement already satisfied: h5py>=2.9.0 in /usr/local/lib/python3.10/dist-packages (from tensorflow) (3.9.0)\n",
            "Requirement already satisfied: libclang>=13.0.0 in /usr/local/lib/python3.10/dist-packages (from tensorflow) (18.1.1)\n",
            "Requirement already satisfied: ml-dtypes~=0.2.0 in /usr/local/lib/python3.10/dist-packages (from tensorflow) (0.2.0)\n",
            "Requirement already satisfied: opt-einsum>=2.3.2 in /usr/local/lib/python3.10/dist-packages (from tensorflow) (3.3.0)\n",
            "Requirement already satisfied: protobuf!=4.21.0,!=4.21.1,!=4.21.2,!=4.21.3,!=4.21.4,!=4.21.5,<5.0.0dev,>=3.20.3 in /usr/local/lib/python3.10/dist-packages (from tensorflow) (3.20.3)\n",
            "Requirement already satisfied: setuptools in /usr/local/lib/python3.10/dist-packages (from tensorflow) (67.7.2)\n",
            "Requirement already satisfied: six>=1.12.0 in /usr/local/lib/python3.10/dist-packages (from tensorflow) (1.16.0)\n",
            "Requirement already satisfied: termcolor>=1.1.0 in /usr/local/lib/python3.10/dist-packages (from tensorflow) (2.4.0)\n",
            "Requirement already satisfied: typing-extensions>=3.6.6 in /usr/local/lib/python3.10/dist-packages (from tensorflow) (4.11.0)\n",
            "Requirement already satisfied: wrapt<1.15,>=1.11.0 in /usr/local/lib/python3.10/dist-packages (from tensorflow) (1.14.1)\n",
            "Requirement already satisfied: tensorflow-io-gcs-filesystem>=0.23.1 in /usr/local/lib/python3.10/dist-packages (from tensorflow) (0.36.0)\n",
            "Requirement already satisfied: grpcio<2.0,>=1.24.3 in /usr/local/lib/python3.10/dist-packages (from tensorflow) (1.62.1)\n",
            "Requirement already satisfied: tensorboard<2.16,>=2.15 in /usr/local/lib/python3.10/dist-packages (from tensorflow) (2.15.2)\n",
            "Requirement already satisfied: tensorflow-estimator<2.16,>=2.15.0 in /usr/local/lib/python3.10/dist-packages (from tensorflow) (2.15.0)\n",
            "Requirement already satisfied: keras<2.16,>=2.15.0 in /usr/local/lib/python3.10/dist-packages (from tensorflow) (2.15.0)\n",
            "Requirement already satisfied: scikit-learn>=1.0.2 in /usr/local/lib/python3.10/dist-packages (from imbalanced-learn) (1.2.2)\n",
            "Requirement already satisfied: joblib>=1.1.1 in /usr/local/lib/python3.10/dist-packages (from imbalanced-learn) (1.4.0)\n",
            "Requirement already satisfied: threadpoolctl>=2.0.0 in /usr/local/lib/python3.10/dist-packages (from imbalanced-learn) (3.4.0)\n",
            "Requirement already satisfied: wheel<1.0,>=0.23.0 in /usr/local/lib/python3.10/dist-packages (from astunparse>=1.6.0->tensorflow) (0.43.0)\n",
            "Requirement already satisfied: charset-normalizer<4,>=2 in /usr/local/lib/python3.10/dist-packages (from requests>=2.8.1->wfdb) (3.3.2)\n",
            "Requirement already satisfied: idna<4,>=2.5 in /usr/local/lib/python3.10/dist-packages (from requests>=2.8.1->wfdb) (3.7)\n",
            "Requirement already satisfied: urllib3<3,>=1.21.1 in /usr/local/lib/python3.10/dist-packages (from requests>=2.8.1->wfdb) (2.0.7)\n",
            "Requirement already satisfied: certifi>=2017.4.17 in /usr/local/lib/python3.10/dist-packages (from requests>=2.8.1->wfdb) (2024.2.2)\n",
            "Requirement already satisfied: cffi>=1.0 in /usr/local/lib/python3.10/dist-packages (from SoundFile>=0.10.0->wfdb) (1.16.0)\n",
            "Requirement already satisfied: google-auth<3,>=1.6.3 in /usr/local/lib/python3.10/dist-packages (from tensorboard<2.16,>=2.15->tensorflow) (2.27.0)\n",
            "Requirement already satisfied: google-auth-oauthlib<2,>=0.5 in /usr/local/lib/python3.10/dist-packages (from tensorboard<2.16,>=2.15->tensorflow) (1.2.0)\n",
            "Requirement already satisfied: markdown>=2.6.8 in /usr/local/lib/python3.10/dist-packages (from tensorboard<2.16,>=2.15->tensorflow) (3.6)\n",
            "Requirement already satisfied: tensorboard-data-server<0.8.0,>=0.7.0 in /usr/local/lib/python3.10/dist-packages (from tensorboard<2.16,>=2.15->tensorflow) (0.7.2)\n",
            "Requirement already satisfied: werkzeug>=1.0.1 in /usr/local/lib/python3.10/dist-packages (from tensorboard<2.16,>=2.15->tensorflow) (3.0.2)\n",
            "Requirement already satisfied: pycparser in /usr/local/lib/python3.10/dist-packages (from cffi>=1.0->SoundFile>=0.10.0->wfdb) (2.22)\n",
            "Requirement already satisfied: cachetools<6.0,>=2.0.0 in /usr/local/lib/python3.10/dist-packages (from google-auth<3,>=1.6.3->tensorboard<2.16,>=2.15->tensorflow) (5.3.3)\n",
            "Requirement already satisfied: pyasn1-modules>=0.2.1 in /usr/local/lib/python3.10/dist-packages (from google-auth<3,>=1.6.3->tensorboard<2.16,>=2.15->tensorflow) (0.4.0)\n",
            "Requirement already satisfied: rsa<5,>=3.1.4 in /usr/local/lib/python3.10/dist-packages (from google-auth<3,>=1.6.3->tensorboard<2.16,>=2.15->tensorflow) (4.9)\n",
            "Requirement already satisfied: requests-oauthlib>=0.7.0 in /usr/local/lib/python3.10/dist-packages (from google-auth-oauthlib<2,>=0.5->tensorboard<2.16,>=2.15->tensorflow) (1.3.1)\n",
            "Requirement already satisfied: MarkupSafe>=2.1.1 in /usr/local/lib/python3.10/dist-packages (from werkzeug>=1.0.1->tensorboard<2.16,>=2.15->tensorflow) (2.1.5)\n",
            "Requirement already satisfied: pyasn1<0.7.0,>=0.4.6 in /usr/local/lib/python3.10/dist-packages (from pyasn1-modules>=0.2.1->google-auth<3,>=1.6.3->tensorboard<2.16,>=2.15->tensorflow) (0.6.0)\n",
            "Requirement already satisfied: oauthlib>=3.0.0 in /usr/local/lib/python3.10/dist-packages (from requests-oauthlib>=0.7.0->google-auth-oauthlib<2,>=0.5->tensorboard<2.16,>=2.15->tensorflow) (3.2.2)\n",
            "Installing collected packages: wfdb\n",
            "Successfully installed wfdb-4.1.2\n"
          ]
        }
      ],
      "source": [
        "%pip install wfdb numpy pandas matplotlib tensorflow imbalanced-learn seaborn"
      ]
    },
    {
      "cell_type": "code",
      "execution_count": null,
      "id": "LETyFau-5XdA",
      "metadata": {
        "colab": {
          "base_uri": "https://localhost:8080/"
        },
        "id": "LETyFau-5XdA",
        "outputId": "fe23f63e-5f49-4015-bc53-5094294b9da2"
      },
      "outputs": [
        {
          "name": "stdout",
          "output_type": "stream",
          "text": [
            "Mounted at /content/drive\n"
          ]
        }
      ],
      "source": [
        "from google.colab import drive\n",
        "drive.mount('/content/drive')"
      ]
    },
    {
      "cell_type": "code",
      "execution_count": null,
      "id": "8af333f6",
      "metadata": {
        "colab": {
          "base_uri": "https://localhost:8080/"
        },
        "id": "8af333f6",
        "outputId": "e7b2ac79-f468-4fa1-f2e0-78a3dab43f2a",
        "scrolled": false
      },
      "outputs": [
        {
          "data": {
            "text/plain": [
              "Symbol\n",
              "N    75052\n",
              "L     8075\n",
              "R     7259\n",
              "V     7130\n",
              "/     7028\n",
              "A     2546\n",
              "+     1291\n",
              "f      982\n",
              "F      803\n",
              "~      616\n",
              "!      472\n",
              "\"      437\n",
              "j      229\n",
              "x      193\n",
              "a      150\n",
              "|      132\n",
              "E      106\n",
              "J       83\n",
              "Q       33\n",
              "e       16\n",
              "[        6\n",
              "]        6\n",
              "S        2\n",
              "Name: Counts, dtype: int64"
            ]
          },
          "execution_count": 3,
          "metadata": {},
          "output_type": "execute_result"
        }
      ],
      "source": [
        "# Import needed libraries\n",
        "import os\n",
        "import wfdb\n",
        "import numpy as np\n",
        "import pandas as pd\n",
        "\n",
        "# Load data in from google drive\n",
        "data = '/content/drive/MyDrive/mitdb1'\n",
        "\n",
        "# Split each record in datasept\n",
        "patients = [f.split('.')[0] for f in os.listdir(data) if f.endswith('.hea')]\n",
        "patients = np.sort(patients)\n",
        "labels_df = pd.DataFrame()\n",
        "\n",
        "for pat_id in patients:\n",
        "    file = os.path.join(data, pat_id)\n",
        "    annotation = wfdb.rdann(file, 'atr')\n",
        "\n",
        "    #sym is the annotated symbol read from the file\n",
        "    labels = annotation.symbol\n",
        "\n",
        "    #values is the different symbols in each patient\n",
        "    #counts is the number of each symbol for said patient\n",
        "    vals, cts = np.unique(labels, return_counts=True)\n",
        "\n",
        "    #df_sub is a mini lil dataframe for each individual patient\n",
        "    df_per_pat = pd.DataFrame({'Symbol':vals, 'Counts':cts, 'Patient':[pat_id]*len(cts)})\n",
        "    labels_df = pd.concat([labels_df, df_per_pat],axis = 0)\n",
        "\n",
        "labels_df.groupby('Symbol').Counts.sum().sort_values(ascending = False)"
      ]
    },
    {
      "cell_type": "markdown",
      "id": "7f6e516d",
      "metadata": {},
      "source": [
        "### Exploring each beat label shows there are 23 in total with varying amounts for each label, a clear immbalance is already spotted with the N class being huge."
      ]
    },
    {
      "cell_type": "code",
      "execution_count": null,
      "id": "kzkeIhVK8qs1",
      "metadata": {
        "colab": {
          "base_uri": "https://localhost:8080/"
        },
        "id": "kzkeIhVK8qs1",
        "outputId": "dd833226-8d81-4583-be3f-6050b490d355"
      },
      "outputs": [
        {
          "name": "stdout",
          "output_type": "stream",
          "text": [
            "['!' '\"' '+' '/' 'A' 'E' 'F' 'J' 'L' 'N' 'Q' 'R' 'S' 'V' '[' ']' 'a' 'e'\n",
            " 'f' 'j' 'x' '|' '~']\n",
            "23\n"
          ]
        }
      ],
      "source": [
        "print(np.unique(labels_df.Symbol))\n",
        "print(len(np.unique(labels_df.Symbol)))"
      ]
    },
    {
      "cell_type": "code",
      "execution_count": null,
      "id": "6fde478a",
      "metadata": {
        "id": "6fde478a"
      },
      "outputs": [],
      "source": [
        "# For first stage, consider N as normal heartbeats, all others are irregular or noise (according to found article).\n",
        "other = ['/','f','j','a']\n",
        "normal = ['N','L','R','e']\n",
        "ventricular = ['V','E']\n",
        "supraventricular = ['S','J','A','a']\n",
        "fusion = ['F']\n",
        "\n",
        "#AAMI_labels = [['N', 'L', 'R', 'e'], ['V', 'E'], ['S', 'J', 'A', 'a'], ['F'], ['/', 'f', 'j', 'a']]\n",
        "#classes = [label for sublist in AAMI_labels for label in sublist]\n",
        "\n",
        "AAMI_labels = [['N', 'L', 'R', 'e'], ['V', 'E'], ['S', 'J', 'A', 'a'], ['F'], ['/', 'f', 'j', 'a']]\n",
        "\n",
        "# Define your classes\n",
        "classes = ['Normal', 'Ventricular', 'Supraventricular', 'Fusion', 'Other']\n",
        "\n",
        "\n"
      ]
    },
    {
      "cell_type": "code",
      "execution_count": null,
      "id": "ddefbdac",
      "metadata": {
        "id": "ddefbdac"
      },
      "outputs": [],
      "source": [
        "# used to load in the entire ECG dataset,\n",
        "# get the signal and label,\n",
        "# read the symbols and signal\n",
        "\n",
        "def load_ecg(file):\n",
        "\n",
        "    record = wfdb.rdrecord(file)\n",
        "    annotation = wfdb.rdann(file, 'atr')\n",
        "    p_signal = record.p_signal\n",
        "    symbol_ann = annotation.symbol\n",
        "    sample_ann = annotation.sample\n",
        "\n",
        "    return p_signal, symbol_ann, sample_ann"
      ]
    },
    {
      "cell_type": "code",
      "execution_count": null,
      "id": "e7fbef45",
      "metadata": {
        "id": "e7fbef45"
      },
      "outputs": [],
      "source": [
        "# creates dataset for model training\n",
        "\n",
        "def make_dataset(patients, seconds, frequency, classes):\n",
        "\n",
        "  #set number of data points\n",
        "  columns = 2 * seconds * frequency\n",
        "  data_X = np.zeros((1,columns))\n",
        "  data_Y = np.zeros((1,len(classes)))\n",
        "  data_Labels = []\n",
        "\n",
        "  rows_per_patient = []\n",
        "\n",
        "  for pat in patients:\n",
        "    file = os.path.join(data, pat)\n",
        "    p_signal, symbol_ann, sample_ann = load_ecg(file)\n",
        "\n",
        "    # only using one lead for simplicity\n",
        "    p_signal = p_signal[:,0]\n",
        "\n",
        "    # make df without the noise symbols\n",
        "    df_data = pd.DataFrame({'symbol_ann':symbol_ann, 'sample_ann':sample_ann})\n",
        "    #df_data = df_data.loc[df_data.symbol_ann.isin(classes)]\n",
        "    df_data['symbol_ann'] = df_data['symbol_ann'].apply(lambda x: next((class_name for class_name, label_list in zip(classes, AAMI_labels) if x in label_list), 'Other'))\n",
        "\n",
        "\n",
        "\n",
        "    rows = len(df_data)\n",
        "    X = np.zeros((rows, columns))\n",
        "    Y = np.zeros((rows,len(classes)))\n",
        "    symbs = []\n",
        "\n",
        "    # keep track of rows\n",
        "    maximum_rows = 0\n",
        "\n",
        "    for sample_ann, symbol_ann in zip(df_data.sample_ann.values,df_data.symbol_ann.values):\n",
        "        left = max([0,(sample_ann - seconds * frequency) ])\n",
        "        right = min([len(p_signal),(sample_ann + seconds * frequency) ])\n",
        "        x = p_signal[left: right]\n",
        "        if len(x) == columns:\n",
        "            X[maximum_rows,:] = x\n",
        "            class_index = classes.index(symbol_ann)\n",
        "            Y[maximum_rows, class_index] = 1\n",
        "            maximum_rows += 1\n",
        "\n",
        "    X = X[:maximum_rows,:]\n",
        "    Y = Y[:maximum_rows,:]\n",
        "\n",
        "    data_Labels += df_data['symbol_ann'].tolist()\n",
        "    data_X = np.append(data_X,X,axis = 0)\n",
        "    data_Y = np.append(data_Y,Y,axis = 0)\n",
        "\n",
        "  data_X = data_X[1:,:]\n",
        "  data_Y = data_Y[1:,:]\n",
        "\n",
        "  return data_X, data_Y, data_Labels"
      ]
    },
    {
      "cell_type": "code",
      "execution_count": null,
      "id": "1ebe0026",
      "metadata": {
        "id": "1ebe0026",
        "scrolled": false
      },
      "outputs": [],
      "source": [
        "X_data, Y_data, symbol_data = make_dataset(patients, 3, 360, classes)\n"
      ]
    },
    {
      "cell_type": "code",
      "execution_count": null,
      "id": "UMPxaEa1xoyk",
      "metadata": {
        "colab": {
          "base_uri": "https://localhost:8080/"
        },
        "id": "UMPxaEa1xoyk",
        "outputId": "bf810001-c247-4710-c430-66075272563a"
      },
      "outputs": [
        {
          "name": "stdout",
          "output_type": "stream",
          "text": [
            "0    90098.0\n",
            "1     7219.0\n",
            "2     2771.0\n",
            "3      801.0\n",
            "4    11344.0\n",
            "dtype: float64\n"
          ]
        }
      ],
      "source": [
        "# Look at the balance of labels in the dataset\n",
        "\n",
        "y_dataframe = pd.DataFrame(Y_data)\n",
        "\n",
        "label_counts = y_dataframe.iloc[:, 0:].sum()\n",
        "print(label_counts)"
      ]
    },
    {
      "cell_type": "markdown",
      "id": "bf8ad3d2",
      "metadata": {},
      "source": [
        "### Condensed the labels into Classes and can see that the imbalance remains, but there is a large amount of data overall."
      ]
    },
    {
      "cell_type": "code",
      "execution_count": null,
      "id": "8fe6c7fa-0a8e-420a-9084-bbe3a0e6cf39",
      "metadata": {
        "colab": {
          "base_uri": "https://localhost:8080/"
        },
        "id": "8fe6c7fa-0a8e-420a-9084-bbe3a0e6cf39",
        "outputId": "2fa68ba1-fa53-4007-8d63-c7dc3a4076d8"
      },
      "outputs": [
        {
          "name": "stdout",
          "output_type": "stream",
          "text": [
            "[1. 0. 0. 0. 0.]\n"
          ]
        }
      ],
      "source": [
        "# take a single sample to see how the label is encoded\n",
        "\n",
        "print((Y_data[1000]))"
      ]
    },
    {
      "cell_type": "code",
      "execution_count": null,
      "id": "b25e5f5d",
      "metadata": {
        "id": "b25e5f5d"
      },
      "outputs": [],
      "source": [
        "from sklearn.model_selection import train_test_split\n",
        "\n",
        "# splitting the dataset into training, validation and testing sets\n",
        "# test sets remain untouched until after model training to evaluate fairly\n",
        "\n",
        "X_train, X_temp, y_train, y_temp = train_test_split(X_data, Y_data, test_size=0.3, random_state=42)\n",
        "X_valid, X_test, y_valid, y_test = train_test_split(X_temp, y_temp, test_size=0.5, random_state=42)"
      ]
    },
    {
      "cell_type": "code",
      "execution_count": null,
      "id": "1d22a45c",
      "metadata": {
        "colab": {
          "base_uri": "https://localhost:8080/",
          "height": 444
        },
        "id": "1d22a45c",
        "outputId": "50acebf7-f45f-4a39-ac58-8436f96e29a6"
      },
      "outputs": [
        {
          "data": {
            "application/vnd.google.colaboratory.intrinsic+json": {
              "type": "dataframe",
              "variable_name": "df4"
            },
            "text/html": [
              "\n",
              "  <div id=\"df-84300697-0874-456f-ab03-bc22ad007ab4\" class=\"colab-df-container\">\n",
              "    <div>\n",
              "<style scoped>\n",
              "    .dataframe tbody tr th:only-of-type {\n",
              "        vertical-align: middle;\n",
              "    }\n",
              "\n",
              "    .dataframe tbody tr th {\n",
              "        vertical-align: top;\n",
              "    }\n",
              "\n",
              "    .dataframe thead th {\n",
              "        text-align: right;\n",
              "    }\n",
              "</style>\n",
              "<table border=\"1\" class=\"dataframe\">\n",
              "  <thead>\n",
              "    <tr style=\"text-align: right;\">\n",
              "      <th></th>\n",
              "      <th>0</th>\n",
              "      <th>1</th>\n",
              "      <th>2</th>\n",
              "      <th>3</th>\n",
              "      <th>4</th>\n",
              "      <th>5</th>\n",
              "      <th>6</th>\n",
              "      <th>7</th>\n",
              "      <th>8</th>\n",
              "      <th>9</th>\n",
              "      <th>...</th>\n",
              "      <th>2150</th>\n",
              "      <th>2151</th>\n",
              "      <th>2152</th>\n",
              "      <th>2153</th>\n",
              "      <th>2154</th>\n",
              "      <th>2155</th>\n",
              "      <th>2156</th>\n",
              "      <th>2157</th>\n",
              "      <th>2158</th>\n",
              "      <th>2159</th>\n",
              "    </tr>\n",
              "  </thead>\n",
              "  <tbody>\n",
              "    <tr>\n",
              "      <th>0</th>\n",
              "      <td>-0.825</td>\n",
              "      <td>-0.815</td>\n",
              "      <td>-0.805</td>\n",
              "      <td>-0.805</td>\n",
              "      <td>-0.795</td>\n",
              "      <td>-0.785</td>\n",
              "      <td>-0.760</td>\n",
              "      <td>-0.765</td>\n",
              "      <td>-0.740</td>\n",
              "      <td>-0.710</td>\n",
              "      <td>...</td>\n",
              "      <td>-0.520</td>\n",
              "      <td>-0.525</td>\n",
              "      <td>-0.525</td>\n",
              "      <td>-0.530</td>\n",
              "      <td>-0.540</td>\n",
              "      <td>-0.550</td>\n",
              "      <td>-0.550</td>\n",
              "      <td>-0.540</td>\n",
              "      <td>-0.545</td>\n",
              "      <td>-0.535</td>\n",
              "    </tr>\n",
              "    <tr>\n",
              "      <th>1</th>\n",
              "      <td>-0.370</td>\n",
              "      <td>-0.370</td>\n",
              "      <td>-0.365</td>\n",
              "      <td>-0.350</td>\n",
              "      <td>-0.335</td>\n",
              "      <td>-0.320</td>\n",
              "      <td>-0.300</td>\n",
              "      <td>-0.265</td>\n",
              "      <td>-0.255</td>\n",
              "      <td>-0.250</td>\n",
              "      <td>...</td>\n",
              "      <td>-0.265</td>\n",
              "      <td>-0.285</td>\n",
              "      <td>-0.300</td>\n",
              "      <td>-0.300</td>\n",
              "      <td>-0.295</td>\n",
              "      <td>-0.270</td>\n",
              "      <td>-0.255</td>\n",
              "      <td>-0.255</td>\n",
              "      <td>-0.250</td>\n",
              "      <td>-0.230</td>\n",
              "    </tr>\n",
              "    <tr>\n",
              "      <th>2</th>\n",
              "      <td>-0.225</td>\n",
              "      <td>-0.220</td>\n",
              "      <td>-0.215</td>\n",
              "      <td>-0.220</td>\n",
              "      <td>-0.235</td>\n",
              "      <td>-0.270</td>\n",
              "      <td>-0.270</td>\n",
              "      <td>-0.275</td>\n",
              "      <td>-0.265</td>\n",
              "      <td>-0.250</td>\n",
              "      <td>...</td>\n",
              "      <td>-0.340</td>\n",
              "      <td>-0.330</td>\n",
              "      <td>-0.320</td>\n",
              "      <td>-0.325</td>\n",
              "      <td>-0.335</td>\n",
              "      <td>-0.340</td>\n",
              "      <td>-0.330</td>\n",
              "      <td>-0.325</td>\n",
              "      <td>-0.315</td>\n",
              "      <td>-0.335</td>\n",
              "    </tr>\n",
              "    <tr>\n",
              "      <th>3</th>\n",
              "      <td>-0.260</td>\n",
              "      <td>-0.260</td>\n",
              "      <td>-0.270</td>\n",
              "      <td>-0.260</td>\n",
              "      <td>-0.250</td>\n",
              "      <td>-0.255</td>\n",
              "      <td>-0.245</td>\n",
              "      <td>-0.250</td>\n",
              "      <td>-0.255</td>\n",
              "      <td>-0.250</td>\n",
              "      <td>...</td>\n",
              "      <td>-0.375</td>\n",
              "      <td>-0.365</td>\n",
              "      <td>-0.360</td>\n",
              "      <td>-0.345</td>\n",
              "      <td>-0.330</td>\n",
              "      <td>-0.320</td>\n",
              "      <td>-0.310</td>\n",
              "      <td>-0.320</td>\n",
              "      <td>-0.310</td>\n",
              "      <td>-0.325</td>\n",
              "    </tr>\n",
              "    <tr>\n",
              "      <th>4</th>\n",
              "      <td>-0.640</td>\n",
              "      <td>-0.645</td>\n",
              "      <td>-0.640</td>\n",
              "      <td>-0.615</td>\n",
              "      <td>-0.600</td>\n",
              "      <td>-0.575</td>\n",
              "      <td>-0.580</td>\n",
              "      <td>-0.585</td>\n",
              "      <td>-0.585</td>\n",
              "      <td>-0.585</td>\n",
              "      <td>...</td>\n",
              "      <td>-0.880</td>\n",
              "      <td>-0.880</td>\n",
              "      <td>-0.885</td>\n",
              "      <td>-0.880</td>\n",
              "      <td>-0.880</td>\n",
              "      <td>-0.875</td>\n",
              "      <td>-0.870</td>\n",
              "      <td>-0.870</td>\n",
              "      <td>-0.880</td>\n",
              "      <td>-0.895</td>\n",
              "    </tr>\n",
              "    <tr>\n",
              "      <th>...</th>\n",
              "      <td>...</td>\n",
              "      <td>...</td>\n",
              "      <td>...</td>\n",
              "      <td>...</td>\n",
              "      <td>...</td>\n",
              "      <td>...</td>\n",
              "      <td>...</td>\n",
              "      <td>...</td>\n",
              "      <td>...</td>\n",
              "      <td>...</td>\n",
              "      <td>...</td>\n",
              "      <td>...</td>\n",
              "      <td>...</td>\n",
              "      <td>...</td>\n",
              "      <td>...</td>\n",
              "      <td>...</td>\n",
              "      <td>...</td>\n",
              "      <td>...</td>\n",
              "      <td>...</td>\n",
              "      <td>...</td>\n",
              "      <td>...</td>\n",
              "    </tr>\n",
              "    <tr>\n",
              "      <th>78558</th>\n",
              "      <td>0.720</td>\n",
              "      <td>0.705</td>\n",
              "      <td>0.700</td>\n",
              "      <td>0.690</td>\n",
              "      <td>0.675</td>\n",
              "      <td>0.655</td>\n",
              "      <td>0.640</td>\n",
              "      <td>0.605</td>\n",
              "      <td>0.580</td>\n",
              "      <td>0.555</td>\n",
              "      <td>...</td>\n",
              "      <td>-0.670</td>\n",
              "      <td>-0.670</td>\n",
              "      <td>-0.675</td>\n",
              "      <td>-0.660</td>\n",
              "      <td>-0.655</td>\n",
              "      <td>-0.660</td>\n",
              "      <td>-0.675</td>\n",
              "      <td>-0.705</td>\n",
              "      <td>-0.715</td>\n",
              "      <td>-0.725</td>\n",
              "    </tr>\n",
              "    <tr>\n",
              "      <th>78559</th>\n",
              "      <td>-0.270</td>\n",
              "      <td>-0.275</td>\n",
              "      <td>-0.270</td>\n",
              "      <td>-0.270</td>\n",
              "      <td>-0.270</td>\n",
              "      <td>-0.255</td>\n",
              "      <td>-0.265</td>\n",
              "      <td>-0.255</td>\n",
              "      <td>-0.245</td>\n",
              "      <td>-0.255</td>\n",
              "      <td>...</td>\n",
              "      <td>-0.055</td>\n",
              "      <td>-0.055</td>\n",
              "      <td>-0.055</td>\n",
              "      <td>-0.040</td>\n",
              "      <td>-0.020</td>\n",
              "      <td>-0.030</td>\n",
              "      <td>-0.035</td>\n",
              "      <td>-0.040</td>\n",
              "      <td>-0.035</td>\n",
              "      <td>-0.040</td>\n",
              "    </tr>\n",
              "    <tr>\n",
              "      <th>78560</th>\n",
              "      <td>-0.165</td>\n",
              "      <td>-0.160</td>\n",
              "      <td>-0.175</td>\n",
              "      <td>-0.175</td>\n",
              "      <td>-0.175</td>\n",
              "      <td>-0.175</td>\n",
              "      <td>-0.175</td>\n",
              "      <td>-0.160</td>\n",
              "      <td>-0.170</td>\n",
              "      <td>-0.145</td>\n",
              "      <td>...</td>\n",
              "      <td>0.130</td>\n",
              "      <td>0.145</td>\n",
              "      <td>0.155</td>\n",
              "      <td>0.165</td>\n",
              "      <td>0.180</td>\n",
              "      <td>0.195</td>\n",
              "      <td>0.215</td>\n",
              "      <td>0.230</td>\n",
              "      <td>0.250</td>\n",
              "      <td>0.265</td>\n",
              "    </tr>\n",
              "    <tr>\n",
              "      <th>78561</th>\n",
              "      <td>0.100</td>\n",
              "      <td>0.340</td>\n",
              "      <td>0.615</td>\n",
              "      <td>0.870</td>\n",
              "      <td>0.990</td>\n",
              "      <td>0.995</td>\n",
              "      <td>0.835</td>\n",
              "      <td>0.520</td>\n",
              "      <td>0.100</td>\n",
              "      <td>-0.235</td>\n",
              "      <td>...</td>\n",
              "      <td>-0.520</td>\n",
              "      <td>-0.550</td>\n",
              "      <td>-0.535</td>\n",
              "      <td>-0.500</td>\n",
              "      <td>-0.385</td>\n",
              "      <td>-0.250</td>\n",
              "      <td>-0.100</td>\n",
              "      <td>0.080</td>\n",
              "      <td>0.310</td>\n",
              "      <td>0.590</td>\n",
              "    </tr>\n",
              "    <tr>\n",
              "      <th>78562</th>\n",
              "      <td>1.070</td>\n",
              "      <td>1.030</td>\n",
              "      <td>0.985</td>\n",
              "      <td>0.965</td>\n",
              "      <td>0.930</td>\n",
              "      <td>0.890</td>\n",
              "      <td>0.835</td>\n",
              "      <td>0.785</td>\n",
              "      <td>0.745</td>\n",
              "      <td>0.695</td>\n",
              "      <td>...</td>\n",
              "      <td>0.750</td>\n",
              "      <td>0.735</td>\n",
              "      <td>0.690</td>\n",
              "      <td>0.615</td>\n",
              "      <td>0.535</td>\n",
              "      <td>0.460</td>\n",
              "      <td>0.415</td>\n",
              "      <td>0.370</td>\n",
              "      <td>0.345</td>\n",
              "      <td>0.305</td>\n",
              "    </tr>\n",
              "  </tbody>\n",
              "</table>\n",
              "<p>78563 rows × 2160 columns</p>\n",
              "</div>\n",
              "    <div class=\"colab-df-buttons\">\n",
              "\n",
              "  <div class=\"colab-df-container\">\n",
              "    <button class=\"colab-df-convert\" onclick=\"convertToInteractive('df-84300697-0874-456f-ab03-bc22ad007ab4')\"\n",
              "            title=\"Convert this dataframe to an interactive table.\"\n",
              "            style=\"display:none;\">\n",
              "\n",
              "  <svg xmlns=\"http://www.w3.org/2000/svg\" height=\"24px\" viewBox=\"0 -960 960 960\">\n",
              "    <path d=\"M120-120v-720h720v720H120Zm60-500h600v-160H180v160Zm220 220h160v-160H400v160Zm0 220h160v-160H400v160ZM180-400h160v-160H180v160Zm440 0h160v-160H620v160ZM180-180h160v-160H180v160Zm440 0h160v-160H620v160Z\"/>\n",
              "  </svg>\n",
              "    </button>\n",
              "\n",
              "  <style>\n",
              "    .colab-df-container {\n",
              "      display:flex;\n",
              "      gap: 12px;\n",
              "    }\n",
              "\n",
              "    .colab-df-convert {\n",
              "      background-color: #E8F0FE;\n",
              "      border: none;\n",
              "      border-radius: 50%;\n",
              "      cursor: pointer;\n",
              "      display: none;\n",
              "      fill: #1967D2;\n",
              "      height: 32px;\n",
              "      padding: 0 0 0 0;\n",
              "      width: 32px;\n",
              "    }\n",
              "\n",
              "    .colab-df-convert:hover {\n",
              "      background-color: #E2EBFA;\n",
              "      box-shadow: 0px 1px 2px rgba(60, 64, 67, 0.3), 0px 1px 3px 1px rgba(60, 64, 67, 0.15);\n",
              "      fill: #174EA6;\n",
              "    }\n",
              "\n",
              "    .colab-df-buttons div {\n",
              "      margin-bottom: 4px;\n",
              "    }\n",
              "\n",
              "    [theme=dark] .colab-df-convert {\n",
              "      background-color: #3B4455;\n",
              "      fill: #D2E3FC;\n",
              "    }\n",
              "\n",
              "    [theme=dark] .colab-df-convert:hover {\n",
              "      background-color: #434B5C;\n",
              "      box-shadow: 0px 1px 3px 1px rgba(0, 0, 0, 0.15);\n",
              "      filter: drop-shadow(0px 1px 2px rgba(0, 0, 0, 0.3));\n",
              "      fill: #FFFFFF;\n",
              "    }\n",
              "  </style>\n",
              "\n",
              "    <script>\n",
              "      const buttonEl =\n",
              "        document.querySelector('#df-84300697-0874-456f-ab03-bc22ad007ab4 button.colab-df-convert');\n",
              "      buttonEl.style.display =\n",
              "        google.colab.kernel.accessAllowed ? 'block' : 'none';\n",
              "\n",
              "      async function convertToInteractive(key) {\n",
              "        const element = document.querySelector('#df-84300697-0874-456f-ab03-bc22ad007ab4');\n",
              "        const dataTable =\n",
              "          await google.colab.kernel.invokeFunction('convertToInteractive',\n",
              "                                                    [key], {});\n",
              "        if (!dataTable) return;\n",
              "\n",
              "        const docLinkHtml = 'Like what you see? Visit the ' +\n",
              "          '<a target=\"_blank\" href=https://colab.research.google.com/notebooks/data_table.ipynb>data table notebook</a>'\n",
              "          + ' to learn more about interactive tables.';\n",
              "        element.innerHTML = '';\n",
              "        dataTable['output_type'] = 'display_data';\n",
              "        await google.colab.output.renderOutput(dataTable, element);\n",
              "        const docLink = document.createElement('div');\n",
              "        docLink.innerHTML = docLinkHtml;\n",
              "        element.appendChild(docLink);\n",
              "      }\n",
              "    </script>\n",
              "  </div>\n",
              "\n",
              "\n",
              "<div id=\"df-d489a66a-e1f3-43ba-94a2-1c919a3ab1e9\">\n",
              "  <button class=\"colab-df-quickchart\" onclick=\"quickchart('df-d489a66a-e1f3-43ba-94a2-1c919a3ab1e9')\"\n",
              "            title=\"Suggest charts\"\n",
              "            style=\"display:none;\">\n",
              "\n",
              "<svg xmlns=\"http://www.w3.org/2000/svg\" height=\"24px\"viewBox=\"0 0 24 24\"\n",
              "     width=\"24px\">\n",
              "    <g>\n",
              "        <path d=\"M19 3H5c-1.1 0-2 .9-2 2v14c0 1.1.9 2 2 2h14c1.1 0 2-.9 2-2V5c0-1.1-.9-2-2-2zM9 17H7v-7h2v7zm4 0h-2V7h2v10zm4 0h-2v-4h2v4z\"/>\n",
              "    </g>\n",
              "</svg>\n",
              "  </button>\n",
              "\n",
              "<style>\n",
              "  .colab-df-quickchart {\n",
              "      --bg-color: #E8F0FE;\n",
              "      --fill-color: #1967D2;\n",
              "      --hover-bg-color: #E2EBFA;\n",
              "      --hover-fill-color: #174EA6;\n",
              "      --disabled-fill-color: #AAA;\n",
              "      --disabled-bg-color: #DDD;\n",
              "  }\n",
              "\n",
              "  [theme=dark] .colab-df-quickchart {\n",
              "      --bg-color: #3B4455;\n",
              "      --fill-color: #D2E3FC;\n",
              "      --hover-bg-color: #434B5C;\n",
              "      --hover-fill-color: #FFFFFF;\n",
              "      --disabled-bg-color: #3B4455;\n",
              "      --disabled-fill-color: #666;\n",
              "  }\n",
              "\n",
              "  .colab-df-quickchart {\n",
              "    background-color: var(--bg-color);\n",
              "    border: none;\n",
              "    border-radius: 50%;\n",
              "    cursor: pointer;\n",
              "    display: none;\n",
              "    fill: var(--fill-color);\n",
              "    height: 32px;\n",
              "    padding: 0;\n",
              "    width: 32px;\n",
              "  }\n",
              "\n",
              "  .colab-df-quickchart:hover {\n",
              "    background-color: var(--hover-bg-color);\n",
              "    box-shadow: 0 1px 2px rgba(60, 64, 67, 0.3), 0 1px 3px 1px rgba(60, 64, 67, 0.15);\n",
              "    fill: var(--button-hover-fill-color);\n",
              "  }\n",
              "\n",
              "  .colab-df-quickchart-complete:disabled,\n",
              "  .colab-df-quickchart-complete:disabled:hover {\n",
              "    background-color: var(--disabled-bg-color);\n",
              "    fill: var(--disabled-fill-color);\n",
              "    box-shadow: none;\n",
              "  }\n",
              "\n",
              "  .colab-df-spinner {\n",
              "    border: 2px solid var(--fill-color);\n",
              "    border-color: transparent;\n",
              "    border-bottom-color: var(--fill-color);\n",
              "    animation:\n",
              "      spin 1s steps(1) infinite;\n",
              "  }\n",
              "\n",
              "  @keyframes spin {\n",
              "    0% {\n",
              "      border-color: transparent;\n",
              "      border-bottom-color: var(--fill-color);\n",
              "      border-left-color: var(--fill-color);\n",
              "    }\n",
              "    20% {\n",
              "      border-color: transparent;\n",
              "      border-left-color: var(--fill-color);\n",
              "      border-top-color: var(--fill-color);\n",
              "    }\n",
              "    30% {\n",
              "      border-color: transparent;\n",
              "      border-left-color: var(--fill-color);\n",
              "      border-top-color: var(--fill-color);\n",
              "      border-right-color: var(--fill-color);\n",
              "    }\n",
              "    40% {\n",
              "      border-color: transparent;\n",
              "      border-right-color: var(--fill-color);\n",
              "      border-top-color: var(--fill-color);\n",
              "    }\n",
              "    60% {\n",
              "      border-color: transparent;\n",
              "      border-right-color: var(--fill-color);\n",
              "    }\n",
              "    80% {\n",
              "      border-color: transparent;\n",
              "      border-right-color: var(--fill-color);\n",
              "      border-bottom-color: var(--fill-color);\n",
              "    }\n",
              "    90% {\n",
              "      border-color: transparent;\n",
              "      border-bottom-color: var(--fill-color);\n",
              "    }\n",
              "  }\n",
              "</style>\n",
              "\n",
              "  <script>\n",
              "    async function quickchart(key) {\n",
              "      const quickchartButtonEl =\n",
              "        document.querySelector('#' + key + ' button');\n",
              "      quickchartButtonEl.disabled = true;  // To prevent multiple clicks.\n",
              "      quickchartButtonEl.classList.add('colab-df-spinner');\n",
              "      try {\n",
              "        const charts = await google.colab.kernel.invokeFunction(\n",
              "            'suggestCharts', [key], {});\n",
              "      } catch (error) {\n",
              "        console.error('Error during call to suggestCharts:', error);\n",
              "      }\n",
              "      quickchartButtonEl.classList.remove('colab-df-spinner');\n",
              "      quickchartButtonEl.classList.add('colab-df-quickchart-complete');\n",
              "    }\n",
              "    (() => {\n",
              "      let quickchartButtonEl =\n",
              "        document.querySelector('#df-d489a66a-e1f3-43ba-94a2-1c919a3ab1e9 button');\n",
              "      quickchartButtonEl.style.display =\n",
              "        google.colab.kernel.accessAllowed ? 'block' : 'none';\n",
              "    })();\n",
              "  </script>\n",
              "</div>\n",
              "    </div>\n",
              "  </div>\n"
            ],
            "text/plain": [
              "        0      1      2      3      4      5      6      7      8      9     \\\n",
              "0     -0.825 -0.815 -0.805 -0.805 -0.795 -0.785 -0.760 -0.765 -0.740 -0.710   \n",
              "1     -0.370 -0.370 -0.365 -0.350 -0.335 -0.320 -0.300 -0.265 -0.255 -0.250   \n",
              "2     -0.225 -0.220 -0.215 -0.220 -0.235 -0.270 -0.270 -0.275 -0.265 -0.250   \n",
              "3     -0.260 -0.260 -0.270 -0.260 -0.250 -0.255 -0.245 -0.250 -0.255 -0.250   \n",
              "4     -0.640 -0.645 -0.640 -0.615 -0.600 -0.575 -0.580 -0.585 -0.585 -0.585   \n",
              "...      ...    ...    ...    ...    ...    ...    ...    ...    ...    ...   \n",
              "78558  0.720  0.705  0.700  0.690  0.675  0.655  0.640  0.605  0.580  0.555   \n",
              "78559 -0.270 -0.275 -0.270 -0.270 -0.270 -0.255 -0.265 -0.255 -0.245 -0.255   \n",
              "78560 -0.165 -0.160 -0.175 -0.175 -0.175 -0.175 -0.175 -0.160 -0.170 -0.145   \n",
              "78561  0.100  0.340  0.615  0.870  0.990  0.995  0.835  0.520  0.100 -0.235   \n",
              "78562  1.070  1.030  0.985  0.965  0.930  0.890  0.835  0.785  0.745  0.695   \n",
              "\n",
              "       ...   2150   2151   2152   2153   2154   2155   2156   2157   2158  \\\n",
              "0      ... -0.520 -0.525 -0.525 -0.530 -0.540 -0.550 -0.550 -0.540 -0.545   \n",
              "1      ... -0.265 -0.285 -0.300 -0.300 -0.295 -0.270 -0.255 -0.255 -0.250   \n",
              "2      ... -0.340 -0.330 -0.320 -0.325 -0.335 -0.340 -0.330 -0.325 -0.315   \n",
              "3      ... -0.375 -0.365 -0.360 -0.345 -0.330 -0.320 -0.310 -0.320 -0.310   \n",
              "4      ... -0.880 -0.880 -0.885 -0.880 -0.880 -0.875 -0.870 -0.870 -0.880   \n",
              "...    ...    ...    ...    ...    ...    ...    ...    ...    ...    ...   \n",
              "78558  ... -0.670 -0.670 -0.675 -0.660 -0.655 -0.660 -0.675 -0.705 -0.715   \n",
              "78559  ... -0.055 -0.055 -0.055 -0.040 -0.020 -0.030 -0.035 -0.040 -0.035   \n",
              "78560  ...  0.130  0.145  0.155  0.165  0.180  0.195  0.215  0.230  0.250   \n",
              "78561  ... -0.520 -0.550 -0.535 -0.500 -0.385 -0.250 -0.100  0.080  0.310   \n",
              "78562  ...  0.750  0.735  0.690  0.615  0.535  0.460  0.415  0.370  0.345   \n",
              "\n",
              "        2159  \n",
              "0     -0.535  \n",
              "1     -0.230  \n",
              "2     -0.335  \n",
              "3     -0.325  \n",
              "4     -0.895  \n",
              "...      ...  \n",
              "78558 -0.725  \n",
              "78559 -0.040  \n",
              "78560  0.265  \n",
              "78561  0.590  \n",
              "78562  0.305  \n",
              "\n",
              "[78563 rows x 2160 columns]"
            ]
          },
          "execution_count": 13,
          "metadata": {},
          "output_type": "execute_result"
        }
      ],
      "source": [
        "# convert the training set into a dataframe to visualise each record in a table\n",
        "\n",
        "df4 = pd.DataFrame(X_train)\n",
        "\n",
        "df4"
      ]
    },
    {
      "cell_type": "code",
      "execution_count": null,
      "id": "f01ed509",
      "metadata": {
        "colab": {
          "base_uri": "https://localhost:8080/"
        },
        "id": "f01ed509",
        "outputId": "dbab4a5b-d50e-4dd0-ebcd-892927781be6"
      },
      "outputs": [
        {
          "name": "stdout",
          "output_type": "stream",
          "text": [
            "(78563, 2160)\n",
            "(78563, 5)\n",
            "(16835, 2160)\n",
            "(16835, 5)\n",
            "(16835, 2160)\n",
            "(16835, 5)\n"
          ]
        }
      ],
      "source": [
        "# print the shapes of each set to gather the amount of samples in each\n",
        "\n",
        "\n",
        "print(X_train.shape)\n",
        "print(y_train.shape)\n",
        "print(X_valid.shape)\n",
        "print(y_valid.shape)\n",
        "print(X_test.shape)\n",
        "print(y_test.shape)"
      ]
    },
    {
      "cell_type": "code",
      "execution_count": null,
      "id": "vo051BV19PJ6",
      "metadata": {
        "colab": {
          "base_uri": "https://localhost:8080/"
        },
        "id": "vo051BV19PJ6",
        "outputId": "18e5c1ba-f5c0-472f-be43-c1d2ace7ccf3"
      },
      "outputs": [
        {
          "name": "stdout",
          "output_type": "stream",
          "text": [
            "(78563, 2160, 1)\n"
          ]
        }
      ],
      "source": [
        "X_train_cnn = np.reshape(X_train, (X_train.shape[0], X_train.shape[1], 1))\n",
        "X_valid_cnn = np.reshape(X_valid, (X_valid.shape[0], X_valid.shape[1], 1))\n",
        "X_test_cnn = np.reshape(X_test, (X_test.shape[0], X_test.shape[1], 1))\n",
        "\n",
        "\n",
        "print(X_train_cnn.shape)"
      ]
    },
    {
      "cell_type": "code",
      "execution_count": null,
      "id": "58dd77e1-2003-4278-ad03-9df92c45f0e1",
      "metadata": {
        "colab": {
          "base_uri": "https://localhost:8080/"
        },
        "id": "58dd77e1-2003-4278-ad03-9df92c45f0e1",
        "outputId": "62441d48-70a7-41df-bbea-3ea677f79d98"
      },
      "outputs": [
        {
          "name": "stdout",
          "output_type": "stream",
          "text": [
            "(78563, 2160, 1)\n",
            "(2160, 1)\n"
          ]
        }
      ],
      "source": [
        "print(X_train_cnn.shape)\n",
        "print(X_train_cnn[0].shape)\n",
        "samp = X_train_cnn[3]"
      ]
    },
    {
      "cell_type": "code",
      "execution_count": null,
      "id": "7087547c-05b4-46fb-b531-2e6c4091efc1",
      "metadata": {
        "id": "7087547c-05b4-46fb-b531-2e6c4091efc1",
        "outputId": "413675d1-6fc7-42bf-c1c7-778dc9405215"
      },
      "outputs": [
        {
          "data": {
            "image/png": "[encoded data removed]",
            "text/plain": [
              "<Figure size 1000x600 with 1 Axes>"
            ]
          },
          "metadata": {},
          "output_type": "display_data"
        }
      ],
      "source": [
        "import matplotlib.pyplot as plt\n",
        "\n",
        "\n",
        "# plot a single sample while exploring data\n",
        "\n",
        "plt.figure(figsize=(10, 6))\n",
        "plt.plot(samp)\n",
        "plt.title('ECG Record')\n",
        "plt.xlabel('Sample')\n",
        "plt.ylabel('Amplitude')\n",
        "plt.grid(True)\n",
        "plt.show()"
      ]
    },
    {
      "cell_type": "markdown",
      "id": "28c2ae9c",
      "metadata": {},
      "source": [
        "### It is a good idea to visualise the data points to form a sample and take a closer look at the data. This shows a single ECG beat record and is very stable which is expected from a Holter device."
      ]
    },
    {
      "cell_type": "code",
      "execution_count": null,
      "id": "085d7ea3",
      "metadata": {
        "colab": {
          "background_save": true,
          "base_uri": "https://localhost:8080/"
        },
        "id": "085d7ea3",
        "outputId": "bc300f15-b05e-4fe3-e418-3c26c6fb5a29"
      },
      "outputs": [
        {
          "name": "stdout",
          "output_type": "stream",
          "text": [
            "Model: \"sequential_1\"\n",
            "_________________________________________________________________\n",
            " Layer (type)                Output Shape              Param #   \n",
            "=================================================================\n",
            " conv1d_2 (Conv1D)           (None, 2158, 64)          256       \n",
            "                                                                 \n",
            " max_pooling1d_2 (MaxPoolin  (None, 1079, 64)          0         \n",
            " g1D)                                                            \n",
            "                                                                 \n",
            " conv1d_3 (Conv1D)           (None, 1077, 128)         24704     \n",
            "                                                                 \n",
            " max_pooling1d_3 (MaxPoolin  (None, 538, 128)          0         \n",
            " g1D)                                                            \n",
            "                                                                 \n",
            " flatten_1 (Flatten)         (None, 68864)             0         \n",
            "                                                                 \n",
            " dense_2 (Dense)             (None, 64)                4407360   \n",
            "                                                                 \n",
            " dense_3 (Dense)             (None, 5)                 325       \n",
            "                                                                 \n",
            "=================================================================\n",
            "Total params: 4432645 (16.91 MB)\n",
            "Trainable params: 4432645 (16.91 MB)\n",
            "Non-trainable params: 0 (0.00 Byte)\n",
            "_________________________________________________________________\n",
            "Epoch 1/5\n",
            "2456/2456 [==============================] - 681s 276ms/step - loss: 0.1555 - accuracy: 0.9548 - val_loss: 0.0818 - val_accuracy: 0.9770\n",
            "Epoch 2/5\n",
            "2456/2456 [==============================] - 646s 263ms/step - loss: 0.0686 - accuracy: 0.9802 - val_loss: 0.0775 - val_accuracy: 0.9787\n",
            "Epoch 3/5\n",
            "2456/2456 [==============================] - 646s 263ms/step - loss: 0.0435 - accuracy: 0.9870 - val_loss: 0.0790 - val_accuracy: 0.9785\n",
            "Epoch 4/5\n",
            "2456/2456 [==============================] - 653s 266ms/step - loss: 0.0289 - accuracy: 0.9905 - val_loss: 0.0814 - val_accuracy: 0.9800\n",
            "Epoch 5/5\n",
            "2456/2456 [==============================] - 654s 266ms/step - loss: 0.0170 - accuracy: 0.9945 - val_loss: 0.1034 - val_accuracy: 0.9803\n",
            "527/527 [==============================] - 33s 63ms/step - loss: 0.1094 - accuracy: 0.9796\n",
            "Test Accuracy: 0.9796257615089417\n"
          ]
        }
      ],
      "source": [
        "import tensorflow as tf\n",
        "from tensorflow.keras import layers, models\n",
        "\n",
        "\n",
        "# building the CNN model for classification, scaled up incrementally\n",
        "\n",
        "model = models.Sequential()\n",
        "model.add(layers.Conv1D(64, 3, activation='relu', input_shape=(2160,1)))\n",
        "model.add(layers.MaxPooling1D(2))\n",
        "model.add(layers.Conv1D(128, 3, activation='relu'))\n",
        "model.add(layers.MaxPooling1D(2))\n",
        "model.add(layers.Flatten())\n",
        "model.add(layers.Dense(64, activation='relu'))\n",
        "model.add(layers.Dense(len(classes), activation='softmax'))  # softmax for multiclass classification\n",
        "\n",
        "# compile the model\n",
        "model.compile(optimizer='adam', loss='categorical_crossentropy', metrics=['accuracy'])\n",
        "\n",
        "model.summary()\n",
        "\n",
        "# train the model\n",
        "model.fit(X_train_cnn, y_train, epochs=5, validation_data=(X_valid_cnn, y_valid))\n",
        "\n",
        "# evaluate model on unseen test set\n",
        "test_loss, test_accuracy = model.evaluate(X_test_cnn, y_test)\n",
        "print(f\"Test Accuracy: {test_accuracy}\")"
      ]
    },
    {
      "cell_type": "markdown",
      "id": "9042c1b1",
      "metadata": {},
      "source": [
        "### Here the overall structure of the model shows how large it has grown and it's performance during training.\n",
        "### The final test accuracy is 98% which is very high but requires further evaluation."
      ]
    },
    {
      "cell_type": "code",
      "execution_count": null,
      "id": "pdWAzW2HaPN4",
      "metadata": {
        "colab": {
          "base_uri": "https://localhost:8080/",
          "height": 494
        },
        "id": "pdWAzW2HaPN4",
        "outputId": "e7cbbcb3-67bf-482f-ecab-8ad0dc01632b"
      },
      "outputs": [
        {
          "name": "stdout",
          "output_type": "stream",
          "text": [
            "527/527 [==============================] - 58s 110ms/step\n"
          ]
        },
        {
          "data": {
            "image/png": "[encoded data removed]",
            "text/plain": [
              "<Figure size 800x600 with 2 Axes>"
            ]
          },
          "metadata": {},
          "output_type": "display_data"
        }
      ],
      "source": [
        "from sklearn.metrics import confusion_matrix\n",
        "import seaborn as sns\n",
        "import matplotlib.pyplot as plt\n",
        "\n",
        "y_pred = model.predict(X_test_cnn)\n",
        "y_pred_classes = np.argmax(y_pred, axis=1)\n",
        "y_valid_classes = np.argmax(y_test, axis=1)\n",
        "\n",
        "# calculate confusion matrix\n",
        "conf_matrix = confusion_matrix(y_valid_classes, y_pred_classes)\n",
        "\n",
        "# display confusion matrix using a heatmap\n",
        "plt.figure(figsize=(8, 6))\n",
        "sns.heatmap(conf_matrix, annot=True, fmt='d', cmap='Blues', cbar=True,\n",
        "            xticklabels=classes,\n",
        "            yticklabels=classes)\n",
        "plt.xlabel('Predicted Labels')\n",
        "plt.ylabel('True Labels')\n",
        "plt.title('Confusion Matrix')\n",
        "plt.show()\n"
      ]
    },
    {
      "cell_type": "markdown",
      "id": "7cb97309",
      "metadata": {},
      "source": [
        "### Now it is possible to see every single prediciton made, it is clear that the model does well overall but there are some issues.\n",
        "### Notably, alot of normal predictions are made where they shouldn't be.\n",
        "### This might be due to the large proportion of data in the Normal class, causing it to become biased."
      ]
    },
    {
      "cell_type": "code",
      "execution_count": null,
      "id": "21d58ced",
      "metadata": {
        "colab": {
          "base_uri": "https://localhost:8080/"
        },
        "id": "21d58ced",
        "outputId": "c3807f6f-e8c4-41d6-e95f-b2296691a7d6"
      },
      "outputs": [
        {
          "name": "stdout",
          "output_type": "stream",
          "text": [
            "                  precision    recall  f1-score   support\n",
            "\n",
            "          Normal       0.98      0.99      0.99     13513\n",
            "     Ventricular       0.97      0.92      0.95      1101\n",
            "Supraventricular       0.92      0.80      0.86       405\n",
            "          Fusion       0.79      0.73      0.76       122\n",
            "           Other       0.97      0.96      0.96      1694\n",
            "\n",
            "        accuracy                           0.98     16835\n",
            "       macro avg       0.93      0.88      0.90     16835\n",
            "    weighted avg       0.98      0.98      0.98     16835\n",
            "\n"
          ]
        }
      ],
      "source": [
        "from sklearn.metrics import classification_report\n",
        "\n",
        "\n",
        "print(classification_report(y_valid_classes, y_pred_classes, target_names=classes))\n"
      ]
    },
    {
      "cell_type": "markdown",
      "id": "f0528d9e",
      "metadata": {},
      "source": [
        "### Closer look at each individual class as a metric and the overall performance.\n",
        "### Shows that Normal is much better."
      ]
    },
    {
      "cell_type": "code",
      "execution_count": null,
      "id": "4a6ef576-2ed2-4c8e-9fda-f87bfec1ec02",
      "metadata": {
        "colab": {
          "base_uri": "https://localhost:8080/"
        },
        "id": "4a6ef576-2ed2-4c8e-9fda-f87bfec1ec02",
        "outputId": "249333cb-ffb6-4000-c5fc-b8408e4aa4f4"
      },
      "outputs": [
        {
          "name": "stdout",
          "output_type": "stream",
          "text": [
            "Model: \"sequential_1\"\n",
            "_________________________________________________________________\n",
            " Layer (type)                Output Shape              Param #   \n",
            "=================================================================\n",
            " conv1d_2 (Conv1D)           (None, 2158, 64)          256       \n",
            "                                                                 \n",
            " max_pooling1d_2 (MaxPoolin  (None, 1079, 64)          0         \n",
            " g1D)                                                            \n",
            "                                                                 \n",
            " conv1d_3 (Conv1D)           (None, 1077, 128)         24704     \n",
            "                                                                 \n",
            " max_pooling1d_3 (MaxPoolin  (None, 538, 128)          0         \n",
            " g1D)                                                            \n",
            "                                                                 \n",
            " flatten_1 (Flatten)         (None, 68864)             0         \n",
            "                                                                 \n",
            " dense_2 (Dense)             (None, 64)                4407360   \n",
            "                                                                 \n",
            " dense_3 (Dense)             (None, 5)                 325       \n",
            "                                                                 \n",
            "=================================================================\n",
            "Total params: 4432645 (16.91 MB)\n",
            "Trainable params: 4432645 (16.91 MB)\n",
            "Non-trainable params: 0 (0.00 Byte)\n",
            "_________________________________________________________________\n"
          ]
        }
      ],
      "source": [
        "model.summary()\n"
      ]
    },
    {
      "cell_type": "code",
      "execution_count": null,
      "id": "7e998c6c-2614-4a3c-9c11-bd27b7e4b4de",
      "metadata": {
        "id": "7e998c6c-2614-4a3c-9c11-bd27b7e4b4de"
      },
      "outputs": [],
      "source": [
        "modelpath = (\"./models/\")\n",
        "tf.saved_model.save(model,modelpath )"
      ]
    },
    {
      "cell_type": "code",
      "execution_count": null,
      "id": "f6073709-4562-453e-8f9d-d9167ad2fac5",
      "metadata": {
        "id": "f6073709-4562-453e-8f9d-d9167ad2fac5"
      },
      "outputs": [],
      "source": [
        "converter = tf.lite.TFLiteConverter.from_keras_model(model)\n",
        "tflite_model = converter.convert()\n",
        "\n",
        "# Save the TFlite model to a file\n",
        "with open('/content/drive/MyDrive/lighter_model.tflite', 'wb') as f:\n",
        "    f.write(tflite_model)"
      ]
    }
  ],
  "metadata": {
    "colab": {
      "provenance": []
    },
    "kernel_info": {
      "name": "python38-azureml-pt-tf"
    },
    "kernelspec": {
      "display_name": "Python 3.8 - Pytorch and Tensorflow",
      "language": "python",
      "name": "python38-azureml-pt-tf"
    },
    "language_info": {
      "codemirror_mode": {
        "name": "ipython",
        "version": 3
      },
      "file_extension": ".py",
      "mimetype": "text/x-python",
      "name": "python",
      "nbconvert_exporter": "python",
      "pygments_lexer": "ipython3",
      "version": "3.8.5"
    },
    "microsoft": {
      "host": {
        "AzureML": {
          "notebookHasBeenCompleted": true
        }
      },
      "ms_spell_check": {
        "ms_spell_check_language": "en"
      }
    },
    "nteract": {
      "version": "nteract-front-end@1.0.0"
    }
  },
  "nbformat": 4,
  "nbformat_minor": 5
}
